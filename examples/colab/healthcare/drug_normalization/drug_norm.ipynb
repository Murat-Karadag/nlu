{
  "nbformat": 4,
  "nbformat_minor": 0,
  "metadata": {
    "colab": {
      "name": "drug_norm.ipynb",
      "provenance": [],
      "collapsed_sections": []
    },
    "kernelspec": {
      "name": "python3",
      "display_name": "Python 3"
    },
    "language_info": {
      "name": "python"
    }
  },
  "cells": [
    {
      "cell_type": "markdown",
      "metadata": {
        "id": "AUkmVHhvZUtj"
      },
      "source": [
        "# Transform text to the format used in the RxNorm and SNOMED standards with the drug normalizer\n",
        "\n",
        "\n",
        "![JohnSnowLabs](https://nlp.johnsnowlabs.com/assets/images/logo.png)\n",
        "\n",
        "[![Open In Colab](https://colab.research.google.com/assets/colab-badge.svg)](https://github.com/JohnSnowLabs/nlu/blob/master/examples/colab/healthcare/drug_normalization/drug_norm.ipynb)\n",
        "\n",
        "\n",
        "## 1. Install NLU, dependecies and Authenticate\n",
        "\n",
        "See the [install docs](https://nlu.johnsnowlabs.com/docs/en/install#super-quickstart-on-google-colab-or-kaggle) and [authentification docs](https://nlu.johnsnowlabs.com/docs/en/examples_hc#authorize-access-to-licensed-features-and-install-healthcare-dependencies) for more infos \n"
      ]
    },
    {
      "cell_type": "code",
      "metadata": {
        "id": "M4SGENPXisd7"
      },
      "source": [
        "!wget http://setup.johnsnowlabs.com/nlu/colab.sh -O - | bash\n",
        "import nlu\n",
        "\n",
        "\n",
        "SPARK_NLP_LICENSE     ='????'\n",
        "AWS_ACCESS_KEY_ID     ='????'\n",
        "AWS_SECRET_ACCESS_KEY ='????'\n",
        "JSL_SECRET            ='????'\n",
        "\n",
        "nlu.auth(SPARK_NLP_LICENSE,AWS_ACCESS_KEY_ID,AWS_SECRET_ACCESS_KEY,JSL_SECRET)"
      ],
      "execution_count": null,
      "outputs": []
    },
    {
      "cell_type": "markdown",
      "metadata": {
        "id": "g3NnBQLhjqET"
      },
      "source": [
        "# Drug Normalizer\n",
        "\n",
        "Normalize raw text from clinical documents, e.g. scraped web pages or xml document. Removes all dirty characters from text following one or more input regex patterns. Can apply non wanted character removal which a specific policy. Can apply lower case normalization.\n",
        "\n",
        "## Parameters are : \n",
        "- lowercase: whether to convert strings to lowercase. Default is False.\n",
        "- `policy`: rule to remove patterns from text. Valid policy values are: `all` `abbreviations`, `dosages`\n",
        "Defaults is `all`. `abbreviation` policy used to expend common drugs abbreviations, `dosages` policy used to convert drugs dosages and values to the standard form (see examples bellow).\n",
        "\n",
        "\n",
        "### Examples : \n",
        "\n",
        "Examples of transformation:\n",
        "1) \"Sodium Chloride/Potassium Chloride 13bag\" >>> \"Sodium Chloride / Potassium Chloride 13 bag\" : add extra spaces in the form entity\n",
        "\n",
        "2) \"interferon alfa-2b 10 million unit ( 1 ml ) injec\" >>> \"interferon alfa - 2b 10000000 unt ( 1 ml ) injection \" : convert 10 million unit to the 10000000 unt, replace injec with injection\n",
        "\n",
        "3) \"aspirin 10 meq/ 5 ml oral sol\" >>> \"aspirin 2 meq/ml oral solution\" : normalize 10 meq/ 5 ml to the 2 meq/ml, extend abbreviation oral sol to the oral solution\n",
        "\n",
        "4) \"adalimumab 54.5 + 43.2 gm\" >>> \"adalimumab 97700 mg\" : combine 54.5 + 43.2 and normalize gm to mg\n",
        "\n",
        "5) \"Agnogenic one half cup\" >>> \"Agnogenic 0.5 oral solution\" : replace one half to the 0.5, normalize cup to the oral solution\n",
        "\n",
        "\n",
        "\n"
      ]
    },
    {
      "cell_type": "code",
      "metadata": {
        "colab": {
          "base_uri": "https://localhost:8080/",
          "height": 204
        },
        "id": "yqzNoCEpjbBi",
        "outputId": "80200445-1c58-42bc-9cbe-a8cdbc27dafd"
      },
      "source": [
        "data = [\"Agnogenic one half cup\",\"adalimumab 54.5 + 43.2 gm\",\"aspirin 10 meq/ 5 ml oral sol\",\"interferon alfa-2b 10 million unit ( 1 ml ) injec\",\"Sodium Chloride/Potassium Chloride 13bag\"]\n",
        "nlu.load('norm_drugs').predict(data)"
      ],
      "execution_count": null,
      "outputs": [
        {
          "output_type": "execute_result",
          "data": {
            "text/html": [
              "<div>\n",
              "<style scoped>\n",
              "    .dataframe tbody tr th:only-of-type {\n",
              "        vertical-align: middle;\n",
              "    }\n",
              "\n",
              "    .dataframe tbody tr th {\n",
              "        vertical-align: top;\n",
              "    }\n",
              "\n",
              "    .dataframe thead th {\n",
              "        text-align: right;\n",
              "    }\n",
              "</style>\n",
              "<table border=\"1\" class=\"dataframe\">\n",
              "  <thead>\n",
              "    <tr style=\"text-align: right;\">\n",
              "      <th></th>\n",
              "      <th>document</th>\n",
              "      <th>text</th>\n",
              "      <th>drug_norm</th>\n",
              "    </tr>\n",
              "  </thead>\n",
              "  <tbody>\n",
              "    <tr>\n",
              "      <th>0</th>\n",
              "      <td>Agnogenic one half cup</td>\n",
              "      <td>Agnogenic one half cup</td>\n",
              "      <td>Agnogenic 0.5 oral solution</td>\n",
              "    </tr>\n",
              "    <tr>\n",
              "      <th>1</th>\n",
              "      <td>adalimumab 54.5 + 43.2 gm</td>\n",
              "      <td>adalimumab 54.5 + 43.2 gm</td>\n",
              "      <td>adalimumab 97700 mg</td>\n",
              "    </tr>\n",
              "    <tr>\n",
              "      <th>2</th>\n",
              "      <td>aspirin 10 meq/ 5 ml oral sol</td>\n",
              "      <td>aspirin 10 meq/ 5 ml oral sol</td>\n",
              "      <td>aspirin 2 meq/ml oral solution</td>\n",
              "    </tr>\n",
              "    <tr>\n",
              "      <th>3</th>\n",
              "      <td>interferon alfa-2b 10 million unit ( 1 ml ) injec</td>\n",
              "      <td>interferon alfa-2b 10 million unit ( 1 ml ) injec</td>\n",
              "      <td>interferon alfa - 2b 10000000 unt ( 1 ml ) inj...</td>\n",
              "    </tr>\n",
              "    <tr>\n",
              "      <th>4</th>\n",
              "      <td>Sodium Chloride/Potassium Chloride 13bag</td>\n",
              "      <td>Sodium Chloride/Potassium Chloride 13bag</td>\n",
              "      <td>Sodium Chloride / Potassium Chloride 13 bag</td>\n",
              "    </tr>\n",
              "  </tbody>\n",
              "</table>\n",
              "</div>"
            ],
            "text/plain": [
              "                                            document  ...                                          drug_norm\n",
              "0                             Agnogenic one half cup  ...                        Agnogenic 0.5 oral solution\n",
              "1                          adalimumab 54.5 + 43.2 gm  ...                                adalimumab 97700 mg\n",
              "2                      aspirin 10 meq/ 5 ml oral sol  ...                     aspirin 2 meq/ml oral solution\n",
              "3  interferon alfa-2b 10 million unit ( 1 ml ) injec  ...  interferon alfa - 2b 10000000 unt ( 1 ml ) inj...\n",
              "4           Sodium Chloride/Potassium Chloride 13bag  ...        Sodium Chloride / Potassium Chloride 13 bag\n",
              "\n",
              "[5 rows x 3 columns]"
            ]
          },
          "metadata": {
            "tags": []
          },
          "execution_count": 2
        }
      ]
    }
  ]
}