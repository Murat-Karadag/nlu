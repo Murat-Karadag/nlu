{
  "nbformat": 4,
  "nbformat_minor": 0,
  "metadata": {
    "colab": {
      "name": "NLU_crash_course_AI4.ipynb",
      "provenance": [],
      "collapsed_sections": []
    },
    "kernelspec": {
      "name": "python3",
      "display_name": "Python 3"
    },
    "language_info": {
      "name": "python"
    }
  },
  "cells": [
    {
      "cell_type": "markdown",
      "metadata": {
        "id": "o8rERttgz2WZ"
      },
      "source": [
        "![JohnSnowLabs](https://nlp.johnsnowlabs.com/assets/images/logo.png)\n",
        "\n",
        "[![Open In Colab](https://colab.research.google.com/assets/colab-badge.svg)](https://colab.research.google.com/github/Murat-Karadag/nlu/blob/master/examples/webinars_conferences_etc/AI4_2021/NLU_crash_course_AI4.ipynb)\n",
        "\n",
        "\n",
        "<div>\n",
        "<img src=\"http://ckl-it.de/wp-content/uploads/2021/07/unnamed.png\" width=\"400\"  height=\"250\" >\n",
        "</div>\n",
        "\n",
        "\n",
        "\n",
        "\n",
        "# NLU 20 Minutes Crashcourse - the fast Data Science route\n",
        "This short notebook will teach you a lot of things!\n",
        "- Sentiment classification, binary, multi class and regressive\n",
        "- Extract Parts of Speech (POS)\n",
        "- Extract Named Entities (NER)\n",
        "- Extract Keywords (YAKE!)\n",
        "- Answer Open and Closed book questions with T5\n",
        "- Summarize text and more with Multi task T5\n",
        "- Translate text with Microsofts Marian Model\n",
        "- Train a Multi Lingual Classifier for 100+ languages from a dataset with just one language\n",
        "\n",
        "## More ressources \n",
        "- [Join our Slack](https://join.slack.com/t/spark-nlp/shared_invite/zt-lutct9gm-kuUazcyFKhuGY3_0AMkxqA)\n",
        "- [NLU Website](https://nlu.johnsnowlabs.com/)\n",
        "- [NLU Github](https://github.com/JohnSnowLabs/nlu)\n",
        "- [Many more NLU example tutorials](https://github.com/JohnSnowLabs/nlu/tree/master/examples)\n",
        "- [Overview of every powerful nlu 1-liner](https://nlu.johnsnowlabs.com/docs/en/examples)\n",
        "- [Checkout the Modelshub for an overview of all models](https://nlp.johnsnowlabs.com/models) \n",
        "- [Checkout the NLU Namespace where you can find every model as a tabel](https://nlu.johnsnowlabs.com/docs/en/spellbook)\n",
        "- [Intro to NLU article](https://medium.com/spark-nlp/1-line-of-code-350-nlp-models-with-john-snow-labs-nlu-in-python-2f1c55bba619)\n",
        "- [Indepth and easy Sentence Similarity Tutorial, with StackOverflow Questions using BERTology embeddings](https://medium.com/spark-nlp/easy-sentence-similarity-with-bert-sentence-embeddings-using-john-snow-labs-nlu-ea078deb6ebf)\n",
        "- [1 line of Python code for BERT, ALBERT, ELMO, ELECTRA, XLNET, GLOVE, Part of Speech with NLU and t-SNE](https://medium.com/spark-nlp/1-line-of-code-for-bert-albert-elmo-electra-xlnet-glove-part-of-speech-with-nlu-and-t-sne-9ebcd5379cd)\n",
        "- [Streamlit visualizations](https://nlu.johnsnowlabs.com/docs/en/streamlit_viz_examples)\n",
        "- [Colab Visualizations](https://nlu.johnsnowlabs.com/docs/en/viz_examples)"
      ]
    },
    {
      "cell_type": "markdown",
      "metadata": {
        "id": "GAVkEjc2l_jv"
      },
      "source": [
        "# Install NLU\n",
        "You need Java8, Pyspark and Spark-NLP installed, [see the installation guide for instructions](https://nlu.johnsnowlabs.com/docs/en/install). If you need help or run into troubles, [ping us on slack :)](https://join.slack.com/t/spark-nlp/shared_invite/zt-lutct9gm-kuUazcyFKhuGY3_0AMkxqA) "
      ]
    },
    {
      "cell_type": "code",
      "metadata": {
        "id": "jW47xThBKEhm",
        "colab": {
          "base_uri": "https://localhost:8080/"
        },
        "outputId": "9c5785d5-1bc9-4b34-cf97-56e25cb6f26d"
      },
      "source": [
        "!wget http://setup.johnsnowlabs.com/nlu/colab.sh -O - | bash\n",
        "\n",
        "import nlu\n"
      ],
      "execution_count": 1,
      "outputs": [
        {
          "output_type": "stream",
          "text": [
            "--2021-07-12 23:14:27--  http://setup.johnsnowlabs.com/nlu/colab.sh\n",
            "Resolving setup.johnsnowlabs.com (setup.johnsnowlabs.com)... 51.158.130.125\n",
            "Connecting to setup.johnsnowlabs.com (setup.johnsnowlabs.com)|51.158.130.125|:80... connected.\n",
            "HTTP request sent, awaiting response... 302 Moved Temporarily\n",
            "Location: https://raw.githubusercontent.com/JohnSnowLabs/nlu/master/scripts/colab_setup.sh [following]\n",
            "--2021-07-12 23:14:27--  https://raw.githubusercontent.com/JohnSnowLabs/nlu/master/scripts/colab_setup.sh\n",
            "Resolving raw.githubusercontent.com (raw.githubusercontent.com)... 185.199.109.133, 185.199.108.133, 185.199.111.133, ...\n",
            "Connecting to raw.githubusercontent.com (raw.githubusercontent.com)|185.199.109.133|:443... connected.\n",
            "HTTP request sent, awaiting response... 200 OK\n",
            "Length: 1662 (1.6K) [text/plain]\n",
            "Saving to: ‘STDOUT’\n",
            "\n",
            "-                     0%[                    ]       0  --.-KB/s               Installing  NLU 3.1.0 with  PySpark 3.0.3 and Spark NLP 3.1.1 for Google Colab ...\n",
            "-                   100%[===================>]   1.62K  --.-KB/s    in 0.001s  \n",
            "\n",
            "2021-07-12 23:14:27 (1.40 MB/s) - written to stdout [1662/1662]\n",
            "\n",
            "Get:1 http://security.ubuntu.com/ubuntu bionic-security InRelease [88.7 kB]\n",
            "Get:2 https://cloud.r-project.org/bin/linux/ubuntu bionic-cran40/ InRelease [3,626 B]\n",
            "Ign:3 https://developer.download.nvidia.com/compute/cuda/repos/ubuntu1804/x86_64  InRelease\n",
            "Get:4 http://ppa.launchpad.net/c2d4u.team/c2d4u4.0+/ubuntu bionic InRelease [15.9 kB]\n",
            "Ign:5 https://developer.download.nvidia.com/compute/machine-learning/repos/ubuntu1804/x86_64  InRelease\n",
            "Get:6 https://developer.download.nvidia.com/compute/cuda/repos/ubuntu1804/x86_64  Release [697 B]\n",
            "Hit:7 https://developer.download.nvidia.com/compute/machine-learning/repos/ubuntu1804/x86_64  Release\n",
            "Hit:8 http://archive.ubuntu.com/ubuntu bionic InRelease\n",
            "Get:9 https://developer.download.nvidia.com/compute/cuda/repos/ubuntu1804/x86_64  Release.gpg [836 B]\n",
            "Get:10 http://archive.ubuntu.com/ubuntu bionic-updates InRelease [88.7 kB]\n",
            "Hit:11 http://ppa.launchpad.net/cran/libgit2/ubuntu bionic InRelease\n",
            "Get:12 http://security.ubuntu.com/ubuntu bionic-security/universe amd64 Packages [1,418 kB]\n",
            "Get:13 http://security.ubuntu.com/ubuntu bionic-security/main amd64 Packages [2,221 kB]\n",
            "Get:14 http://ppa.launchpad.net/deadsnakes/ppa/ubuntu bionic InRelease [15.9 kB]\n",
            "Get:15 http://archive.ubuntu.com/ubuntu bionic-backports InRelease [74.6 kB]\n",
            "Hit:16 http://ppa.launchpad.net/graphics-drivers/ppa/ubuntu bionic InRelease\n",
            "Get:17 https://cloud.r-project.org/bin/linux/ubuntu bionic-cran40/ Packages [62.2 kB]\n",
            "Get:19 http://ppa.launchpad.net/c2d4u.team/c2d4u4.0+/ubuntu bionic/main Sources [1,780 kB]\n",
            "Ign:20 https://developer.download.nvidia.com/compute/cuda/repos/ubuntu1804/x86_64  Packages\n",
            "Get:20 https://developer.download.nvidia.com/compute/cuda/repos/ubuntu1804/x86_64  Packages [637 kB]\n",
            "Get:21 http://ppa.launchpad.net/c2d4u.team/c2d4u4.0+/ubuntu bionic/main amd64 Packages [910 kB]\n",
            "Get:22 http://archive.ubuntu.com/ubuntu bionic-updates/universe amd64 Packages [2,188 kB]\n",
            "Get:23 http://ppa.launchpad.net/deadsnakes/ppa/ubuntu bionic/main amd64 Packages [40.8 kB]\n",
            "Get:24 http://archive.ubuntu.com/ubuntu bionic-updates/main amd64 Packages [2,658 kB]\n",
            "Fetched 12.2 MB in 3s (3,729 kB/s)\n",
            "Reading package lists... Done\n",
            "tar: spark-3.0.2-bin-hadoop2.7.tgz: Cannot open: No such file or directory\n",
            "tar: Error is not recoverable: exiting now\n",
            "\u001b[K     |████████████████████████████████| 209.1MB 75kB/s \n",
            "\u001b[K     |████████████████████████████████| 51kB 6.3MB/s \n",
            "\u001b[K     |████████████████████████████████| 501kB 40.7MB/s \n",
            "\u001b[K     |████████████████████████████████| 204kB 20.3MB/s \n",
            "\u001b[?25h  Building wheel for pyspark (setup.py) ... \u001b[?25l\u001b[?25hdone\n"
          ],
          "name": "stdout"
        }
      ]
    },
    {
      "cell_type": "code",
      "metadata": {
        "id": "A0KqsmUhBjcA"
      },
      "source": [
        ""
      ],
      "execution_count": 1,
      "outputs": []
    },
    {
      "cell_type": "markdown",
      "metadata": {
        "id": "jNw8mtj2jJyS"
      },
      "source": [
        "# Simple NLU basics on Strings"
      ]
    },
    {
      "cell_type": "markdown",
      "metadata": {
        "id": "cr3HrpqX0Lju"
      },
      "source": [
        "## Context based spell Checking in 1 line\n",
        "\n",
        "![Spell Check](https://i.imgflip.com/52wb7w.jpg)"
      ]
    },
    {
      "cell_type": "code",
      "metadata": {
        "colab": {
          "base_uri": "https://localhost:8080/",
          "height": 182
        },
        "id": "yiU5oCWGz31e",
        "outputId": "34d6db6f-9ab4-41d7-c8d0-d19c987e2068"
      },
      "source": [
        "nlu.load('spell').predict('I also liek to live dangertus')"
      ],
      "execution_count": 2,
      "outputs": [
        {
          "output_type": "stream",
          "text": [
            "spellcheck_dl download started this may take some time.\n",
            "Approximate size to download 111.4 MB\n",
            "[OK!]\n",
            "sentence_detector_dl download started this may take some time.\n",
            "Approximate size to download 354.6 KB\n",
            "[OK!]\n"
          ],
          "name": "stdout"
        },
        {
          "output_type": "execute_result",
          "data": {
            "text/html": [
              "<div>\n",
              "<style scoped>\n",
              "    .dataframe tbody tr th:only-of-type {\n",
              "        vertical-align: middle;\n",
              "    }\n",
              "\n",
              "    .dataframe tbody tr th {\n",
              "        vertical-align: top;\n",
              "    }\n",
              "\n",
              "    .dataframe thead th {\n",
              "        text-align: right;\n",
              "    }\n",
              "</style>\n",
              "<table border=\"1\" class=\"dataframe\">\n",
              "  <thead>\n",
              "    <tr style=\"text-align: right;\">\n",
              "      <th></th>\n",
              "      <th>sentence</th>\n",
              "      <th>spell</th>\n",
              "      <th>text</th>\n",
              "      <th>token</th>\n",
              "      <th>document</th>\n",
              "    </tr>\n",
              "  </thead>\n",
              "  <tbody>\n",
              "    <tr>\n",
              "      <th>0</th>\n",
              "      <td>[I also liek to live dangertus]</td>\n",
              "      <td>[I, also, like, to, live, dangerous]</td>\n",
              "      <td>I also liek to live dangertus</td>\n",
              "      <td>[I, also, liek, to, live, dangertus]</td>\n",
              "      <td>I also liek to live dangertus</td>\n",
              "    </tr>\n",
              "  </tbody>\n",
              "</table>\n",
              "</div>"
            ],
            "text/plain": [
              "                          sentence  ...                       document\n",
              "0  [I also liek to live dangertus]  ...  I also liek to live dangertus\n",
              "\n",
              "[1 rows x 5 columns]"
            ]
          },
          "metadata": {
            "tags": []
          },
          "execution_count": 2
        }
      ]
    },
    {
      "cell_type": "markdown",
      "metadata": {
        "id": "EbRSJNNE0XH7"
      },
      "source": [
        "## Binary Sentiment classification in 1 Line\n",
        "![Binary Sentiment](https://cdn.pixabay.com/photo/2015/11/13/10/07/smiley-1041796_960_720.jpg)\n"
      ]
    },
    {
      "cell_type": "code",
      "metadata": {
        "colab": {
          "base_uri": "https://localhost:8080/",
          "height": 284
        },
        "id": "Kr7JAcnr0Khb",
        "outputId": "e47116fd-f6d6-4a1e-ec59-0d5962a34662"
      },
      "source": [
        "nlu.load('sentiment').predict('I love NLU and rainy days!')"
      ],
      "execution_count": 3,
      "outputs": [
        {
          "output_type": "stream",
          "text": [
            "sentimentdl_glove_imdb download started this may take some time.\n",
            "Approximate size to download 8.7 MB\n",
            "[OK!]\n",
            "glove_100d download started this may take some time.\n",
            "Approximate size to download 145.3 MB\n",
            "[OK!]\n",
            "glove_100d download started this may take some time.\n",
            "Approximate size to download 145.3 MB\n",
            "[OK!]\n",
            "sentence_detector_dl download started this may take some time.\n",
            "Approximate size to download 354.6 KB\n",
            "[OK!]\n"
          ],
          "name": "stdout"
        },
        {
          "output_type": "execute_result",
          "data": {
            "text/html": [
              "<div>\n",
              "<style scoped>\n",
              "    .dataframe tbody tr th:only-of-type {\n",
              "        vertical-align: middle;\n",
              "    }\n",
              "\n",
              "    .dataframe tbody tr th {\n",
              "        vertical-align: top;\n",
              "    }\n",
              "\n",
              "    .dataframe thead th {\n",
              "        text-align: right;\n",
              "    }\n",
              "</style>\n",
              "<table border=\"1\" class=\"dataframe\">\n",
              "  <thead>\n",
              "    <tr style=\"text-align: right;\">\n",
              "      <th></th>\n",
              "      <th>sentiment</th>\n",
              "      <th>sentiment_confidence</th>\n",
              "      <th>token</th>\n",
              "      <th>sentence</th>\n",
              "      <th>sentence_embedding_</th>\n",
              "      <th>text</th>\n",
              "      <th>document</th>\n",
              "      <th>word_embedding_glove_100d</th>\n",
              "    </tr>\n",
              "  </thead>\n",
              "  <tbody>\n",
              "    <tr>\n",
              "      <th>0</th>\n",
              "      <td>pos</td>\n",
              "      <td>0.999995</td>\n",
              "      <td>[I, love, NLU, and, rainy, days, !]</td>\n",
              "      <td>[I love NLU and rainy days!]</td>\n",
              "      <td>[[0.015170135535299778, 0.3010264039039612, 0....</td>\n",
              "      <td>I love NLU and rainy days!</td>\n",
              "      <td>I love NLU and rainy days!</td>\n",
              "      <td>[[-0.046539001166820526, 0.6196600198745728, 0...</td>\n",
              "    </tr>\n",
              "  </tbody>\n",
              "</table>\n",
              "</div>"
            ],
            "text/plain": [
              "  sentiment  ...                          word_embedding_glove_100d\n",
              "0       pos  ...  [[-0.046539001166820526, 0.6196600198745728, 0...\n",
              "\n",
              "[1 rows x 8 columns]"
            ]
          },
          "metadata": {
            "tags": []
          },
          "execution_count": 3
        }
      ]
    },
    {
      "cell_type": "markdown",
      "metadata": {
        "id": "p0z4S7kF0aeT"
      },
      "source": [
        "## Part of Speech (POS) in 1 line\n",
        "![Parts of Speech](https://image.shutterstock.com/image-photo/blackboard-background-written-colorful-chalk-600w-1166166529.jpg)\n",
        "\n",
        "|Tag |Description | Example|\n",
        "|------|------------|------|\n",
        "|CC| Coordinating conjunction | This batch of mushroom stew is savory **and** delicious    |\n",
        "|CD| Cardinal number | Here are **five** coins    |\n",
        "|DT| Determiner | **The** bunny went home    |\n",
        "|EX| Existential there | **There** is a storm coming    |\n",
        "|FW| Foreign word | I'm having a **déjà vu**    |\n",
        "|IN| Preposition or subordinating conjunction | He is cleverer **than** I am   |\n",
        "|JJ| Adjective | She wore a **beautiful** dress    |\n",
        "|JJR| Adjective, comparative | My house is **bigger** than yours    |\n",
        "|JJS| Adjective, superlative | I am the **shortest** person in my family   |\n",
        "|LS| List item marker | A number of things need to be considered before starting a business **,** such as premises **,** finance **,** product demand **,** staffing and access to customers |\n",
        "|MD| Modal | You **must** stop when the traffic lights turn red    |\n",
        "|NN| Noun, singular or mass | The **dog** likes to run    |\n",
        "|NNS| Noun, plural | The **cars** are fast    |\n",
        "|NNP| Proper noun, singular | I ordered the chair from **Amazon**  |\n",
        "|NNPS| Proper noun, plural | We visted the **Kennedys**   |\n",
        "|PDT| Predeterminer | **Both** the children had a toy   |\n",
        "|POS| Possessive ending | I built the dog'**s** house    |\n",
        "|PRP| Personal pronoun | **You** need to stop    |\n",
        "|PRP$| Possessive pronoun | Remember not to judge a book by **its** cover |\n",
        "|RB| Adverb | The dog barks **loudly**    |\n",
        "|RBR| Adverb, comparative | Could you sing more **quietly** please?   |\n",
        "|RBS| Adverb, superlative | Everyone in the race ran fast, but John ran **the fastest** of all    |\n",
        "|RP| Particle | He ate **up** all his dinner    |\n",
        "|SYM| Symbol | What are you doing **?**    |\n",
        "|TO| to | Please send it back **to** me    |\n",
        "|UH| Interjection | **Wow!** You look gorgeous    |\n",
        "|VB| Verb, base form | We **play** soccer |\n",
        "|VBD| Verb, past tense | I **worked** at a restaurant    |\n",
        "|VBG| Verb, gerund or present participle | **Smoking** kills people   |\n",
        "|VBN| Verb, past participle | She has **done** her homework    |\n",
        "|VBP| Verb, non-3rd person singular present | You **flit** from place to place    |\n",
        "|VBZ| Verb, 3rd person singular present | He never **calls** me    |\n",
        "|WDT| Wh-determiner | The store honored the complaints, **which** were less than 25 days old    |\n",
        "|WP| Wh-pronoun | **Who** can help me?    |\n",
        "|WP\\$| Possessive wh-pronoun | **Whose** fault is it?    |\n",
        "|WRB| Wh-adverb | **Where** are you going?  |"
      ]
    },
    {
      "cell_type": "code",
      "metadata": {
        "colab": {
          "base_uri": "https://localhost:8080/",
          "height": 182
        },
        "id": "49-eCSZQ0cQa",
        "outputId": "343ba2e9-fd3c-4425-9b0b-88ab93ea09c1"
      },
      "source": [
        "nlu.load('pos').predict('POS assigns each token in a sentence a grammatical label')"
      ],
      "execution_count": 4,
      "outputs": [
        {
          "output_type": "stream",
          "text": [
            "pos_anc download started this may take some time.\n",
            "Approximate size to download 3.9 MB\n",
            "[OK!]\n",
            "sentence_detector_dl download started this may take some time.\n",
            "Approximate size to download 354.6 KB\n",
            "[OK!]\n"
          ],
          "name": "stdout"
        },
        {
          "output_type": "execute_result",
          "data": {
            "text/html": [
              "<div>\n",
              "<style scoped>\n",
              "    .dataframe tbody tr th:only-of-type {\n",
              "        vertical-align: middle;\n",
              "    }\n",
              "\n",
              "    .dataframe tbody tr th {\n",
              "        vertical-align: top;\n",
              "    }\n",
              "\n",
              "    .dataframe thead th {\n",
              "        text-align: right;\n",
              "    }\n",
              "</style>\n",
              "<table border=\"1\" class=\"dataframe\">\n",
              "  <thead>\n",
              "    <tr style=\"text-align: right;\">\n",
              "      <th></th>\n",
              "      <th>sentence</th>\n",
              "      <th>pos</th>\n",
              "      <th>text</th>\n",
              "      <th>token</th>\n",
              "      <th>document</th>\n",
              "    </tr>\n",
              "  </thead>\n",
              "  <tbody>\n",
              "    <tr>\n",
              "      <th>0</th>\n",
              "      <td>[POS assigns each token in a sentence a gramma...</td>\n",
              "      <td>[NNP, NNS, DT, NN, IN, DT, NN, DT, JJ, NN]</td>\n",
              "      <td>POS assigns each token in a sentence a grammat...</td>\n",
              "      <td>[POS, assigns, each, token, in, a, sentence, a...</td>\n",
              "      <td>POS assigns each token in a sentence a grammat...</td>\n",
              "    </tr>\n",
              "  </tbody>\n",
              "</table>\n",
              "</div>"
            ],
            "text/plain": [
              "                                            sentence  ...                                           document\n",
              "0  [POS assigns each token in a sentence a gramma...  ...  POS assigns each token in a sentence a grammat...\n",
              "\n",
              "[1 rows x 5 columns]"
            ]
          },
          "metadata": {
            "tags": []
          },
          "execution_count": 4
        }
      ]
    },
    {
      "cell_type": "markdown",
      "metadata": {
        "id": "2-ih6TXc0d6x"
      },
      "source": [
        "## Named Entity Recognition (NER) in 1 line\n",
        "\n",
        "![NER](http://ckl-it.de/wp-content/uploads/2021/02/ner-1.png)\n",
        "\n",
        "|Type | \tDescription |\n",
        "|------|--------------|\n",
        "| PERSON | \tPeople, including fictional like **Harry Potter** |\n",
        "| NORP | \tNationalities or religious or political groups like the **Germans** |\n",
        "| FAC | \tBuildings, airports, highways, bridges, etc. like **New York Airport** |\n",
        "| ORG | \tCompanies, agencies, institutions, etc. like **Microsoft** |\n",
        "| GPE | \tCountries, cities, states. like **Germany** |\n",
        "| LOC | \tNon-GPE locations, mountain ranges, bodies of water. Like the **Sahara desert**|\n",
        "| PRODUCT | \tObjects, vehicles, foods, etc. (Not services.) like **playstation** |\n",
        "| EVENT | \tNamed hurricanes, battles, wars, sports events, etc. like **hurricane Katrina**|\n",
        "| WORK_OF_ART | \tTitles of books, songs, etc. Like **Mona Lisa** |\n",
        "| LAW | \tNamed documents made into laws. Like : **Declaration of Independence** |\n",
        "| LANGUAGE | \tAny named language. Like **Turkish**|\n",
        "| DATE | \tAbsolute or relative dates or periods. Like every second **friday**|\n",
        "| TIME | \tTimes smaller than a day. Like **every minute**|\n",
        "| PERCENT | \tPercentage, including ”%“. Like **55%** of workers enjoy their work |\n",
        "| MONEY | \tMonetary values, including unit. Like **50$** for those pants |\n",
        "| QUANTITY | \tMeasurements, as of weight or distance. Like this person weights **50kg** |\n",
        "| ORDINAL | \t“first”, “second”, etc. Like David placed **first** in the tournament |\n",
        "| CARDINAL | \tNumerals that do not fall under another type. Like **hundreds** of models are avaiable in NLU |\n"
      ]
    },
    {
      "cell_type": "code",
      "metadata": {
        "colab": {
          "base_uri": "https://localhost:8080/",
          "height": 224
        },
        "id": "zoDjsSxx0eJY",
        "outputId": "c48ed473-90fe-45cf-c426-f23ac25373c2"
      },
      "source": [
        "nlu.load('ner').predict(\"John Snow Labs congratulates the Amarican John Biden to winning the American election!\", output_level='chunk')"
      ],
      "execution_count": 5,
      "outputs": [
        {
          "output_type": "stream",
          "text": [
            "onto_recognize_entities_sm download started this may take some time.\n",
            "Approx size to download 160.1 MB\n",
            "[OK!]\n"
          ],
          "name": "stdout"
        },
        {
          "output_type": "execute_result",
          "data": {
            "text/html": [
              "<div>\n",
              "<style scoped>\n",
              "    .dataframe tbody tr th:only-of-type {\n",
              "        vertical-align: middle;\n",
              "    }\n",
              "\n",
              "    .dataframe tbody tr th {\n",
              "        vertical-align: top;\n",
              "    }\n",
              "\n",
              "    .dataframe thead th {\n",
              "        text-align: right;\n",
              "    }\n",
              "</style>\n",
              "<table border=\"1\" class=\"dataframe\">\n",
              "  <thead>\n",
              "    <tr style=\"text-align: right;\">\n",
              "      <th></th>\n",
              "      <th>entities_confidence</th>\n",
              "      <th>word_embedding_ner</th>\n",
              "      <th>entities_class</th>\n",
              "      <th>text</th>\n",
              "      <th>document</th>\n",
              "      <th>entities</th>\n",
              "    </tr>\n",
              "  </thead>\n",
              "  <tbody>\n",
              "    <tr>\n",
              "      <th>0</th>\n",
              "      <td>0.64026666</td>\n",
              "      <td>[[-0.2747400104999542, 0.48680999875068665, -0...</td>\n",
              "      <td>PERSON</td>\n",
              "      <td>John Snow Labs congratulates the Amarican John...</td>\n",
              "      <td>John Snow Labs congratulates the Amarican John...</td>\n",
              "      <td>John Snow Labs</td>\n",
              "    </tr>\n",
              "    <tr>\n",
              "      <th>0</th>\n",
              "      <td>0.4515</td>\n",
              "      <td>[[-0.2747400104999542, 0.48680999875068665, -0...</td>\n",
              "      <td>PERSON</td>\n",
              "      <td>John Snow Labs congratulates the Amarican John...</td>\n",
              "      <td>John Snow Labs congratulates the Amarican John...</td>\n",
              "      <td>the Amarican</td>\n",
              "    </tr>\n",
              "    <tr>\n",
              "      <th>0</th>\n",
              "      <td>0.83775</td>\n",
              "      <td>[[-0.2747400104999542, 0.48680999875068665, -0...</td>\n",
              "      <td>PERSON</td>\n",
              "      <td>John Snow Labs congratulates the Amarican John...</td>\n",
              "      <td>John Snow Labs congratulates the Amarican John...</td>\n",
              "      <td>John Biden</td>\n",
              "    </tr>\n",
              "    <tr>\n",
              "      <th>0</th>\n",
              "      <td>0.9877</td>\n",
              "      <td>[[-0.2747400104999542, 0.48680999875068665, -0...</td>\n",
              "      <td>NORP</td>\n",
              "      <td>John Snow Labs congratulates the Amarican John...</td>\n",
              "      <td>John Snow Labs congratulates the Amarican John...</td>\n",
              "      <td>American</td>\n",
              "    </tr>\n",
              "  </tbody>\n",
              "</table>\n",
              "</div>"
            ],
            "text/plain": [
              "  entities_confidence  ...        entities\n",
              "0          0.64026666  ...  John Snow Labs\n",
              "0              0.4515  ...    the Amarican\n",
              "0             0.83775  ...      John Biden\n",
              "0              0.9877  ...        American\n",
              "\n",
              "[4 rows x 6 columns]"
            ]
          },
          "metadata": {
            "tags": []
          },
          "execution_count": 5
        }
      ]
    },
    {
      "cell_type": "markdown",
      "metadata": {
        "id": "RcvxNNeXt83u"
      },
      "source": [
        "# Let's apply NLU to a dataset!\n",
        "\n",
        "<div>\n",
        "<img src=\"http://ckl-it.de/wp-content/uploads/2021/02/crypto.jpeg \" width=\"400\"  height=\"250\" >\n",
        "</div>\n"
      ]
    },
    {
      "cell_type": "code",
      "metadata": {
        "colab": {
          "base_uri": "https://localhost:8080/"
        },
        "id": "lKbaoFLMsIRA",
        "outputId": "63181455-1b60-4451-ac5c-f8f71a44e8f3"
      },
      "source": [
        "import pandas as pd \n",
        "import nlu\n",
        "!wget http://ckl-it.de/wp-content/uploads/2020/12/small_btc.csv \n",
        "df = pd.read_csv('/content/small_btc.csv').iloc[0:5000].title\n",
        "df\n",
        "\n"
      ],
      "execution_count": 6,
      "outputs": [
        {
          "output_type": "stream",
          "text": [
            "--2021-07-12 23:23:25--  http://ckl-it.de/wp-content/uploads/2020/12/small_btc.csv\n",
            "Resolving ckl-it.de (ckl-it.de)... 217.160.0.108, 2001:8d8:100f:f000::209\n",
            "Connecting to ckl-it.de (ckl-it.de)|217.160.0.108|:80... connected.\n",
            "HTTP request sent, awaiting response... 200 OK\n",
            "Length: 22244914 (21M) [text/csv]\n",
            "Saving to: ‘small_btc.csv.1’\n",
            "\n",
            "small_btc.csv.1     100%[===================>]  21.21M  16.4MB/s    in 1.3s    \n",
            "\n",
            "2021-07-12 23:23:27 (16.4 MB/s) - ‘small_btc.csv.1’ saved [22244914/22244914]\n",
            "\n"
          ],
          "name": "stdout"
        },
        {
          "output_type": "execute_result",
          "data": {
            "text/plain": [
              "0          Bitcoin Price Update: Will China Lead us Down?\n",
              "1       Key Bitcoin Price Levels for Week 51 (15 – 22 ...\n",
              "2       National Australia Bank, Citing Highly Flawed ...\n",
              "3       Chinese Bitcoin Ban Driven by  Chinese Banking...\n",
              "4                   Bitcoin Trade Update: Opened Position\n",
              "                              ...                        \n",
              "1995    Bitcoin Bill Pay Company Living Room of Satosh...\n",
              "1996    NYDFS Extends BitLicense Bitcoin Regulation Co...\n",
              "1997    Bitfinex Passes Stefan Thomas’s Proof Of Solve...\n",
              "1998    Cryptocurrency Exchange Platform AlphaPoint Pa...\n",
              "1999    Want to Buy And Sell Bitcoin Fast and Secure? ...\n",
              "Name: title, Length: 2000, dtype: object"
            ]
          },
          "metadata": {
            "tags": []
          },
          "execution_count": 6
        }
      ]
    },
    {
      "cell_type": "markdown",
      "metadata": {
        "id": "AMFwC0jX_dCT"
      },
      "source": [
        "## NER on a Crypto News dataset\n",
        "### The **NER** model which you can load via `nlu.load('ner')` recognizes 18 different classes in your dataset.\n",
        "We set output level to chunk, so that we get 1 row per NER class.\n",
        "\n",
        "\n",
        "#### Predicted entities:\n",
        "\n",
        "\n",
        "NER is avaiable in many languages, which you can [find in the John Snow Labs Modelshub](https://nlp.johnsnowlabs.com/models)"
      ]
    },
    {
      "cell_type": "markdown",
      "metadata": {
        "id": "tyqcrtFmBlmP"
      },
      "source": [
        ""
      ]
    },
    {
      "cell_type": "code",
      "metadata": {
        "colab": {
          "base_uri": "https://localhost:8080/",
          "height": 470
        },
        "id": "aUGAomeusNVv",
        "outputId": "bbd06c8d-be55-49e8-cadc-13ebfccf39ac"
      },
      "source": [
        "ner_df = nlu.load('ner').predict(df, output_level = 'chunk')\n",
        "ner_df "
      ],
      "execution_count": 7,
      "outputs": [
        {
          "output_type": "stream",
          "text": [
            "onto_recognize_entities_sm download started this may take some time.\n",
            "Approx size to download 160.1 MB\n",
            "[OK!]\n"
          ],
          "name": "stdout"
        },
        {
          "output_type": "execute_result",
          "data": {
            "text/html": [
              "<div>\n",
              "<style scoped>\n",
              "    .dataframe tbody tr th:only-of-type {\n",
              "        vertical-align: middle;\n",
              "    }\n",
              "\n",
              "    .dataframe tbody tr th {\n",
              "        vertical-align: top;\n",
              "    }\n",
              "\n",
              "    .dataframe thead th {\n",
              "        text-align: right;\n",
              "    }\n",
              "</style>\n",
              "<table border=\"1\" class=\"dataframe\">\n",
              "  <thead>\n",
              "    <tr style=\"text-align: right;\">\n",
              "      <th></th>\n",
              "      <th>entities_confidence</th>\n",
              "      <th>word_embedding_ner</th>\n",
              "      <th>entities_class</th>\n",
              "      <th>text</th>\n",
              "      <th>document</th>\n",
              "      <th>entities</th>\n",
              "    </tr>\n",
              "  </thead>\n",
              "  <tbody>\n",
              "    <tr>\n",
              "      <th>0</th>\n",
              "      <td>NaN</td>\n",
              "      <td>[[0.8403199911117554, 0.13267000019550323, -0....</td>\n",
              "      <td>NaN</td>\n",
              "      <td>Bitcoin Price Update: Will China Lead us Down?</td>\n",
              "      <td>Bitcoin Price Update: Will China Lead us Down?</td>\n",
              "      <td>NaN</td>\n",
              "    </tr>\n",
              "    <tr>\n",
              "      <th>1</th>\n",
              "      <td>0.6012333</td>\n",
              "      <td>[[-0.22009000182151794, 0.12280000001192093, 0...</td>\n",
              "      <td>DATE</td>\n",
              "      <td>Key Bitcoin Price Levels for Week 51 (15 – 22 ...</td>\n",
              "      <td>Key Bitcoin Price Levels for Week 51 (15 – 22 ...</td>\n",
              "      <td>Week 51 (15 – 22</td>\n",
              "    </tr>\n",
              "    <tr>\n",
              "      <th>2</th>\n",
              "      <td>0.7144</td>\n",
              "      <td>[[-0.003313800087198615, 0.3894599974155426, 0...</td>\n",
              "      <td>GPE</td>\n",
              "      <td>National Australia Bank, Citing Highly Flawed ...</td>\n",
              "      <td>National Australia Bank, Citing Highly Flawed ...</td>\n",
              "      <td>Australia</td>\n",
              "    </tr>\n",
              "    <tr>\n",
              "      <th>3</th>\n",
              "      <td>0.9957</td>\n",
              "      <td>[[0.4327400028705597, 0.3958199918270111, 0.58...</td>\n",
              "      <td>NORP</td>\n",
              "      <td>Chinese Bitcoin Ban Driven by  Chinese Banking...</td>\n",
              "      <td>Chinese Bitcoin Ban Driven by  Chinese Banking...</td>\n",
              "      <td>Chinese</td>\n",
              "    </tr>\n",
              "    <tr>\n",
              "      <th>3</th>\n",
              "      <td>0.9437</td>\n",
              "      <td>[[0.4327400028705597, 0.3958199918270111, 0.58...</td>\n",
              "      <td>NORP</td>\n",
              "      <td>Chinese Bitcoin Ban Driven by  Chinese Banking...</td>\n",
              "      <td>Chinese Bitcoin Ban Driven by  Chinese Banking...</td>\n",
              "      <td>Chinese</td>\n",
              "    </tr>\n",
              "    <tr>\n",
              "      <th>...</th>\n",
              "      <td>...</td>\n",
              "      <td>...</td>\n",
              "      <td>...</td>\n",
              "      <td>...</td>\n",
              "      <td>...</td>\n",
              "      <td>...</td>\n",
              "    </tr>\n",
              "    <tr>\n",
              "      <th>1995</th>\n",
              "      <td>NaN</td>\n",
              "      <td>[[0.8403199911117554, 0.13267000019550323, -0....</td>\n",
              "      <td>NaN</td>\n",
              "      <td>Bitcoin Bill Pay Company Living Room of Satosh...</td>\n",
              "      <td>Bitcoin Bill Pay Company Living Room of Satosh...</td>\n",
              "      <td>NaN</td>\n",
              "    </tr>\n",
              "    <tr>\n",
              "      <th>1996</th>\n",
              "      <td>NaN</td>\n",
              "      <td>[[0.0, 0.0, 0.0, 0.0, 0.0, 0.0, 0.0, 0.0, 0.0,...</td>\n",
              "      <td>NaN</td>\n",
              "      <td>NYDFS Extends BitLicense Bitcoin Regulation Co...</td>\n",
              "      <td>NYDFS Extends BitLicense Bitcoin Regulation Co...</td>\n",
              "      <td>NaN</td>\n",
              "    </tr>\n",
              "    <tr>\n",
              "      <th>1997</th>\n",
              "      <td>0.70669997</td>\n",
              "      <td>[[0.0, 0.0, 0.0, 0.0, 0.0, 0.0, 0.0, 0.0, 0.0,...</td>\n",
              "      <td>PERSON</td>\n",
              "      <td>Bitfinex Passes Stefan Thomas’s Proof Of Solve...</td>\n",
              "      <td>Bitfinex Passes Stefan Thomas’s Proof Of Solve...</td>\n",
              "      <td>Bitfinex Passes</td>\n",
              "    </tr>\n",
              "    <tr>\n",
              "      <th>1998</th>\n",
              "      <td>NaN</td>\n",
              "      <td>[[0.0, 0.0, 0.0, 0.0, 0.0, 0.0, 0.0, 0.0, 0.0,...</td>\n",
              "      <td>NaN</td>\n",
              "      <td>Cryptocurrency Exchange Platform AlphaPoint Pa...</td>\n",
              "      <td>Cryptocurrency Exchange Platform AlphaPoint Pa...</td>\n",
              "      <td>NaN</td>\n",
              "    </tr>\n",
              "    <tr>\n",
              "      <th>1999</th>\n",
              "      <td>NaN</td>\n",
              "      <td>[[-0.17124000191688538, 0.5644699931144714, 0....</td>\n",
              "      <td>NaN</td>\n",
              "      <td>Want to Buy And Sell Bitcoin Fast and Secure? ...</td>\n",
              "      <td>Want to Buy And Sell Bitcoin Fast and Secure? ...</td>\n",
              "      <td>NaN</td>\n",
              "    </tr>\n",
              "  </tbody>\n",
              "</table>\n",
              "<p>2409 rows × 6 columns</p>\n",
              "</div>"
            ],
            "text/plain": [
              "     entities_confidence  ...          entities\n",
              "0                    NaN  ...               NaN\n",
              "1              0.6012333  ...  Week 51 (15 – 22\n",
              "2                 0.7144  ...         Australia\n",
              "3                 0.9957  ...           Chinese\n",
              "3                 0.9437  ...           Chinese\n",
              "...                  ...  ...               ...\n",
              "1995                 NaN  ...               NaN\n",
              "1996                 NaN  ...               NaN\n",
              "1997          0.70669997  ...   Bitfinex Passes\n",
              "1998                 NaN  ...               NaN\n",
              "1999                 NaN  ...               NaN\n",
              "\n",
              "[2409 rows x 6 columns]"
            ]
          },
          "metadata": {
            "tags": []
          },
          "execution_count": 7
        }
      ]
    },
    {
      "cell_type": "markdown",
      "metadata": {
        "id": "6gC7S2vqBpT1"
      },
      "source": [
        "### Top 50 Named Entities"
      ]
    },
    {
      "cell_type": "code",
      "metadata": {
        "id": "aKSSgTC-sVq8",
        "colab": {
          "base_uri": "https://localhost:8080/",
          "height": 1000
        },
        "outputId": "9d9c6686-4942-49ab-d9be-d09528bc7ffb"
      },
      "source": [
        "ner_df.entities.value_counts()[:100].plot.barh(figsize = (16,20))"
      ],
      "execution_count": 8,
      "outputs": [
        {
          "output_type": "execute_result",
          "data": {
            "text/plain": [
              "<matplotlib.axes._subplots.AxesSubplot at 0x7f5b245a1550>"
            ]
          },
          "metadata": {
            "tags": []
          },
          "execution_count": 8
        },
        {
          "output_type": "display_data",
          "data": {
            "image/png": "[encoded data removed]",
            "text/plain": [
              "<Figure size 1152x1440 with 1 Axes>"
            ]
          },
          "metadata": {
            "tags": [],
            "needs_background": "light"
          }
        }
      ]
    },
    {
      "cell_type": "markdown",
      "metadata": {
        "id": "ElYjed34Bu8T"
      },
      "source": [
        "### Top 50 Named Entities which are PERSONS"
      ]
    },
    {
      "cell_type": "code",
      "metadata": {
        "id": "rynx78HUvQJI",
        "colab": {
          "base_uri": "https://localhost:8080/",
          "height": 1000
        },
        "outputId": "e30d0b18-b9c7-4c71-a7fd-1033c1ec88d7"
      },
      "source": [
        "ner_df[ner_df.entities_class == 'PERSON'].entities.value_counts()[:50].plot.barh(figsize=(18,20), title ='Top 50 Occuring Persons in the dataset')"
      ],
      "execution_count": 9,
      "outputs": [
        {
          "output_type": "execute_result",
          "data": {
            "text/plain": [
              "<matplotlib.axes._subplots.AxesSubplot at 0x7f5b2a9c5350>"
            ]
          },
          "metadata": {
            "tags": []
          },
          "execution_count": 9
        },
        {
          "output_type": "display_data",
          "data": {
            "image/png": "[encoded data removed]",
            "text/plain": [
              "<Figure size 1296x1440 with 1 Axes>"
            ]
          },
          "metadata": {
            "tags": [],
            "needs_background": "light"
          }
        }
      ]
    },
    {
      "cell_type": "markdown",
      "metadata": {
        "id": "B8oAF_MCBxyN"
      },
      "source": [
        "### Top 50 Named Entities which are Countries/Cities/States"
      ]
    },
    {
      "cell_type": "code",
      "metadata": {
        "colab": {
          "base_uri": "https://localhost:8080/",
          "height": 1000
        },
        "id": "IEiIMsFj9v2n",
        "outputId": "225ae2ad-ed9e-4972-c2df-f5e88d36bfd8"
      },
      "source": [
        "ner_df[ner_df.entities_class == 'GPE'].entities.value_counts()[:50].plot.barh(figsize=(18,20),title ='Top 50 Countries/Cities/States Occuring in the dataset')"
      ],
      "execution_count": 10,
      "outputs": [
        {
          "output_type": "execute_result",
          "data": {
            "text/plain": [
              "<matplotlib.axes._subplots.AxesSubplot at 0x7f5b2d11b850>"
            ]
          },
          "metadata": {
            "tags": []
          },
          "execution_count": 10
        },
        {
          "output_type": "display_data",
          "data": {
            "image/png": "[encoded data removed]",
            "text/plain": [
              "<Figure size 1296x1440 with 1 Axes>"
            ]
          },
          "metadata": {
            "tags": [],
            "needs_background": "light"
          }
        }
      ]
    },
    {
      "cell_type": "markdown",
      "metadata": {
        "id": "JiHofegqB0sM"
      },
      "source": [
        "### Top 50 Named Entities which are PRODUCTS "
      ]
    },
    {
      "cell_type": "code",
      "metadata": {
        "colab": {
          "base_uri": "https://localhost:8080/",
          "height": 1000
        },
        "id": "coeW-Kgs92fH",
        "outputId": "9e671555-c44e-4930-8d27-d6ece85f15e4"
      },
      "source": [
        "ner_df[ner_df.entities_class == 'PRODUCT'].entities.value_counts()[:50].plot.barh(figsize=(18,20),title ='Top 50 products occuring in the dataset')"
      ],
      "execution_count": 11,
      "outputs": [
        {
          "output_type": "execute_result",
          "data": {
            "text/plain": [
              "<matplotlib.axes._subplots.AxesSubplot at 0x7f5b2d8a5050>"
            ]
          },
          "metadata": {
            "tags": []
          },
          "execution_count": 11
        },
        {
          "output_type": "display_data",
          "data": {
            "image/png": "[encoded data removed]",
            "text/plain": [
              "<Figure size 1296x1440 with 1 Axes>"
            ]
          },
          "metadata": {
            "tags": [],
            "needs_background": "light"
          }
        }
      ]
    },
    {
      "cell_type": "markdown",
      "metadata": {
        "id": "ybfGwL9-B7MN"
      },
      "source": [
        "### Top 50 Named Entities which are ORGANIZATIONS"
      ]
    },
    {
      "cell_type": "code",
      "metadata": {
        "colab": {
          "base_uri": "https://localhost:8080/",
          "height": 1000
        },
        "id": "4ng-TNYu--09",
        "outputId": "9dbf56ee-ebb5-45a7-baec-4fbb53104460"
      },
      "source": [
        "ner_df[ner_df.entities_class == 'ORG'].entities.value_counts()[:50].plot.barh(figsize=(18,20),title ='Top 50 products occuring in the dataset')"
      ],
      "execution_count": 12,
      "outputs": [
        {
          "output_type": "execute_result",
          "data": {
            "text/plain": [
              "<matplotlib.axes._subplots.AxesSubplot at 0x7f5b2a465950>"
            ]
          },
          "metadata": {
            "tags": []
          },
          "execution_count": 12
        },
        {
          "output_type": "display_data",
          "data": {
            "image/png": "[encoded data removed]",
            "text/plain": [
              "<Figure size 1296x1440 with 1 Axes>"
            ]
          },
          "metadata": {
            "tags": [],
            "needs_background": "light"
          }
        }
      ]
    },
    {
      "cell_type": "markdown",
      "metadata": {
        "id": "p73T7MyeU2kS"
      },
      "source": [
        "## YAKE on a Crypto News dataset\n",
        "### The **YAKE!** model (Yet Another Keyword Extractor) is a **unsupervised** keyword extraction algorithm.\n",
        "You can load it via   which you can load via `nlu.load('yake')`. It has no weights and is very fast.\n",
        "It has various parameters that can be configured to influence which keywords are beeing extracted, [here for an more indepth YAKE guide](https://github.com/JohnSnowLabs/nlu/blob/master/examples/webinars_conferences_etc/multi_lingual_webinar/1_NLU_base_features_on_dataset_with_YAKE_Lemma_Stemm_classifiers_NER_.ipynb)"
      ]
    },
    {
      "cell_type": "code",
      "metadata": {
        "colab": {
          "base_uri": "https://localhost:8080/",
          "height": 640
        },
        "id": "Zu8-yar9VLqO",
        "outputId": "79f30da6-2589-4f6e-b31c-02e4c766dc34"
      },
      "source": [
        "yake_df = nlu.load('yake').predict(df)\n",
        "yake_df"
      ],
      "execution_count": 13,
      "outputs": [
        {
          "output_type": "stream",
          "text": [
            "sentence_detector_dl download started this may take some time.\n",
            "Approximate size to download 354.6 KB\n",
            "[OK!]\n"
          ],
          "name": "stdout"
        },
        {
          "output_type": "execute_result",
          "data": {
            "text/html": [
              "<div>\n",
              "<style scoped>\n",
              "    .dataframe tbody tr th:only-of-type {\n",
              "        vertical-align: middle;\n",
              "    }\n",
              "\n",
              "    .dataframe tbody tr th {\n",
              "        vertical-align: top;\n",
              "    }\n",
              "\n",
              "    .dataframe thead th {\n",
              "        text-align: right;\n",
              "    }\n",
              "</style>\n",
              "<table border=\"1\" class=\"dataframe\">\n",
              "  <thead>\n",
              "    <tr style=\"text-align: right;\">\n",
              "      <th></th>\n",
              "      <th>sentence</th>\n",
              "      <th>text</th>\n",
              "      <th>keywords</th>\n",
              "      <th>token</th>\n",
              "      <th>keywords_confidence</th>\n",
              "      <th>document</th>\n",
              "    </tr>\n",
              "  </thead>\n",
              "  <tbody>\n",
              "    <tr>\n",
              "      <th>0</th>\n",
              "      <td>[Bitcoin Price Update: Will China Lead us Down?]</td>\n",
              "      <td>Bitcoin Price Update: Will China Lead us Down?</td>\n",
              "      <td>[update, china, china lead]</td>\n",
              "      <td>[Bitcoin, Price, Update, :, Will, China, Lead,...</td>\n",
              "      <td>[0.5798862558280943, 0.5798862558280943, 0.506...</td>\n",
              "      <td>Bitcoin Price Update: Will China Lead us Down?</td>\n",
              "    </tr>\n",
              "    <tr>\n",
              "      <th>1</th>\n",
              "      <td>[Key Bitcoin Price Levels for Week 51 (15 – 22...</td>\n",
              "      <td>Key Bitcoin Price Levels for Week 51 (15 – 22 ...</td>\n",
              "      <td>[price, levels, price levels]</td>\n",
              "      <td>[Key, Bitcoin, Price, Levels, for, Week, 51, (...</td>\n",
              "      <td>[0.5798862558280943, 0.5798862558280943, 0.506...</td>\n",
              "      <td>Key Bitcoin Price Levels for Week 51 (15 – 22 ...</td>\n",
              "    </tr>\n",
              "    <tr>\n",
              "      <th>2</th>\n",
              "      <td>[National Australia Bank, Citing Highly Flawed...</td>\n",
              "      <td>National Australia Bank, Citing Highly Flawed ...</td>\n",
              "      <td>[bubble, citing highly flawed, highly flawed d...</td>\n",
              "      <td>[National, Australia, Bank, ,, Citing, Highly,...</td>\n",
              "      <td>[0.2865403036044788, 0.1955397590159521, 0.195...</td>\n",
              "      <td>National Australia Bank, Citing Highly Flawed ...</td>\n",
              "    </tr>\n",
              "    <tr>\n",
              "      <th>3</th>\n",
              "      <td>[Chinese Bitcoin Ban Driven by Chinese Banking...</td>\n",
              "      <td>Chinese Bitcoin Ban Driven by  Chinese Banking...</td>\n",
              "      <td>[ban driven, banking crisis, bitcoin ban driven]</td>\n",
              "      <td>[Chinese, Bitcoin, Ban, Driven, by, Chinese, B...</td>\n",
              "      <td>[0.29364120139579386, 0.29364120139579386, 0.2...</td>\n",
              "      <td>Chinese Bitcoin Ban Driven by Chinese Banking ...</td>\n",
              "    </tr>\n",
              "    <tr>\n",
              "      <th>4</th>\n",
              "      <td>[Bitcoin Trade Update: Opened Position]</td>\n",
              "      <td>Bitcoin Trade Update: Opened Position</td>\n",
              "      <td>[update, position, opened position]</td>\n",
              "      <td>[Bitcoin, Trade, Update, :, Opened, Position]</td>\n",
              "      <td>[0.5798862558280943, 0.26804494089513314, 0.18...</td>\n",
              "      <td>Bitcoin Trade Update: Opened Position</td>\n",
              "    </tr>\n",
              "    <tr>\n",
              "      <th>...</th>\n",
              "      <td>...</td>\n",
              "      <td>...</td>\n",
              "      <td>...</td>\n",
              "      <td>...</td>\n",
              "      <td>...</td>\n",
              "      <td>...</td>\n",
              "    </tr>\n",
              "    <tr>\n",
              "      <th>1995</th>\n",
              "      <td>[Bitcoin Bill Pay Company Living Room of Satos...</td>\n",
              "      <td>Bitcoin Bill Pay Company Living Room of Satosh...</td>\n",
              "      <td>[operations, resumes operations, satoshi resum...</td>\n",
              "      <td>[Bitcoin, Bill, Pay, Company, Living, Room, of...</td>\n",
              "      <td>[0.26804494089513314, 0.1840422979793308, 0.16...</td>\n",
              "      <td>Bitcoin Bill Pay Company Living Room of Satosh...</td>\n",
              "    </tr>\n",
              "    <tr>\n",
              "      <th>1996</th>\n",
              "      <td>[NYDFS Extends BitLicense Bitcoin Regulation C...</td>\n",
              "      <td>NYDFS Extends BitLicense Bitcoin Regulation Co...</td>\n",
              "      <td>[period, comment period, regulation comment pe...</td>\n",
              "      <td>[NYDFS, Extends, BitLicense, Bitcoin, Regulati...</td>\n",
              "      <td>[0.26804494089513314, 0.1840422979793308, 0.16...</td>\n",
              "      <td>NYDFS Extends BitLicense Bitcoin Regulation Co...</td>\n",
              "    </tr>\n",
              "    <tr>\n",
              "      <th>1997</th>\n",
              "      <td>[Bitfinex Passes Stefan Thomas’s Proof Of Solv...</td>\n",
              "      <td>Bitfinex Passes Stefan Thomas’s Proof Of Solve...</td>\n",
              "      <td>[proof, audit, solvency audit]</td>\n",
              "      <td>[Bitfinex, Passes, Stefan, Thomas’s, Proof, Of...</td>\n",
              "      <td>[0.5798862558280943, 0.26804494089513314, 0.18...</td>\n",
              "      <td>Bitfinex Passes Stefan Thomas’s Proof Of Solve...</td>\n",
              "    </tr>\n",
              "    <tr>\n",
              "      <th>1998</th>\n",
              "      <td>[Cryptocurrency Exchange Platform AlphaPoint P...</td>\n",
              "      <td>Cryptocurrency Exchange Platform AlphaPoint Pa...</td>\n",
              "      <td>[platform, growth, support growth]</td>\n",
              "      <td>[Cryptocurrency, Exchange, Platform, AlphaPoin...</td>\n",
              "      <td>[0.5798862558280943, 0.26804494089513314, 0.18...</td>\n",
              "      <td>Cryptocurrency Exchange Platform AlphaPoint Pa...</td>\n",
              "    </tr>\n",
              "    <tr>\n",
              "      <th>1999</th>\n",
              "      <td>[Want to Buy And Sell Bitcoin Fast and Secure?...</td>\n",
              "      <td>Want to Buy And Sell Bitcoin Fast and Secure? ...</td>\n",
              "      <td>[bitcoin fast, try coinrnr, sell bitcoin fast]</td>\n",
              "      <td>[Want, to, Buy, And, Sell, Bitcoin, Fast, and,...</td>\n",
              "      <td>[0.3579604335906263, 0.2564243599387429, 0.282...</td>\n",
              "      <td>Want to Buy And Sell Bitcoin Fast and Secure? ...</td>\n",
              "    </tr>\n",
              "  </tbody>\n",
              "</table>\n",
              "<p>2000 rows × 6 columns</p>\n",
              "</div>"
            ],
            "text/plain": [
              "                                               sentence  ...                                           document\n",
              "0      [Bitcoin Price Update: Will China Lead us Down?]  ...     Bitcoin Price Update: Will China Lead us Down?\n",
              "1     [Key Bitcoin Price Levels for Week 51 (15 – 22...  ...  Key Bitcoin Price Levels for Week 51 (15 – 22 ...\n",
              "2     [National Australia Bank, Citing Highly Flawed...  ...  National Australia Bank, Citing Highly Flawed ...\n",
              "3     [Chinese Bitcoin Ban Driven by Chinese Banking...  ...  Chinese Bitcoin Ban Driven by Chinese Banking ...\n",
              "4               [Bitcoin Trade Update: Opened Position]  ...              Bitcoin Trade Update: Opened Position\n",
              "...                                                 ...  ...                                                ...\n",
              "1995  [Bitcoin Bill Pay Company Living Room of Satos...  ...  Bitcoin Bill Pay Company Living Room of Satosh...\n",
              "1996  [NYDFS Extends BitLicense Bitcoin Regulation C...  ...  NYDFS Extends BitLicense Bitcoin Regulation Co...\n",
              "1997  [Bitfinex Passes Stefan Thomas’s Proof Of Solv...  ...  Bitfinex Passes Stefan Thomas’s Proof Of Solve...\n",
              "1998  [Cryptocurrency Exchange Platform AlphaPoint P...  ...  Cryptocurrency Exchange Platform AlphaPoint Pa...\n",
              "1999  [Want to Buy And Sell Bitcoin Fast and Secure?...  ...  Want to Buy And Sell Bitcoin Fast and Secure? ...\n",
              "\n",
              "[2000 rows x 6 columns]"
            ]
          },
          "metadata": {
            "tags": []
          },
          "execution_count": 13
        }
      ]
    },
    {
      "cell_type": "markdown",
      "metadata": {
        "id": "VJxjIrgdWZ0M"
      },
      "source": [
        "### Top 50 extracted Keywords with YAKE!"
      ]
    },
    {
      "cell_type": "code",
      "metadata": {
        "colab": {
          "base_uri": "https://localhost:8080/",
          "height": 1000
        },
        "id": "CMXkeiCLVo4u",
        "outputId": "7e7d908c-0a8b-4754-ddbf-fa19a350eab1"
      },
      "source": [
        "yake_df.explode('keywords').keywords.value_counts()[0:50].plot.barh(figsize=(14,18))"
      ],
      "execution_count": 14,
      "outputs": [
        {
          "output_type": "execute_result",
          "data": {
            "text/plain": [
              "<matplotlib.axes._subplots.AxesSubplot at 0x7f5b23f6fbd0>"
            ]
          },
          "metadata": {
            "tags": []
          },
          "execution_count": 14
        },
        {
          "output_type": "display_data",
          "data": {
            "image/png": "[encoded data removed]",
            "text/plain": [
              "<Figure size 1008x1296 with 1 Axes>"
            ]
          },
          "metadata": {
            "tags": [],
            "needs_background": "light"
          }
        }
      ]
    },
    {
      "cell_type": "markdown",
      "metadata": {
        "id": "gXoYzE_RBaaj"
      },
      "source": [
        "## Binary Sentimental Analysis and Distribution on a dataset"
      ]
    },
    {
      "cell_type": "code",
      "metadata": {
        "colab": {
          "base_uri": "https://localhost:8080/",
          "height": 793
        },
        "id": "yjHx4TR3_SMe",
        "outputId": "4ad41f37-4174-4a79-af84-d14c751b0ebd"
      },
      "source": [
        "sent_df = nlu.load('sentiment').predict(df)\n",
        "sent_df"
      ],
      "execution_count": 15,
      "outputs": [
        {
          "output_type": "stream",
          "text": [
            "sentimentdl_glove_imdb download started this may take some time.\n",
            "Approximate size to download 8.7 MB\n",
            "[OK!]\n",
            "glove_100d download started this may take some time.\n",
            "Approximate size to download 145.3 MB\n",
            "[OK!]\n",
            "glove_100d download started this may take some time.\n",
            "Approximate size to download 145.3 MB\n",
            "[OK!]\n",
            "sentence_detector_dl download started this may take some time.\n",
            "Approximate size to download 354.6 KB\n",
            "[OK!]\n"
          ],
          "name": "stdout"
        },
        {
          "output_type": "execute_result",
          "data": {
            "text/html": [
              "<div>\n",
              "<style scoped>\n",
              "    .dataframe tbody tr th:only-of-type {\n",
              "        vertical-align: middle;\n",
              "    }\n",
              "\n",
              "    .dataframe tbody tr th {\n",
              "        vertical-align: top;\n",
              "    }\n",
              "\n",
              "    .dataframe thead th {\n",
              "        text-align: right;\n",
              "    }\n",
              "</style>\n",
              "<table border=\"1\" class=\"dataframe\">\n",
              "  <thead>\n",
              "    <tr style=\"text-align: right;\">\n",
              "      <th></th>\n",
              "      <th>sentiment</th>\n",
              "      <th>sentiment_confidence</th>\n",
              "      <th>token</th>\n",
              "      <th>sentence</th>\n",
              "      <th>sentence_embedding_</th>\n",
              "      <th>text</th>\n",
              "      <th>document</th>\n",
              "      <th>word_embedding_glove_100d</th>\n",
              "    </tr>\n",
              "  </thead>\n",
              "  <tbody>\n",
              "    <tr>\n",
              "      <th>0</th>\n",
              "      <td>neg</td>\n",
              "      <td>0.899232</td>\n",
              "      <td>[Bitcoin, Price, Update, :, Will, China, Lead,...</td>\n",
              "      <td>[Bitcoin Price Update: Will China Lead us Down?]</td>\n",
              "      <td>[[0.03502599149942398, 0.3820391297340393, 0.7...</td>\n",
              "      <td>Bitcoin Price Update: Will China Lead us Down?</td>\n",
              "      <td>Bitcoin Price Update: Will China Lead us Down?</td>\n",
              "      <td>[[0.8403199911117554, 0.13267000019550323, -0....</td>\n",
              "    </tr>\n",
              "    <tr>\n",
              "      <th>1</th>\n",
              "      <td>neg</td>\n",
              "      <td>0.994394</td>\n",
              "      <td>[Key, Bitcoin, Price, Levels, for, Week, 51, (...</td>\n",
              "      <td>[Key Bitcoin Price Levels for Week 51 (15 – 22...</td>\n",
              "      <td>[[0.04941307753324509, 0.1195848360657692, 0.1...</td>\n",
              "      <td>Key Bitcoin Price Levels for Week 51 (15 – 22 ...</td>\n",
              "      <td>Key Bitcoin Price Levels for Week 51 (15 – 22 ...</td>\n",
              "      <td>[[-0.22009000182151794, 0.12280000001192093, 0...</td>\n",
              "    </tr>\n",
              "    <tr>\n",
              "      <th>2</th>\n",
              "      <td>neg</td>\n",
              "      <td>0.998585</td>\n",
              "      <td>[National, Australia, Bank, ,, Citing, Highly,...</td>\n",
              "      <td>[National Australia Bank, Citing Highly Flawed...</td>\n",
              "      <td>[[-0.1178220584988594, 0.02187376841902733, 0....</td>\n",
              "      <td>National Australia Bank, Citing Highly Flawed ...</td>\n",
              "      <td>National Australia Bank, Citing Highly Flawed ...</td>\n",
              "      <td>[[-0.003313800087198615, 0.3894599974155426, 0...</td>\n",
              "    </tr>\n",
              "    <tr>\n",
              "      <th>3</th>\n",
              "      <td>neg</td>\n",
              "      <td>0.999998</td>\n",
              "      <td>[Chinese, Bitcoin, Ban, Driven, by, Chinese, B...</td>\n",
              "      <td>[Chinese Bitcoin Ban Driven by Chinese Banking...</td>\n",
              "      <td>[[0.19560889899730682, 0.19520443677902222, 0....</td>\n",
              "      <td>Chinese Bitcoin Ban Driven by  Chinese Banking...</td>\n",
              "      <td>Chinese Bitcoin Ban Driven by Chinese Banking ...</td>\n",
              "      <td>[[0.4327400028705597, 0.3958199918270111, 0.58...</td>\n",
              "    </tr>\n",
              "    <tr>\n",
              "      <th>4</th>\n",
              "      <td>pos</td>\n",
              "      <td>0.985043</td>\n",
              "      <td>[Bitcoin, Trade, Update, :, Opened, Position]</td>\n",
              "      <td>[Bitcoin Trade Update: Opened Position]</td>\n",
              "      <td>[[0.048274993896484375, 0.14680083096027374, 0...</td>\n",
              "      <td>Bitcoin Trade Update: Opened Position</td>\n",
              "      <td>Bitcoin Trade Update: Opened Position</td>\n",
              "      <td>[[0.8403199911117554, 0.13267000019550323, -0....</td>\n",
              "    </tr>\n",
              "    <tr>\n",
              "      <th>...</th>\n",
              "      <td>...</td>\n",
              "      <td>...</td>\n",
              "      <td>...</td>\n",
              "      <td>...</td>\n",
              "      <td>...</td>\n",
              "      <td>...</td>\n",
              "      <td>...</td>\n",
              "      <td>...</td>\n",
              "    </tr>\n",
              "    <tr>\n",
              "      <th>1995</th>\n",
              "      <td>neg</td>\n",
              "      <td>0.998877</td>\n",
              "      <td>[Bitcoin, Bill, Pay, Company, Living, Room, of...</td>\n",
              "      <td>[Bitcoin Bill Pay Company Living Room of Satos...</td>\n",
              "      <td>[[0.16241469979286194, 0.06615719944238663, 0....</td>\n",
              "      <td>Bitcoin Bill Pay Company Living Room of Satosh...</td>\n",
              "      <td>Bitcoin Bill Pay Company Living Room of Satosh...</td>\n",
              "      <td>[[0.8403199911117554, 0.13267000019550323, -0....</td>\n",
              "    </tr>\n",
              "    <tr>\n",
              "      <th>1996</th>\n",
              "      <td>neg</td>\n",
              "      <td>0.998673</td>\n",
              "      <td>[NYDFS, Extends, BitLicense, Bitcoin, Regulati...</td>\n",
              "      <td>[NYDFS Extends BitLicense Bitcoin Regulation C...</td>\n",
              "      <td>[[0.1282588541507721, -0.1378742903470993, 0.1...</td>\n",
              "      <td>NYDFS Extends BitLicense Bitcoin Regulation Co...</td>\n",
              "      <td>NYDFS Extends BitLicense Bitcoin Regulation Co...</td>\n",
              "      <td>[[0.0, 0.0, 0.0, 0.0, 0.0, 0.0, 0.0, 0.0, 0.0,...</td>\n",
              "    </tr>\n",
              "    <tr>\n",
              "      <th>1997</th>\n",
              "      <td>neg</td>\n",
              "      <td>0.999471</td>\n",
              "      <td>[Bitfinex, Passes, Stefan, Thomas’s, Proof, Of...</td>\n",
              "      <td>[Bitfinex Passes Stefan Thomas’s Proof Of Solv...</td>\n",
              "      <td>[[-0.22165587544441223, -0.19953998923301697, ...</td>\n",
              "      <td>Bitfinex Passes Stefan Thomas’s Proof Of Solve...</td>\n",
              "      <td>Bitfinex Passes Stefan Thomas’s Proof Of Solve...</td>\n",
              "      <td>[[0.0, 0.0, 0.0, 0.0, 0.0, 0.0, 0.0, 0.0, 0.0,...</td>\n",
              "    </tr>\n",
              "    <tr>\n",
              "      <th>1998</th>\n",
              "      <td>pos</td>\n",
              "      <td>0.999911</td>\n",
              "      <td>[Cryptocurrency, Exchange, Platform, AlphaPoin...</td>\n",
              "      <td>[Cryptocurrency Exchange Platform AlphaPoint P...</td>\n",
              "      <td>[[0.027292732149362564, 0.3372064232826233, -0...</td>\n",
              "      <td>Cryptocurrency Exchange Platform AlphaPoint Pa...</td>\n",
              "      <td>Cryptocurrency Exchange Platform AlphaPoint Pa...</td>\n",
              "      <td>[[0.0, 0.0, 0.0, 0.0, 0.0, 0.0, 0.0, 0.0, 0.0,...</td>\n",
              "    </tr>\n",
              "    <tr>\n",
              "      <th>1999</th>\n",
              "      <td>neg</td>\n",
              "      <td>0.976379</td>\n",
              "      <td>[Want, to, Buy, And, Sell, Bitcoin, Fast, and,...</td>\n",
              "      <td>[Want to Buy And Sell Bitcoin Fast and Secure?...</td>\n",
              "      <td>[[0.0892653837800026, 0.25083836913108826, 0.1...</td>\n",
              "      <td>Want to Buy And Sell Bitcoin Fast and Secure? ...</td>\n",
              "      <td>Want to Buy And Sell Bitcoin Fast and Secure? ...</td>\n",
              "      <td>[[-0.17124000191688538, 0.5644699931144714, 0....</td>\n",
              "    </tr>\n",
              "  </tbody>\n",
              "</table>\n",
              "<p>2000 rows × 8 columns</p>\n",
              "</div>"
            ],
            "text/plain": [
              "     sentiment  ...                          word_embedding_glove_100d\n",
              "0          neg  ...  [[0.8403199911117554, 0.13267000019550323, -0....\n",
              "1          neg  ...  [[-0.22009000182151794, 0.12280000001192093, 0...\n",
              "2          neg  ...  [[-0.003313800087198615, 0.3894599974155426, 0...\n",
              "3          neg  ...  [[0.4327400028705597, 0.3958199918270111, 0.58...\n",
              "4          pos  ...  [[0.8403199911117554, 0.13267000019550323, -0....\n",
              "...        ...  ...                                                ...\n",
              "1995       neg  ...  [[0.8403199911117554, 0.13267000019550323, -0....\n",
              "1996       neg  ...  [[0.0, 0.0, 0.0, 0.0, 0.0, 0.0, 0.0, 0.0, 0.0,...\n",
              "1997       neg  ...  [[0.0, 0.0, 0.0, 0.0, 0.0, 0.0, 0.0, 0.0, 0.0,...\n",
              "1998       pos  ...  [[0.0, 0.0, 0.0, 0.0, 0.0, 0.0, 0.0, 0.0, 0.0,...\n",
              "1999       neg  ...  [[-0.17124000191688538, 0.5644699931144714, 0....\n",
              "\n",
              "[2000 rows x 8 columns]"
            ]
          },
          "metadata": {
            "tags": []
          },
          "execution_count": 15
        }
      ]
    },
    {
      "cell_type": "code",
      "metadata": {
        "colab": {
          "base_uri": "https://localhost:8080/",
          "height": 324
        },
        "id": "3LHQb5biErAv",
        "outputId": "e4e75691-7591-4c53-c7b8-fa7cba43e0ac"
      },
      "source": [
        "sent_df.sentiment.value_counts().plot.bar(title='Sentiment ')"
      ],
      "execution_count": 16,
      "outputs": [
        {
          "output_type": "execute_result",
          "data": {
            "text/plain": [
              "<matplotlib.axes._subplots.AxesSubplot at 0x7f5b208a9b50>"
            ]
          },
          "metadata": {
            "tags": []
          },
          "execution_count": 16
        },
        {
          "output_type": "display_data",
          "data": {
            "image/png": "[encoded data removed]",
            "text/plain": [
              "<Figure size 432x288 with 1 Axes>"
            ]
          },
          "metadata": {
            "tags": [],
            "needs_background": "light"
          }
        }
      ]
    },
    {
      "cell_type": "markdown",
      "metadata": {
        "id": "3a3xxhUSCDhJ"
      },
      "source": [
        "## Emotional Analysis and Distribution of Headlines "
      ]
    },
    {
      "cell_type": "code",
      "metadata": {
        "colab": {
          "base_uri": "https://localhost:8080/",
          "height": 572
        },
        "id": "rrYi4f1PEpV3",
        "outputId": "b8caa3bf-ccb5-4582-b946-43d9da2eccb3"
      },
      "source": [
        "emo_df = nlu.load('emotion').predict(df)\n",
        "emo_df"
      ],
      "execution_count": 17,
      "outputs": [
        {
          "output_type": "stream",
          "text": [
            "classifierdl_use_emotion download started this may take some time.\n",
            "Approximate size to download 21.3 MB\n",
            "[OK!]\n",
            "tfhub_use download started this may take some time.\n",
            "Approximate size to download 923.7 MB\n",
            "[OK!]\n",
            "sentence_detector_dl download started this may take some time.\n",
            "Approximate size to download 354.6 KB\n",
            "[OK!]\n"
          ],
          "name": "stdout"
        },
        {
          "output_type": "execute_result",
          "data": {
            "text/html": [
              "<div>\n",
              "<style scoped>\n",
              "    .dataframe tbody tr th:only-of-type {\n",
              "        vertical-align: middle;\n",
              "    }\n",
              "\n",
              "    .dataframe tbody tr th {\n",
              "        vertical-align: top;\n",
              "    }\n",
              "\n",
              "    .dataframe thead th {\n",
              "        text-align: right;\n",
              "    }\n",
              "</style>\n",
              "<table border=\"1\" class=\"dataframe\">\n",
              "  <thead>\n",
              "    <tr style=\"text-align: right;\">\n",
              "      <th></th>\n",
              "      <th>sentence</th>\n",
              "      <th>emotion_confidence_confidence</th>\n",
              "      <th>sentence_embedding_use</th>\n",
              "      <th>text</th>\n",
              "      <th>document</th>\n",
              "      <th>emotion</th>\n",
              "    </tr>\n",
              "  </thead>\n",
              "  <tbody>\n",
              "    <tr>\n",
              "      <th>0</th>\n",
              "      <td>[Bitcoin Price Update: Will China Lead us Down?]</td>\n",
              "      <td>[0.9981729]</td>\n",
              "      <td>[[0.05829371139407158, -0.036904484033584595, ...</td>\n",
              "      <td>Bitcoin Price Update: Will China Lead us Down?</td>\n",
              "      <td>Bitcoin Price Update: Will China Lead us Down?</td>\n",
              "      <td>[fear]</td>\n",
              "    </tr>\n",
              "    <tr>\n",
              "      <th>1</th>\n",
              "      <td>[Key Bitcoin Price Levels for Week 51 (15 – 22...</td>\n",
              "      <td>[0.9976956]</td>\n",
              "      <td>[[0.038088250905275345, -0.04514157399535179, ...</td>\n",
              "      <td>Key Bitcoin Price Levels for Week 51 (15 – 22 ...</td>\n",
              "      <td>Key Bitcoin Price Levels for Week 51 (15 – 22 ...</td>\n",
              "      <td>[joy]</td>\n",
              "    </tr>\n",
              "    <tr>\n",
              "      <th>2</th>\n",
              "      <td>[National Australia Bank, Citing Highly Flawed...</td>\n",
              "      <td>[0.9999975]</td>\n",
              "      <td>[[0.05034318566322327, -0.01303655095398426, -...</td>\n",
              "      <td>National Australia Bank, Citing Highly Flawed ...</td>\n",
              "      <td>National Australia Bank, Citing Highly Flawed ...</td>\n",
              "      <td>[fear]</td>\n",
              "    </tr>\n",
              "    <tr>\n",
              "      <th>3</th>\n",
              "      <td>[Chinese Bitcoin Ban Driven by Chinese Banking...</td>\n",
              "      <td>[0.9991346]</td>\n",
              "      <td>[[0.055152829736471176, -0.05237917602062225, ...</td>\n",
              "      <td>Chinese Bitcoin Ban Driven by  Chinese Banking...</td>\n",
              "      <td>Chinese Bitcoin Ban Driven by Chinese Banking ...</td>\n",
              "      <td>[fear]</td>\n",
              "    </tr>\n",
              "    <tr>\n",
              "      <th>4</th>\n",
              "      <td>[Bitcoin Trade Update: Opened Position]</td>\n",
              "      <td>[0.9988637]</td>\n",
              "      <td>[[0.05926975607872009, -0.056463420391082764, ...</td>\n",
              "      <td>Bitcoin Trade Update: Opened Position</td>\n",
              "      <td>Bitcoin Trade Update: Opened Position</td>\n",
              "      <td>[joy]</td>\n",
              "    </tr>\n",
              "    <tr>\n",
              "      <th>...</th>\n",
              "      <td>...</td>\n",
              "      <td>...</td>\n",
              "      <td>...</td>\n",
              "      <td>...</td>\n",
              "      <td>...</td>\n",
              "      <td>...</td>\n",
              "    </tr>\n",
              "    <tr>\n",
              "      <th>1995</th>\n",
              "      <td>[Bitcoin Bill Pay Company Living Room of Satos...</td>\n",
              "      <td>[0.9940252]</td>\n",
              "      <td>[[0.06101563200354576, -0.038709379732608795, ...</td>\n",
              "      <td>Bitcoin Bill Pay Company Living Room of Satosh...</td>\n",
              "      <td>Bitcoin Bill Pay Company Living Room of Satosh...</td>\n",
              "      <td>[joy]</td>\n",
              "    </tr>\n",
              "    <tr>\n",
              "      <th>1996</th>\n",
              "      <td>[NYDFS Extends BitLicense Bitcoin Regulation C...</td>\n",
              "      <td>[0.9982809]</td>\n",
              "      <td>[[0.0639236643910408, -0.05505230277776718, -0...</td>\n",
              "      <td>NYDFS Extends BitLicense Bitcoin Regulation Co...</td>\n",
              "      <td>NYDFS Extends BitLicense Bitcoin Regulation Co...</td>\n",
              "      <td>[fear]</td>\n",
              "    </tr>\n",
              "    <tr>\n",
              "      <th>1997</th>\n",
              "      <td>[Bitfinex Passes Stefan Thomas’s Proof Of Solv...</td>\n",
              "      <td>[0.7720523]</td>\n",
              "      <td>[[0.059178080409765244, -0.041498005390167236,...</td>\n",
              "      <td>Bitfinex Passes Stefan Thomas’s Proof Of Solve...</td>\n",
              "      <td>Bitfinex Passes Stefan Thomas’s Proof Of Solve...</td>\n",
              "      <td>[fear]</td>\n",
              "    </tr>\n",
              "    <tr>\n",
              "      <th>1998</th>\n",
              "      <td>[Cryptocurrency Exchange Platform AlphaPoint P...</td>\n",
              "      <td>[0.99934787]</td>\n",
              "      <td>[[0.05369672179222107, -0.023480931296944618, ...</td>\n",
              "      <td>Cryptocurrency Exchange Platform AlphaPoint Pa...</td>\n",
              "      <td>Cryptocurrency Exchange Platform AlphaPoint Pa...</td>\n",
              "      <td>[joy]</td>\n",
              "    </tr>\n",
              "    <tr>\n",
              "      <th>1999</th>\n",
              "      <td>[Want to Buy And Sell Bitcoin Fast and Secure?...</td>\n",
              "      <td>[0.9989053, 0.9989053]</td>\n",
              "      <td>[[0.0626637190580368, -0.05945301055908203, -0...</td>\n",
              "      <td>Want to Buy And Sell Bitcoin Fast and Secure? ...</td>\n",
              "      <td>Want to Buy And Sell Bitcoin Fast and Secure? ...</td>\n",
              "      <td>[fear, fear]</td>\n",
              "    </tr>\n",
              "  </tbody>\n",
              "</table>\n",
              "<p>2000 rows × 6 columns</p>\n",
              "</div>"
            ],
            "text/plain": [
              "                                               sentence  ...       emotion\n",
              "0      [Bitcoin Price Update: Will China Lead us Down?]  ...        [fear]\n",
              "1     [Key Bitcoin Price Levels for Week 51 (15 – 22...  ...         [joy]\n",
              "2     [National Australia Bank, Citing Highly Flawed...  ...        [fear]\n",
              "3     [Chinese Bitcoin Ban Driven by Chinese Banking...  ...        [fear]\n",
              "4               [Bitcoin Trade Update: Opened Position]  ...         [joy]\n",
              "...                                                 ...  ...           ...\n",
              "1995  [Bitcoin Bill Pay Company Living Room of Satos...  ...         [joy]\n",
              "1996  [NYDFS Extends BitLicense Bitcoin Regulation C...  ...        [fear]\n",
              "1997  [Bitfinex Passes Stefan Thomas’s Proof Of Solv...  ...        [fear]\n",
              "1998  [Cryptocurrency Exchange Platform AlphaPoint P...  ...         [joy]\n",
              "1999  [Want to Buy And Sell Bitcoin Fast and Secure?...  ...  [fear, fear]\n",
              "\n",
              "[2000 rows x 6 columns]"
            ]
          },
          "metadata": {
            "tags": []
          },
          "execution_count": 17
        }
      ]
    },
    {
      "cell_type": "code",
      "metadata": {
        "colab": {
          "base_uri": "https://localhost:8080/",
          "height": 430
        },
        "id": "anyAVNjFCG9H",
        "outputId": "abfe5300-5231-41de-e9c2-3436c9939610"
      },
      "source": [
        "emo_df.emotion.value_counts().plot.bar(title='Emotion Distribution')\n"
      ],
      "execution_count": 18,
      "outputs": [
        {
          "output_type": "execute_result",
          "data": {
            "text/plain": [
              "<matplotlib.axes._subplots.AxesSubplot at 0x7f5b2c5d5d10>"
            ]
          },
          "metadata": {
            "tags": []
          },
          "execution_count": 18
        },
        {
          "output_type": "display_data",
          "data": {
            "image/png": "[encoded data removed]",
            "text/plain": [
              "<Figure size 432x288 with 1 Axes>"
            ]
          },
          "metadata": {
            "tags": [],
            "needs_background": "light"
          }
        }
      ]
    },
    {
      "cell_type": "markdown",
      "metadata": {
        "id": "a7wmKnjfiMjo"
      },
      "source": [
        "**Make sure to restart your notebook again** before starting the next section"
      ]
    },
    {
      "cell_type": "code",
      "metadata": {
        "colab": {
          "base_uri": "https://localhost:8080/",
          "height": 197
        },
        "id": "BHD2-AnQsYbX",
        "outputId": "9bffb208-963f-4c88-a405-df968c790d30"
      },
      "source": [
        "print(\"Please restart kernel if you are in google colab to free up RAM\")\n",
        "1+'wait'\n"
      ],
      "execution_count": 2,
      "outputs": [
        {
          "output_type": "stream",
          "text": [
            "Please restart kernel if you are in google colab to free up RAM\n"
          ],
          "name": "stdout"
        },
        {
          "output_type": "error",
          "ename": "TypeError",
          "evalue": "ignored",
          "traceback": [
            "\u001b[0;31m---------------------------------------------------------------------------\u001b[0m",
            "\u001b[0;31mTypeError\u001b[0m                                 Traceback (most recent call last)",
            "\u001b[0;32m<ipython-input-2-eb226dd89e38>\u001b[0m in \u001b[0;36m<module>\u001b[0;34m()\u001b[0m\n\u001b[1;32m      1\u001b[0m \u001b[0mprint\u001b[0m\u001b[0;34m(\u001b[0m\u001b[0;34m\"Please restart kernel if you are in google colab to free up RAM\"\u001b[0m\u001b[0;34m)\u001b[0m\u001b[0;34m\u001b[0m\u001b[0;34m\u001b[0m\u001b[0m\n\u001b[0;32m----> 2\u001b[0;31m \u001b[0;36m1\u001b[0m\u001b[0;34m+\u001b[0m\u001b[0;34m'wait'\u001b[0m\u001b[0;34m\u001b[0m\u001b[0;34m\u001b[0m\u001b[0m\n\u001b[0m",
            "\u001b[0;31mTypeError\u001b[0m: unsupported operand type(s) for +: 'int' and 'str'"
          ]
        }
      ]
    },
    {
      "cell_type": "code",
      "metadata": {
        "id": "-EMQEjLaXFlE"
      },
      "source": [
        "import nlu \n",
        "import pandas as pd "
      ],
      "execution_count": 1,
      "outputs": []
    },
    {
      "cell_type": "markdown",
      "metadata": {
        "id": "rN_H9hKmApll"
      },
      "source": [
        "# Answer **Closed Book** and Open **Book Questions** with Google's T5!\n",
        "\n",
        "<!-- [T5]() -->\n",
        "![T5 GIF](https://1.bp.blogspot.com/-o4oiOExxq1s/Xk26XPC3haI/AAAAAAAAFU8/NBlvOWB84L0PTYy9TzZBaLf6fwPGJTR0QCLcBGAsYHQ/s1600/image3.gif)\n",
        "\n",
        "You can load the **question answering** model with `nlu.load('en.t5')`"
      ]
    },
    {
      "cell_type": "code",
      "metadata": {
        "colab": {
          "base_uri": "https://localhost:8080/"
        },
        "id": "sKmud8AHN9yo",
        "outputId": "675ba8b1-dbce-4f62-a395-b6bf21a12d65"
      },
      "source": [
        "# Load question answering T5 model\n",
        "t5_closed_question = nlu.load('en.t5')"
      ],
      "execution_count": 3,
      "outputs": [
        {
          "output_type": "stream",
          "text": [
            "google_t5_small_ssm_nq download started this may take some time.\n",
            "Approximate size to download 139 MB\n",
            "[OK!]\n"
          ],
          "name": "stdout"
        }
      ]
    },
    {
      "cell_type": "markdown",
      "metadata": {
        "id": "-F9rrWbfNyPZ"
      },
      "source": [
        "## Answer **Closed Book Questions**  \n",
        "Closed book means that no additional context is given and the model must answer the question with the knowledge stored in it's weights"
      ]
    },
    {
      "cell_type": "code",
      "metadata": {
        "colab": {
          "base_uri": "https://localhost:8080/",
          "height": 80
        },
        "id": "QsvnphOwfzVQ",
        "outputId": "a9d708f4-93d7-40fc-d103-552197365318"
      },
      "source": [
        "t5_closed_question.predict(\"Who is president of Nigeria?\")"
      ],
      "execution_count": 4,
      "outputs": [
        {
          "output_type": "execute_result",
          "data": {
            "text/html": [
              "<div>\n",
              "<style scoped>\n",
              "    .dataframe tbody tr th:only-of-type {\n",
              "        vertical-align: middle;\n",
              "    }\n",
              "\n",
              "    .dataframe tbody tr th {\n",
              "        vertical-align: top;\n",
              "    }\n",
              "\n",
              "    .dataframe thead th {\n",
              "        text-align: right;\n",
              "    }\n",
              "</style>\n",
              "<table border=\"1\" class=\"dataframe\">\n",
              "  <thead>\n",
              "    <tr style=\"text-align: right;\">\n",
              "      <th></th>\n",
              "      <th>text</th>\n",
              "      <th>document</th>\n",
              "      <th>t5</th>\n",
              "    </tr>\n",
              "  </thead>\n",
              "  <tbody>\n",
              "    <tr>\n",
              "      <th>0</th>\n",
              "      <td>Who is president of Nigeria?</td>\n",
              "      <td>Who is president of Nigeria?</td>\n",
              "      <td>Muhammadu Buhari</td>\n",
              "    </tr>\n",
              "  </tbody>\n",
              "</table>\n",
              "</div>"
            ],
            "text/plain": [
              "                           text                      document                t5\n",
              "0  Who is president of Nigeria?  Who is president of Nigeria?  Muhammadu Buhari"
            ]
          },
          "metadata": {
            "tags": []
          },
          "execution_count": 4
        }
      ]
    },
    {
      "cell_type": "code",
      "metadata": {
        "colab": {
          "base_uri": "https://localhost:8080/",
          "height": 80
        },
        "id": "DcTbqAGmM6YY",
        "outputId": "37e1e234-0a49-4a8b-96bc-6dc3bb8dba06"
      },
      "source": [
        "t5_closed_question.predict(\"What is the most common language in India?\")"
      ],
      "execution_count": 5,
      "outputs": [
        {
          "output_type": "execute_result",
          "data": {
            "text/html": [
              "<div>\n",
              "<style scoped>\n",
              "    .dataframe tbody tr th:only-of-type {\n",
              "        vertical-align: middle;\n",
              "    }\n",
              "\n",
              "    .dataframe tbody tr th {\n",
              "        vertical-align: top;\n",
              "    }\n",
              "\n",
              "    .dataframe thead th {\n",
              "        text-align: right;\n",
              "    }\n",
              "</style>\n",
              "<table border=\"1\" class=\"dataframe\">\n",
              "  <thead>\n",
              "    <tr style=\"text-align: right;\">\n",
              "      <th></th>\n",
              "      <th>document</th>\n",
              "      <th>t5</th>\n",
              "    </tr>\n",
              "  </thead>\n",
              "  <tbody>\n",
              "    <tr>\n",
              "      <th>0</th>\n",
              "      <td>What is the most common language in India?</td>\n",
              "      <td>Hindi</td>\n",
              "    </tr>\n",
              "  </tbody>\n",
              "</table>\n",
              "</div>"
            ],
            "text/plain": [
              "                                     document     t5\n",
              "0  What is the most common language in India?  Hindi"
            ]
          },
          "metadata": {
            "tags": []
          },
          "execution_count": 5
        }
      ]
    },
    {
      "cell_type": "code",
      "metadata": {
        "colab": {
          "base_uri": "https://localhost:8080/",
          "height": 80
        },
        "id": "2Rb4EhK_NAb3",
        "outputId": "6eb62996-a06e-4456-dbd4-22f1dd9e330e"
      },
      "source": [
        "t5_closed_question.predict(\"What is the capital of Germany?\")"
      ],
      "execution_count": 6,
      "outputs": [
        {
          "output_type": "execute_result",
          "data": {
            "text/html": [
              "<div>\n",
              "<style scoped>\n",
              "    .dataframe tbody tr th:only-of-type {\n",
              "        vertical-align: middle;\n",
              "    }\n",
              "\n",
              "    .dataframe tbody tr th {\n",
              "        vertical-align: top;\n",
              "    }\n",
              "\n",
              "    .dataframe thead th {\n",
              "        text-align: right;\n",
              "    }\n",
              "</style>\n",
              "<table border=\"1\" class=\"dataframe\">\n",
              "  <thead>\n",
              "    <tr style=\"text-align: right;\">\n",
              "      <th></th>\n",
              "      <th>document</th>\n",
              "      <th>t5</th>\n",
              "    </tr>\n",
              "  </thead>\n",
              "  <tbody>\n",
              "    <tr>\n",
              "      <th>0</th>\n",
              "      <td>What is the capital of Germany?</td>\n",
              "      <td>Berlin</td>\n",
              "    </tr>\n",
              "  </tbody>\n",
              "</table>\n",
              "</div>"
            ],
            "text/plain": [
              "                          document      t5\n",
              "0  What is the capital of Germany?  Berlin"
            ]
          },
          "metadata": {
            "tags": []
          },
          "execution_count": 6
        }
      ]
    },
    {
      "cell_type": "markdown",
      "metadata": {
        "id": "ogxJNa5MOOQj"
      },
      "source": [
        "## Answer **Open Book Questions** \n",
        "These are questions where we give the model some additional context, that is used to answer the question"
      ]
    },
    {
      "cell_type": "code",
      "metadata": {
        "colab": {
          "base_uri": "https://localhost:8080/"
        },
        "id": "e9cwqQGtaTa5",
        "outputId": "d9f2d763-2322-4daa-9913-1202483fdd09"
      },
      "source": [
        "t5_open_book = nlu.load('answer_question')"
      ],
      "execution_count": 7,
      "outputs": [
        {
          "output_type": "stream",
          "text": [
            "t5_base download started this may take some time.\n",
            "Approximate size to download 446 MB\n",
            "[OK!]\n"
          ],
          "name": "stdout"
        }
      ]
    },
    {
      "cell_type": "code",
      "metadata": {
        "colab": {
          "base_uri": "https://localhost:8080/",
          "height": 111
        },
        "id": "OB5GOHxPYUYM",
        "outputId": "17520d65-479d-4099-9d3c-ec08e408467f"
      },
      "source": [
        "context   = 'Peters last week was terrible! He had an accident and broke his leg while skiing!'\n",
        "question1  = 'Why was peters week so bad?' \n",
        "question2  = 'How did peter broke his leg?' \n",
        "\n",
        "t5_open_book.predict([question1+context, question2 + context]) "
      ],
      "execution_count": 8,
      "outputs": [
        {
          "output_type": "execute_result",
          "data": {
            "text/html": [
              "<div>\n",
              "<style scoped>\n",
              "    .dataframe tbody tr th:only-of-type {\n",
              "        vertical-align: middle;\n",
              "    }\n",
              "\n",
              "    .dataframe tbody tr th {\n",
              "        vertical-align: top;\n",
              "    }\n",
              "\n",
              "    .dataframe thead th {\n",
              "        text-align: right;\n",
              "    }\n",
              "</style>\n",
              "<table border=\"1\" class=\"dataframe\">\n",
              "  <thead>\n",
              "    <tr style=\"text-align: right;\">\n",
              "      <th></th>\n",
              "      <th>text</th>\n",
              "      <th>document</th>\n",
              "      <th>t5</th>\n",
              "    </tr>\n",
              "  </thead>\n",
              "  <tbody>\n",
              "    <tr>\n",
              "      <th>0</th>\n",
              "      <td>Why was peters week so bad?Peters last week wa...</td>\n",
              "      <td>Why was peters week so bad?Peters last week wa...</td>\n",
              "      <td>He had an accident and broke his leg while skiing</td>\n",
              "    </tr>\n",
              "    <tr>\n",
              "      <th>1</th>\n",
              "      <td>How did peter broke his leg?Peters last week w...</td>\n",
              "      <td>How did peter broke his leg?Peters last week w...</td>\n",
              "      <td>skiing</td>\n",
              "    </tr>\n",
              "  </tbody>\n",
              "</table>\n",
              "</div>"
            ],
            "text/plain": [
              "                                                text  ...                                                 t5\n",
              "0  Why was peters week so bad?Peters last week wa...  ...  He had an accident and broke his leg while skiing\n",
              "1  How did peter broke his leg?Peters last week w...  ...                                             skiing\n",
              "\n",
              "[2 rows x 3 columns]"
            ]
          },
          "metadata": {
            "tags": []
          },
          "execution_count": 8
        }
      ]
    },
    {
      "cell_type": "code",
      "metadata": {
        "id": "kZb_BdGm1-yc"
      },
      "source": [
        "# Ask T5 questions in the context of a News Article\n",
        "question1 = 'Who is Jack ma?'\n",
        "question2 = 'Who is founder of Alibaba Group?'\n",
        "question3 = 'When did Jack Ma re-appear?'\n",
        "question4 = 'How did Alibaba stocks react?'\n",
        "question5 = 'Whom did Jack Ma meet?'\n",
        "question6 = 'Who did Jack Ma hide from?'\n",
        "\n",
        "\n",
        "# from https://www.bbc.com/news/business-55728338 \n",
        "news_article_context = \"\"\" context:\n",
        "Alibaba Group founder Jack Ma has made his first appearance since Chinese regulators cracked down on his business empire.\n",
        "His absence had fuelled speculation over his whereabouts amid increasing official scrutiny of his businesses.\n",
        "The billionaire met 100 rural teachers in China via a video meeting on Wednesday, according to local government media.\n",
        "Alibaba shares surged 5% on Hong Kong's stock exchange on the news.\n",
        "\"\"\"\n",
        "\n",
        "questions = [\n",
        "             question1+ news_article_context,\n",
        "             question2+ news_article_context,\n",
        "             question3+ news_article_context,\n",
        "             question4+ news_article_context,\n",
        "             question5+ news_article_context,\n",
        "             question6+ news_article_context,]\n",
        "\n"
      ],
      "execution_count": 9,
      "outputs": []
    },
    {
      "cell_type": "code",
      "metadata": {
        "colab": {
          "base_uri": "https://localhost:8080/",
          "height": 235
        },
        "id": "e0kTj4ZN4kJi",
        "outputId": "347574b2-48d3-4225-8dfa-658d3cea5dd4"
      },
      "source": [
        "t5_open_book.predict(questions)"
      ],
      "execution_count": 10,
      "outputs": [
        {
          "output_type": "execute_result",
          "data": {
            "text/html": [
              "<div>\n",
              "<style scoped>\n",
              "    .dataframe tbody tr th:only-of-type {\n",
              "        vertical-align: middle;\n",
              "    }\n",
              "\n",
              "    .dataframe tbody tr th {\n",
              "        vertical-align: top;\n",
              "    }\n",
              "\n",
              "    .dataframe thead th {\n",
              "        text-align: right;\n",
              "    }\n",
              "</style>\n",
              "<table border=\"1\" class=\"dataframe\">\n",
              "  <thead>\n",
              "    <tr style=\"text-align: right;\">\n",
              "      <th></th>\n",
              "      <th>document</th>\n",
              "      <th>t5</th>\n",
              "    </tr>\n",
              "  </thead>\n",
              "  <tbody>\n",
              "    <tr>\n",
              "      <th>0</th>\n",
              "      <td>Who is Jack ma? context: Alibaba Group founder...</td>\n",
              "      <td>Alibaba Group founder</td>\n",
              "    </tr>\n",
              "    <tr>\n",
              "      <th>1</th>\n",
              "      <td>Who is founder of Alibaba Group? context: Alib...</td>\n",
              "      <td>Jack Ma</td>\n",
              "    </tr>\n",
              "    <tr>\n",
              "      <th>2</th>\n",
              "      <td>When did Jack Ma re-appear? context: Alibaba G...</td>\n",
              "      <td>Wednesday</td>\n",
              "    </tr>\n",
              "    <tr>\n",
              "      <th>3</th>\n",
              "      <td>How did Alibaba stocks react? context: Alibaba...</td>\n",
              "      <td>surged 5%</td>\n",
              "    </tr>\n",
              "    <tr>\n",
              "      <th>4</th>\n",
              "      <td>Whom did Jack Ma meet? context: Alibaba Group ...</td>\n",
              "      <td>100 rural teachers</td>\n",
              "    </tr>\n",
              "    <tr>\n",
              "      <th>5</th>\n",
              "      <td>Who did Jack Ma hide from? context: Alibaba Gr...</td>\n",
              "      <td>Chinese regulators</td>\n",
              "    </tr>\n",
              "  </tbody>\n",
              "</table>\n",
              "</div>"
            ],
            "text/plain": [
              "                                            document                     t5\n",
              "0  Who is Jack ma? context: Alibaba Group founder...  Alibaba Group founder\n",
              "1  Who is founder of Alibaba Group? context: Alib...                Jack Ma\n",
              "2  When did Jack Ma re-appear? context: Alibaba G...              Wednesday\n",
              "3  How did Alibaba stocks react? context: Alibaba...              surged 5%\n",
              "4  Whom did Jack Ma meet? context: Alibaba Group ...     100 rural teachers\n",
              "5  Who did Jack Ma hide from? context: Alibaba Gr...     Chinese regulators"
            ]
          },
          "metadata": {
            "tags": []
          },
          "execution_count": 10
        }
      ]
    },
    {
      "cell_type": "markdown",
      "metadata": {
        "id": "xJIuT3ZhOhoc"
      },
      "source": [
        "# Multi Problem T5 model for Summarization and more\n",
        "The main T5 model was trained for over 20 tasks from the SQUAD/GLUE/SUPERGLUE datasets. See [this notebook](https://github.com/JohnSnowLabs/nlu/blob/master/examples/webinars_conferences_etc/multi_lingual_webinar/7_T5_SQUAD_GLUE_SUPER_GLUE_TASKS.ipynb) for a demo of all tasks \n",
        "\n",
        "\n",
        "# Overview of every task available with T5\n",
        "[The T5 model](https://arxiv.org/pdf/1910.10683.pdf) is trained on various datasets for 17 different tasks which fall into 8 categories.\n",
        "\n",
        "\n",
        "\n",
        "1. Text summarization\n",
        "2. Question answering\n",
        "3. Translation\n",
        "4. Sentiment analysis\n",
        "5. Natural Language inference\n",
        "6. Coreference resolution\n",
        "7. Sentence Completion\n",
        "8. Word sense disambiguation\n",
        "\n",
        "### Every T5 Task with explanation:\n",
        "|Task Name | Explanation | \n",
        "|----------|--------------|\n",
        "|[1.CoLA](https://nyu-mll.github.io/CoLA/)                   | Classify if a sentence is gramaticaly correct|\n",
        "|[2.RTE](https://dl.acm.org/doi/10.1007/11736790_9)                    | Classify whether if a statement can be deducted from a sentence|\n",
        "|[3.MNLI](https://arxiv.org/abs/1704.05426)                   | Classify for a hypothesis and premise whether they contradict or contradict each other or neither of both (3 class).|\n",
        "|[4.MRPC](https://www.aclweb.org/anthology/I05-5002.pdf)                   | Classify whether a pair of sentences is a re-phrasing of each other (semantically equivalent)|\n",
        "|[5.QNLI](https://arxiv.org/pdf/1804.07461.pdf)                   | Classify whether the answer to a question can be deducted from an answer candidate.|\n",
        "|[6.QQP](https://www.quora.com/q/quoradata/First-Quora-Dataset-Release-Question-Pairs)                    | Classify whether a pair of questions is a re-phrasing of each other (semantically equivalent)|\n",
        "|[7.SST2](https://www.aclweb.org/anthology/D13-1170.pdf)                   | Classify the sentiment of a sentence as positive or negative|\n",
        "|[8.STSB](https://www.aclweb.org/anthology/S17-2001/)                   | Classify the sentiment of a sentence on a scale from 1 to 5 (21 Sentiment classes)|\n",
        "|[9.CB](https://ojs.ub.uni-konstanz.de/sub/index.php/sub/article/view/601)                     | Classify for a premise and a hypothesis whether they contradict each other or not (binary).|\n",
        "|[10.COPA](https://www.aaai.org/ocs/index.php/SSS/SSS11/paper/view/2418/0)                   | Classify for a question, premise, and 2 choices which choice the correct choice is (binary).|\n",
        "|[11.MultiRc](https://www.aclweb.org/anthology/N18-1023.pdf)                | Classify for a question, a paragraph of text, and an answer candidate, if the answer is correct (binary),|\n",
        "|[12.WiC](https://arxiv.org/abs/1808.09121)                    | Classify for a pair of sentences and a disambigous word if the word has the same meaning in both sentences.|\n",
        "|[13.WSC/DPR](https://www.aaai.org/ocs/index.php/KR/KR12/paper/view/4492/0)       | Predict for an ambiguous pronoun in a sentence what it is referring to.  |\n",
        "|[14.Summarization](https://arxiv.org/abs/1506.03340)          | Summarize text into a shorter representation.|\n",
        "|[15.SQuAD](https://arxiv.org/abs/1606.05250)                  | Answer a question for a given context.|\n",
        "|[16.WMT1.](https://arxiv.org/abs/1706.03762)                  | Translate English to German|\n",
        "|[17.WMT2.](https://arxiv.org/abs/1706.03762)                   | Translate English to French|\n",
        "|[18.WMT3.](https://arxiv.org/abs/1706.03762)                   | Translate English to Romanian|\n",
        "\n"
      ]
    },
    {
      "cell_type": "code",
      "metadata": {
        "colab": {
          "base_uri": "https://localhost:8080/"
        },
        "id": "XJw187r91QKN",
        "outputId": "c78bbdb3-0272-438d-bc05-2b2e2ec817dc"
      },
      "source": [
        "# Load the Multi Task Model T5\n",
        "t5_multi = nlu.load('en.t5.base')"
      ],
      "execution_count": 11,
      "outputs": [
        {
          "output_type": "stream",
          "text": [
            "t5_base download started this may take some time.\n",
            "Approximate size to download 446 MB\n",
            "[OK!]\n"
          ],
          "name": "stdout"
        }
      ]
    },
    {
      "cell_type": "code",
      "metadata": {
        "colab": {
          "base_uri": "https://localhost:8080/",
          "height": 80
        },
        "id": "_F6jE7IN1U-G",
        "outputId": "60c061ea-ff02-438e-9528-ba097ed74a6b"
      },
      "source": [
        "# https://www.reuters.com/article/instant-article/idCAKBN2AA2WF\n",
        "text = \"\"\"(Reuters) - Mastercard Inc said on Wednesday it was planning to offer support for some cryptocurrencies on its network this year, joining a string of big-ticket firms that have pledged similar support.\n",
        "\n",
        "The credit-card giant’s announcement comes days after Elon Musk’s Tesla Inc revealed it had purchased $1.5 billion of bitcoin and would soon accept it as a form of payment.\n",
        "\n",
        "Asset manager BlackRock Inc and payments companies Square and PayPal have also recently backed cryptocurrencies.\n",
        "\n",
        "Mastercard already offers customers cards that allow people to transact using their cryptocurrencies, although without going through its network.\n",
        "\n",
        "\"Doing this work will create a lot more possibilities for shoppers and merchants, allowing them to transact in an entirely new form of payment. This change may open merchants up to new customers who are already flocking to digital assets,\" Mastercard said. (mstr.cd/3tLaPZM)\n",
        "\n",
        "Mastercard specified that not all cryptocurrencies will be supported on its network, adding that many of the hundreds of digital assets in circulation still need to tighten their compliance measures.\n",
        "\n",
        "Many cryptocurrencies have struggled to win the trust of mainstream investors and the general public due to their speculative nature and potential for money laundering.\n",
        "\"\"\"\n",
        "t5_multi['t5'].setTask('summarize ') \n",
        "short = t5_multi.predict(text)\n",
        "short"
      ],
      "execution_count": 12,
      "outputs": [
        {
          "output_type": "execute_result",
          "data": {
            "text/html": [
              "<div>\n",
              "<style scoped>\n",
              "    .dataframe tbody tr th:only-of-type {\n",
              "        vertical-align: middle;\n",
              "    }\n",
              "\n",
              "    .dataframe tbody tr th {\n",
              "        vertical-align: top;\n",
              "    }\n",
              "\n",
              "    .dataframe thead th {\n",
              "        text-align: right;\n",
              "    }\n",
              "</style>\n",
              "<table border=\"1\" class=\"dataframe\">\n",
              "  <thead>\n",
              "    <tr style=\"text-align: right;\">\n",
              "      <th></th>\n",
              "      <th>text</th>\n",
              "      <th>document</th>\n",
              "      <th>t5</th>\n",
              "    </tr>\n",
              "  </thead>\n",
              "  <tbody>\n",
              "    <tr>\n",
              "      <th>0</th>\n",
              "      <td>(Reuters) - Mastercard Inc said on Wednesday i...</td>\n",
              "      <td>(Reuters) - Mastercard Inc said on Wednesday i...</td>\n",
              "      <td>mastercard said on Wednesday it was planning t...</td>\n",
              "    </tr>\n",
              "  </tbody>\n",
              "</table>\n",
              "</div>"
            ],
            "text/plain": [
              "                                                text  ...                                                 t5\n",
              "0  (Reuters) - Mastercard Inc said on Wednesday i...  ...  mastercard said on Wednesday it was planning t...\n",
              "\n",
              "[1 rows x 3 columns]"
            ]
          },
          "metadata": {
            "tags": []
          },
          "execution_count": 12
        }
      ]
    },
    {
      "cell_type": "code",
      "metadata": {
        "colab": {
          "base_uri": "https://localhost:8080/"
        },
        "id": "1MtQlr_8PucN",
        "outputId": "9f577bba-4e44-4aec-e209-e5f13e2dc6b8"
      },
      "source": [
        "print(f\"Original Length {len(short.document.iloc[0])}   Summarized Length : {len(short.t5.iloc[0])} \\n summarized text :{short.t5.iloc[0]} \")\n"
      ],
      "execution_count": 14,
      "outputs": [
        {
          "output_type": "stream",
          "text": [
            "Original Length 1277   Summarized Length : 352 \n",
            " summarized text :mastercard said on Wednesday it was planning to offer support for some cryptocurrencies on its network this year . the credit-card giant’s announcement comes days after Elon Musk’s Tesla Inc revealed it had purchased $1.5 billion of bitcoin . asset manager blackrock and payments companies Square and PayPal have also recently backed cryptocurrencies . \n"
          ],
          "name": "stdout"
        }
      ]
    },
    {
      "cell_type": "code",
      "metadata": {
        "id": "ZqOJSkrWQQA9"
      },
      "source": [
        "short.T5.iloc[0]"
      ],
      "execution_count": null,
      "outputs": []
    },
    {
      "cell_type": "markdown",
      "metadata": {
        "id": "Sd_4hzC9hz8K"
      },
      "source": [
        "**Make sure to restart your notebook again** before starting the next section"
      ]
    },
    {
      "cell_type": "code",
      "metadata": {
        "id": "RQizVR2WhzTY"
      },
      "source": [
        "print(\"Please restart kernel if you are in google colab to free up RAM\")\n",
        "1+'wait'\n"
      ],
      "execution_count": null,
      "outputs": []
    },
    {
      "cell_type": "code",
      "metadata": {
        "id": "41bGg_s0ioKK"
      },
      "source": [
        "# This configures colab to use Java 8 again. \n",
        "# You need to run this in Google colab, because after restart it likes to set Java 11 as default, which will cause issues\n",
        "! echo 2 |  update-alternatives --config java\n"
      ],
      "execution_count": null,
      "outputs": []
    },
    {
      "cell_type": "markdown",
      "metadata": {
        "id": "PDmjkRoHhrqn"
      },
      "source": [
        "# Translate between more than 200 Languages with  [ Microsofts Marian Models](https://marian-nmt.github.io/publications/)\n",
        "\n",
        "Marian is an efficient, free Neural Machine Translation framework mainly being developed by the Microsoft Translator team (646+ pretrained models & pipelines in 192+ languages)\n",
        "You need to specify the language your data is in as `start_language` and the language you want to translate to as `target_language`.    \n",
        " The language references must be [ISO language codes](https://en.wikipedia.org/wiki/List_of_ISO_639-1_codes)\n",
        "\n",
        "`nlu.load('<start_language>.translate_to.<target_language>')`       \n",
        "\n",
        "**Translate Turkish to English:**     \n",
        "`nlu.load('tr.translate_to.en')`\n",
        "\n",
        "**Translate English to French:**     \n",
        "`nlu.load('en.translate_to.fr')`\n",
        "\n",
        "\n",
        "**Translate French to Hebrew:**     \n",
        "`nlu.load('fr.translate_to.he')`\n",
        "\n",
        "\n",
        "\n",
        "\n",
        "\n",
        "![Languages](https://camo.githubusercontent.com/b548abf3d1f9657d01fd74404354ec49fc11eea0/687474703a2f2f636b6c2d69742e64652f77702d636f6e74656e742f75706c6f6164732f323032312f30322f666c6167732e6a706567)"
      ]
    },
    {
      "cell_type": "code",
      "metadata": {
        "id": "AjiWgkvQwxBy",
        "colab": {
          "base_uri": "https://localhost:8080/"
        },
        "outputId": "a953b51b-0248-4d75-f76e-f6beee2fbe07"
      },
      "source": [
        "import nlu\n",
        "import pandas as pd\n",
        "!wget http://ckl-it.de/wp-content/uploads/2020/12/small_btc.csv \n",
        "df = pd.read_csv('/content/small_btc.csv').iloc[0:20].title"
      ],
      "execution_count": 1,
      "outputs": [
        {
          "output_type": "stream",
          "text": [
            "--2021-07-12 23:48:19--  http://ckl-it.de/wp-content/uploads/2020/12/small_btc.csv\n",
            "Resolving ckl-it.de (ckl-it.de)... 217.160.0.108, 2001:8d8:100f:f000::209\n",
            "Connecting to ckl-it.de (ckl-it.de)|217.160.0.108|:80... connected.\n",
            "HTTP request sent, awaiting response... 200 OK\n",
            "Length: 22244914 (21M) [text/csv]\n",
            "Saving to: ‘small_btc.csv.2’\n",
            "\n",
            "small_btc.csv.2     100%[===================>]  21.21M  16.5MB/s    in 1.3s    \n",
            "\n",
            "2021-07-12 23:48:21 (16.5 MB/s) - ‘small_btc.csv.2’ saved [22244914/22244914]\n",
            "\n"
          ],
          "name": "stdout"
        }
      ]
    },
    {
      "cell_type": "markdown",
      "metadata": {
        "id": "Q_dx5jDkeaGO"
      },
      "source": [
        "## Translate to German"
      ]
    },
    {
      "cell_type": "code",
      "metadata": {
        "id": "_DrnIRUlXpM6",
        "colab": {
          "base_uri": "https://localhost:8080/",
          "height": 720
        },
        "outputId": "e446649b-18bc-4da3-dff5-0a59af9b063b"
      },
      "source": [
        "translate_pipe = nlu.load('en.translate_to.de')\n",
        "translate_pipe.predict(df)"
      ],
      "execution_count": 2,
      "outputs": [
        {
          "output_type": "stream",
          "text": [
            "translate_en_de download started this may take some time.\n",
            "Approx size to download 268 MB\n",
            "[OK!]\n"
          ],
          "name": "stdout"
        },
        {
          "output_type": "execute_result",
          "data": {
            "text/html": [
              "<div>\n",
              "<style scoped>\n",
              "    .dataframe tbody tr th:only-of-type {\n",
              "        vertical-align: middle;\n",
              "    }\n",
              "\n",
              "    .dataframe tbody tr th {\n",
              "        vertical-align: top;\n",
              "    }\n",
              "\n",
              "    .dataframe thead th {\n",
              "        text-align: right;\n",
              "    }\n",
              "</style>\n",
              "<table border=\"1\" class=\"dataframe\">\n",
              "  <thead>\n",
              "    <tr style=\"text-align: right;\">\n",
              "      <th></th>\n",
              "      <th>sentence</th>\n",
              "      <th>document</th>\n",
              "      <th>translated</th>\n",
              "      <th>text</th>\n",
              "    </tr>\n",
              "  </thead>\n",
              "  <tbody>\n",
              "    <tr>\n",
              "      <th>0</th>\n",
              "      <td>[Bitcoin Price Update: Will China Lead us Down?]</td>\n",
              "      <td>Bitcoin Price Update: Will China Lead us Down?</td>\n",
              "      <td>Bitcoin Price Update: Wird China uns nach unte...</td>\n",
              "      <td>Bitcoin Price Update: Will China Lead us Down?</td>\n",
              "    </tr>\n",
              "    <tr>\n",
              "      <th>1</th>\n",
              "      <td>[Key Bitcoin Price Levels for Week 51 (15 – 22...</td>\n",
              "      <td>Key Bitcoin Price Levels for Week 51 (15 – 22 ...</td>\n",
              "      <td>Preisniveau für Bitcoin für Woche 51 (15 - 22 ...</td>\n",
              "      <td>Key Bitcoin Price Levels for Week 51 (15 – 22 ...</td>\n",
              "    </tr>\n",
              "    <tr>\n",
              "      <th>2</th>\n",
              "      <td>[National Australia Bank, Citing Highly Flawed...</td>\n",
              "      <td>National Australia Bank, Citing Highly Flawed ...</td>\n",
              "      <td>National Australia Bank, zitiert hoch abgeflac...</td>\n",
              "      <td>National Australia Bank, Citing Highly Flawed ...</td>\n",
              "    </tr>\n",
              "    <tr>\n",
              "      <th>3</th>\n",
              "      <td>[Chinese Bitcoin Ban Driven by  Chinese Bankin...</td>\n",
              "      <td>Chinese Bitcoin Ban Driven by  Chinese Banking...</td>\n",
              "      <td>Chinesische Bitcoin Ban angetrieben durch chin...</td>\n",
              "      <td>Chinese Bitcoin Ban Driven by  Chinese Banking...</td>\n",
              "    </tr>\n",
              "    <tr>\n",
              "      <th>4</th>\n",
              "      <td>[Bitcoin Trade Update: Opened Position]</td>\n",
              "      <td>Bitcoin Trade Update: Opened Position</td>\n",
              "      <td>Bitcoin Trade Update: Geöffnete Position</td>\n",
              "      <td>Bitcoin Trade Update: Opened Position</td>\n",
              "    </tr>\n",
              "    <tr>\n",
              "      <th>5</th>\n",
              "      <td>[Key Bitcoin Price Levels for Week 52 (22 – 28...</td>\n",
              "      <td>Key Bitcoin Price Levels for Week 52 (22 – 28 ...</td>\n",
              "      <td>Key Bitcoin Price Levels für Woche 52 (22 - 28...</td>\n",
              "      <td>Key Bitcoin Price Levels for Week 52 (22 – 28 ...</td>\n",
              "    </tr>\n",
              "    <tr>\n",
              "      <th>6</th>\n",
              "      <td>[Bitcoin Survival]</td>\n",
              "      <td>Bitcoin Survival</td>\n",
              "      <td>Bitcoin Überleben Bitcoin Überleben Bitcoin Üb...</td>\n",
              "      <td>Bitcoin Survival</td>\n",
              "    </tr>\n",
              "    <tr>\n",
              "      <th>7</th>\n",
              "      <td>[Massive Bitcoin Sell Going On]</td>\n",
              "      <td>Massive Bitcoin Sell Going On</td>\n",
              "      <td>Massive Bitcoin verkaufen weiter</td>\n",
              "      <td>Massive Bitcoin Sell Going On</td>\n",
              "    </tr>\n",
              "    <tr>\n",
              "      <th>8</th>\n",
              "      <td>[Why Bitcoin will rise on Monday 23rd by more ...</td>\n",
              "      <td>Why Bitcoin will rise on Monday 23rd by more t...</td>\n",
              "      <td>Warum Bitcoin am Montag um mehr als 10% steige...</td>\n",
              "      <td>Why Bitcoin will rise on Monday 23rd by more t...</td>\n",
              "    </tr>\n",
              "    <tr>\n",
              "      <th>9</th>\n",
              "      <td>[Why Bitcoin is falling, and will rise again]</td>\n",
              "      <td>Why Bitcoin is falling, and will rise again</td>\n",
              "      <td>Warum Bitcoin fällt und wieder aufsteigt</td>\n",
              "      <td>Why Bitcoin is falling, and will rise again</td>\n",
              "    </tr>\n",
              "    <tr>\n",
              "      <th>10</th>\n",
              "      <td>[Bitcoin Price in 2014]</td>\n",
              "      <td>Bitcoin Price in 2014</td>\n",
              "      <td>Bitcoin Preis 2014</td>\n",
              "      <td>Bitcoin Price in 2014</td>\n",
              "    </tr>\n",
              "    <tr>\n",
              "      <th>11</th>\n",
              "      <td>[This is probably the best time to invest in B...</td>\n",
              "      <td>This is probably the best time to invest in Bi...</td>\n",
              "      <td>Dies ist wahrscheinlich die beste Zeit, um in ...</td>\n",
              "      <td>This is probably the best time to invest in Bi...</td>\n",
              "    </tr>\n",
              "    <tr>\n",
              "      <th>12</th>\n",
              "      <td>[Comparing Bitcoins and Oranges]</td>\n",
              "      <td>Comparing Bitcoins and Oranges</td>\n",
              "      <td>Vergleich von Bitcoins und Orangen</td>\n",
              "      <td>Comparing Bitcoins and Oranges</td>\n",
              "    </tr>\n",
              "    <tr>\n",
              "      <th>13</th>\n",
              "      <td>[Key Bitcoin Price Levels for the Week Ahead]</td>\n",
              "      <td>Key Bitcoin Price Levels for the Week Ahead</td>\n",
              "      <td>Wichtige Bitcoin-Preisniveaus für die kommende...</td>\n",
              "      <td>Key Bitcoin Price Levels for the Week Ahead</td>\n",
              "    </tr>\n",
              "    <tr>\n",
              "      <th>14</th>\n",
              "      <td>[The 2014 Bitcoin War Has Started— And it is B...</td>\n",
              "      <td>The 2014 Bitcoin War Has Started— And it is Bo...</td>\n",
              "      <td>Der Bitcoin Krieg 2014 hat begonnen - Und es i...</td>\n",
              "      <td>The 2014 Bitcoin War Has Started— And it is Bo...</td>\n",
              "    </tr>\n",
              "    <tr>\n",
              "      <th>15</th>\n",
              "      <td>[Two new Bitcoin ASIC Miners : Scam or Real?]</td>\n",
              "      <td>Two new Bitcoin ASIC Miners : Scam or Real?</td>\n",
              "      <td>Zwei neue Bitcoin ASIC Miners: Scam oder Real?</td>\n",
              "      <td>Two new Bitcoin ASIC Miners : Scam or Real?</td>\n",
              "    </tr>\n",
              "    <tr>\n",
              "      <th>16</th>\n",
              "      <td>[KnCMiner Announces 2TH/s Bitcoin ASIC Miner]</td>\n",
              "      <td>KnCMiner Announces 2TH/s Bitcoin ASIC Miner</td>\n",
              "      <td>KnCMiner kündigt 2. Bitcoin ASIC Miner an</td>\n",
              "      <td>KnCMiner Announces 2TH/s Bitcoin ASIC Miner</td>\n",
              "    </tr>\n",
              "    <tr>\n",
              "      <th>17</th>\n",
              "      <td>[PSA: Do Not Fall for the Apple Bitcoin Miner ...</td>\n",
              "      <td>PSA: Do Not Fall for the Apple Bitcoin Miner Hoax</td>\n",
              "      <td>PSA: Fallen Sie nicht für den Apple Bitcoin Mi...</td>\n",
              "      <td>PSA: Do Not Fall for the Apple Bitcoin Miner Hoax</td>\n",
              "    </tr>\n",
              "    <tr>\n",
              "      <th>18</th>\n",
              "      <td>[Breaking News:,  HashCows Mining Pool Hacked]</td>\n",
              "      <td>Breaking News: HashCows Mining Pool Hacked</td>\n",
              "      <td>Breaking News: HashCows Bergbau Pool gehackt</td>\n",
              "      <td>Breaking News: HashCows Mining Pool Hacked</td>\n",
              "    </tr>\n",
              "    <tr>\n",
              "      <th>19</th>\n",
              "      <td>[Primecoin Cloud Mining using Digital Ocean – ...</td>\n",
              "      <td>Primecoin Cloud Mining using Digital Ocean – T...</td>\n",
              "      <td>Primecoin Cloud Mining mit Digital Ocean - Der...</td>\n",
              "      <td>Primecoin Cloud Mining using Digital Ocean – T...</td>\n",
              "    </tr>\n",
              "  </tbody>\n",
              "</table>\n",
              "</div>"
            ],
            "text/plain": [
              "                                             sentence  ...                                               text\n",
              "0    [Bitcoin Price Update: Will China Lead us Down?]  ...     Bitcoin Price Update: Will China Lead us Down?\n",
              "1   [Key Bitcoin Price Levels for Week 51 (15 – 22...  ...  Key Bitcoin Price Levels for Week 51 (15 – 22 ...\n",
              "2   [National Australia Bank, Citing Highly Flawed...  ...  National Australia Bank, Citing Highly Flawed ...\n",
              "3   [Chinese Bitcoin Ban Driven by  Chinese Bankin...  ...  Chinese Bitcoin Ban Driven by  Chinese Banking...\n",
              "4             [Bitcoin Trade Update: Opened Position]  ...              Bitcoin Trade Update: Opened Position\n",
              "5   [Key Bitcoin Price Levels for Week 52 (22 – 28...  ...  Key Bitcoin Price Levels for Week 52 (22 – 28 ...\n",
              "6                                  [Bitcoin Survival]  ...                                   Bitcoin Survival\n",
              "7                     [Massive Bitcoin Sell Going On]  ...                      Massive Bitcoin Sell Going On\n",
              "8   [Why Bitcoin will rise on Monday 23rd by more ...  ...  Why Bitcoin will rise on Monday 23rd by more t...\n",
              "9       [Why Bitcoin is falling, and will rise again]  ...        Why Bitcoin is falling, and will rise again\n",
              "10                            [Bitcoin Price in 2014]  ...                              Bitcoin Price in 2014\n",
              "11  [This is probably the best time to invest in B...  ...  This is probably the best time to invest in Bi...\n",
              "12                   [Comparing Bitcoins and Oranges]  ...                     Comparing Bitcoins and Oranges\n",
              "13      [Key Bitcoin Price Levels for the Week Ahead]  ...        Key Bitcoin Price Levels for the Week Ahead\n",
              "14  [The 2014 Bitcoin War Has Started— And it is B...  ...  The 2014 Bitcoin War Has Started— And it is Bo...\n",
              "15      [Two new Bitcoin ASIC Miners : Scam or Real?]  ...        Two new Bitcoin ASIC Miners : Scam or Real?\n",
              "16      [KnCMiner Announces 2TH/s Bitcoin ASIC Miner]  ...        KnCMiner Announces 2TH/s Bitcoin ASIC Miner\n",
              "17  [PSA: Do Not Fall for the Apple Bitcoin Miner ...  ...  PSA: Do Not Fall for the Apple Bitcoin Miner Hoax\n",
              "18     [Breaking News:,  HashCows Mining Pool Hacked]  ...         Breaking News: HashCows Mining Pool Hacked\n",
              "19  [Primecoin Cloud Mining using Digital Ocean – ...  ...  Primecoin Cloud Mining using Digital Ocean – T...\n",
              "\n",
              "[20 rows x 4 columns]"
            ]
          },
          "metadata": {
            "tags": []
          },
          "execution_count": 2
        }
      ]
    },
    {
      "cell_type": "markdown",
      "metadata": {
        "id": "9zyhBUxFeP6u"
      },
      "source": [
        "## Translate to Chinese"
      ]
    },
    {
      "cell_type": "code",
      "metadata": {
        "id": "B0Z3Ilt0eR3c",
        "colab": {
          "base_uri": "https://localhost:8080/",
          "height": 720
        },
        "outputId": "e2d21016-ead3-4f60-c595-0880056e810e"
      },
      "source": [
        "translate_pipe = nlu.load('en.translate_to.zh')\n",
        "translate_pipe.predict(df)"
      ],
      "execution_count": 3,
      "outputs": [
        {
          "output_type": "stream",
          "text": [
            "translate_en_zh download started this may take some time.\n",
            "Approx size to download 280.9 MB\n",
            "[OK!]\n"
          ],
          "name": "stdout"
        },
        {
          "output_type": "execute_result",
          "data": {
            "text/html": [
              "<div>\n",
              "<style scoped>\n",
              "    .dataframe tbody tr th:only-of-type {\n",
              "        vertical-align: middle;\n",
              "    }\n",
              "\n",
              "    .dataframe tbody tr th {\n",
              "        vertical-align: top;\n",
              "    }\n",
              "\n",
              "    .dataframe thead th {\n",
              "        text-align: right;\n",
              "    }\n",
              "</style>\n",
              "<table border=\"1\" class=\"dataframe\">\n",
              "  <thead>\n",
              "    <tr style=\"text-align: right;\">\n",
              "      <th></th>\n",
              "      <th>sentence</th>\n",
              "      <th>document</th>\n",
              "      <th>translated</th>\n",
              "      <th>text</th>\n",
              "    </tr>\n",
              "  </thead>\n",
              "  <tbody>\n",
              "    <tr>\n",
              "      <th>0</th>\n",
              "      <td>[Bitcoin Price Update: Will China Lead us Down?]</td>\n",
              "      <td>Bitcoin Price Update: Will China Lead us Down?</td>\n",
              "      <td>Bitcoin 价格最新消息:中国会带领我们下台吗 ? . . . . . . . . . . .</td>\n",
              "      <td>Bitcoin Price Update: Will China Lead us Down?</td>\n",
              "    </tr>\n",
              "    <tr>\n",
              "      <th>1</th>\n",
              "      <td>[Key Bitcoin Price Levels for Week 51 (15 – 22...</td>\n",
              "      <td>Key Bitcoin Price Levels for Week 51 (15 – 22 ...</td>\n",
              "      <td>第51周(12月15 - 22日) Bitcoin 关键价格 水平 。 12月 15 - 2...</td>\n",
              "      <td>Key Bitcoin Price Levels for Week 51 (15 – 22 ...</td>\n",
              "    </tr>\n",
              "    <tr>\n",
              "      <th>2</th>\n",
              "      <td>[National Australia Bank, Citing Highly Flawed...</td>\n",
              "      <td>National Australia Bank, Citing Highly Flawed ...</td>\n",
              "      <td>国家澳大利亚银行, 援引高易燃数据, 称 Bitcoin 是一个泡泡 。 Name UN C...</td>\n",
              "      <td>National Australia Bank, Citing Highly Flawed ...</td>\n",
              "    </tr>\n",
              "    <tr>\n",
              "      <th>3</th>\n",
              "      <td>[Chinese Bitcoin Ban Driven by  Chinese Bankin...</td>\n",
              "      <td>Chinese Bitcoin Ban Driven by  Chinese Banking...</td>\n",
              "      <td>被中国银行危机驱赶的中国 Bitcoin Ban ? ? ? 。 。 。 。 。 。 。 。 。</td>\n",
              "      <td>Chinese Bitcoin Ban Driven by  Chinese Banking...</td>\n",
              "    </tr>\n",
              "    <tr>\n",
              "      <th>4</th>\n",
              "      <td>[Bitcoin Trade Update: Opened Position]</td>\n",
              "      <td>Bitcoin Trade Update: Opened Position</td>\n",
              "      <td>Bittcoin 贸易最新贸易 : 开放位置 : 开放位置 Name Name 开放位置 N...</td>\n",
              "      <td>Bitcoin Trade Update: Opened Position</td>\n",
              "    </tr>\n",
              "    <tr>\n",
              "      <th>5</th>\n",
              "      <td>[Key Bitcoin Price Levels for Week 52 (22 – 28...</td>\n",
              "      <td>Key Bitcoin Price Levels for Week 52 (22 – 28 ...</td>\n",
              "      <td>12月22 - 28日 - 我的贸易计划 - Bitcoin 价格第52周( 12月 22 ...</td>\n",
              "      <td>Key Bitcoin Price Levels for Week 52 (22 – 28 ...</td>\n",
              "    </tr>\n",
              "    <tr>\n",
              "      <th>6</th>\n",
              "      <td>[Bitcoin Survival]</td>\n",
              "      <td>Bitcoin Survival</td>\n",
              "      <td>Bitcoin 生存 毕 生 活 生 生 业 业 业 业 业 业 业 业 业 业 业 业</td>\n",
              "      <td>Bitcoin Survival</td>\n",
              "    </tr>\n",
              "    <tr>\n",
              "      <th>7</th>\n",
              "      <td>[Massive Bitcoin Sell Going On]</td>\n",
              "      <td>Massive Bitcoin Sell Going On</td>\n",
              "      <td>大规模 Bittcoin 卖 卖 上 上 上 上 上 上 上 上 上 上 上 上 上 上</td>\n",
              "      <td>Massive Bitcoin Sell Going On</td>\n",
              "    </tr>\n",
              "    <tr>\n",
              "      <th>8</th>\n",
              "      <td>[Why Bitcoin will rise on Monday 23rd by more ...</td>\n",
              "      <td>Why Bitcoin will rise on Monday 23rd by more t...</td>\n",
              "      <td>为何比特币 会在 23 日星期一 上升 超过 10% 的 比例 , 超过 10% 的 比例 ...</td>\n",
              "      <td>Why Bitcoin will rise on Monday 23rd by more t...</td>\n",
              "    </tr>\n",
              "    <tr>\n",
              "      <th>9</th>\n",
              "      <td>[Why Bitcoin is falling, and will rise again]</td>\n",
              "      <td>Why Bitcoin is falling, and will rise again</td>\n",
              "      <td>为何比特币 跌了 , 还会再升 , 何必 跌 , 何必 , 何 跌 , 何 跌 ,</td>\n",
              "      <td>Why Bitcoin is falling, and will rise again</td>\n",
              "    </tr>\n",
              "    <tr>\n",
              "      <th>10</th>\n",
              "      <td>[Bitcoin Price in 2014]</td>\n",
              "      <td>Bitcoin Price in 2014</td>\n",
              "      <td>2014年比特币价格 美元 美元 美元 美元 美元 美元 美元 美元 美元 美元 美元 美元...</td>\n",
              "      <td>Bitcoin Price in 2014</td>\n",
              "    </tr>\n",
              "    <tr>\n",
              "      <th>11</th>\n",
              "      <td>[This is probably the best time to invest in B...</td>\n",
              "      <td>This is probably the best time to invest in Bi...</td>\n",
              "      <td>这可能是 投资 Bitcoin 的最佳时机 。 。 。 。 。 。 。 。 。 。 。 。 ...</td>\n",
              "      <td>This is probably the best time to invest in Bi...</td>\n",
              "    </tr>\n",
              "    <tr>\n",
              "      <th>12</th>\n",
              "      <td>[Comparing Bitcoins and Oranges]</td>\n",
              "      <td>Comparing Bitcoins and Oranges</td>\n",
              "      <td>比较比特币 橙 和 橙 的 比较 . . . . . . . . . . . .</td>\n",
              "      <td>Comparing Bitcoins and Oranges</td>\n",
              "    </tr>\n",
              "    <tr>\n",
              "      <th>13</th>\n",
              "      <td>[Key Bitcoin Price Levels for the Week Ahead]</td>\n",
              "      <td>Key Bitcoin Price Levels for the Week Ahead</td>\n",
              "      <td>提前一周的 Bitcoin 关键价格水平 。 Name IP IP IP IP IP IP ...</td>\n",
              "      <td>Key Bitcoin Price Levels for the Week Ahead</td>\n",
              "    </tr>\n",
              "    <tr>\n",
              "      <th>14</th>\n",
              "      <td>[The 2014 Bitcoin War Has Started— And it is B...</td>\n",
              "      <td>The 2014 Bitcoin War Has Started— And it is Bo...</td>\n",
              "      <td>4 样东西, 足以 备战 的 4 样东西 , 4 样东西 , 4 样东西 , 4 样东西</td>\n",
              "      <td>The 2014 Bitcoin War Has Started— And it is Bo...</td>\n",
              "    </tr>\n",
              "    <tr>\n",
              "      <th>15</th>\n",
              "      <td>[Two new Bitcoin ASIC Miners : Scam or Real?]</td>\n",
              "      <td>Two new Bitcoin ASIC Miners : Scam or Real?</td>\n",
              "      <td>两种新的 Bitcoin ASIC ASIC 矿工 : 斯卡姆 or Real ? , 或 ...</td>\n",
              "      <td>Two new Bitcoin ASIC Miners : Scam or Real?</td>\n",
              "    </tr>\n",
              "    <tr>\n",
              "      <th>16</th>\n",
              "      <td>[KnCMiner Announces 2TH/s Bitcoin ASIC Miner]</td>\n",
              "      <td>KnCMiner Announces 2TH/s Bitcoin ASIC Miner</td>\n",
              "      <td>宣布 Bitcoin ASIC 矿工 , 即 2- TH / / / 的 Bitcoin A...</td>\n",
              "      <td>KnCMiner Announces 2TH/s Bitcoin ASIC Miner</td>\n",
              "    </tr>\n",
              "    <tr>\n",
              "      <th>17</th>\n",
              "      <td>[PSA: Do Not Fall for the Apple Bitcoin Miner ...</td>\n",
              "      <td>PSA: Do Not Fall for the Apple Bitcoin Miner Hoax</td>\n",
              "      <td>美 美 美 子 : 苹果 Bitcoin 矿 矿 矿 山 山 山 山 山 , 不可 倒 掉</td>\n",
              "      <td>PSA: Do Not Fall for the Apple Bitcoin Miner Hoax</td>\n",
              "    </tr>\n",
              "    <tr>\n",
              "      <th>18</th>\n",
              "      <td>[Breaking News:,  HashCows Mining Pool Hacked]</td>\n",
              "      <td>Breaking News: HashCows Mining Pool Hacked</td>\n",
              "      <td>突破新闻: 哈斯牛采矿池 被 黑 了 黑 了 . . . . . . . . . .</td>\n",
              "      <td>Breaking News: HashCows Mining Pool Hacked</td>\n",
              "    </tr>\n",
              "    <tr>\n",
              "      <th>19</th>\n",
              "      <td>[Primecoin Cloud Mining using Digital Ocean – ...</td>\n",
              "      <td>Primecoin Cloud Mining using Digital Ocean – T...</td>\n",
              "      <td>利用数字海洋开采原金云 - 完整指南 - 完整指南 - 完整指南 - 利用数字海洋开采原金云...</td>\n",
              "      <td>Primecoin Cloud Mining using Digital Ocean – T...</td>\n",
              "    </tr>\n",
              "  </tbody>\n",
              "</table>\n",
              "</div>"
            ],
            "text/plain": [
              "                                             sentence  ...                                               text\n",
              "0    [Bitcoin Price Update: Will China Lead us Down?]  ...     Bitcoin Price Update: Will China Lead us Down?\n",
              "1   [Key Bitcoin Price Levels for Week 51 (15 – 22...  ...  Key Bitcoin Price Levels for Week 51 (15 – 22 ...\n",
              "2   [National Australia Bank, Citing Highly Flawed...  ...  National Australia Bank, Citing Highly Flawed ...\n",
              "3   [Chinese Bitcoin Ban Driven by  Chinese Bankin...  ...  Chinese Bitcoin Ban Driven by  Chinese Banking...\n",
              "4             [Bitcoin Trade Update: Opened Position]  ...              Bitcoin Trade Update: Opened Position\n",
              "5   [Key Bitcoin Price Levels for Week 52 (22 – 28...  ...  Key Bitcoin Price Levels for Week 52 (22 – 28 ...\n",
              "6                                  [Bitcoin Survival]  ...                                   Bitcoin Survival\n",
              "7                     [Massive Bitcoin Sell Going On]  ...                      Massive Bitcoin Sell Going On\n",
              "8   [Why Bitcoin will rise on Monday 23rd by more ...  ...  Why Bitcoin will rise on Monday 23rd by more t...\n",
              "9       [Why Bitcoin is falling, and will rise again]  ...        Why Bitcoin is falling, and will rise again\n",
              "10                            [Bitcoin Price in 2014]  ...                              Bitcoin Price in 2014\n",
              "11  [This is probably the best time to invest in B...  ...  This is probably the best time to invest in Bi...\n",
              "12                   [Comparing Bitcoins and Oranges]  ...                     Comparing Bitcoins and Oranges\n",
              "13      [Key Bitcoin Price Levels for the Week Ahead]  ...        Key Bitcoin Price Levels for the Week Ahead\n",
              "14  [The 2014 Bitcoin War Has Started— And it is B...  ...  The 2014 Bitcoin War Has Started— And it is Bo...\n",
              "15      [Two new Bitcoin ASIC Miners : Scam or Real?]  ...        Two new Bitcoin ASIC Miners : Scam or Real?\n",
              "16      [KnCMiner Announces 2TH/s Bitcoin ASIC Miner]  ...        KnCMiner Announces 2TH/s Bitcoin ASIC Miner\n",
              "17  [PSA: Do Not Fall for the Apple Bitcoin Miner ...  ...  PSA: Do Not Fall for the Apple Bitcoin Miner Hoax\n",
              "18     [Breaking News:,  HashCows Mining Pool Hacked]  ...         Breaking News: HashCows Mining Pool Hacked\n",
              "19  [Primecoin Cloud Mining using Digital Ocean – ...  ...  Primecoin Cloud Mining using Digital Ocean – T...\n",
              "\n",
              "[20 rows x 4 columns]"
            ]
          },
          "metadata": {
            "tags": []
          },
          "execution_count": 3
        }
      ]
    },
    {
      "cell_type": "markdown",
      "metadata": {
        "id": "SbE1KJQgeTiB"
      },
      "source": [
        "## Translate to Hindi"
      ]
    },
    {
      "cell_type": "code",
      "metadata": {
        "id": "5U2Xy6JAeXcj",
        "colab": {
          "base_uri": "https://localhost:8080/",
          "height": 720
        },
        "outputId": "4ce2f19a-3ed0-4121-ab5f-baa3e352bc85"
      },
      "source": [
        "translate_pipe = nlu.load('en.translate_to.hi')\n",
        "translate_pipe.predict(df)"
      ],
      "execution_count": 4,
      "outputs": [
        {
          "output_type": "stream",
          "text": [
            "translate_en_hi download started this may take some time.\n",
            "Approx size to download 275.1 MB\n",
            "[OK!]\n"
          ],
          "name": "stdout"
        },
        {
          "output_type": "execute_result",
          "data": {
            "text/html": [
              "<div>\n",
              "<style scoped>\n",
              "    .dataframe tbody tr th:only-of-type {\n",
              "        vertical-align: middle;\n",
              "    }\n",
              "\n",
              "    .dataframe tbody tr th {\n",
              "        vertical-align: top;\n",
              "    }\n",
              "\n",
              "    .dataframe thead th {\n",
              "        text-align: right;\n",
              "    }\n",
              "</style>\n",
              "<table border=\"1\" class=\"dataframe\">\n",
              "  <thead>\n",
              "    <tr style=\"text-align: right;\">\n",
              "      <th></th>\n",
              "      <th>sentence</th>\n",
              "      <th>document</th>\n",
              "      <th>translated</th>\n",
              "      <th>text</th>\n",
              "    </tr>\n",
              "  </thead>\n",
              "  <tbody>\n",
              "    <tr>\n",
              "      <th>0</th>\n",
              "      <td>[Bitcoin Price Update: Will China Lead us Down?]</td>\n",
              "      <td>Bitcoin Price Update: Will China Lead us Down?</td>\n",
              "      <td>बिटटोन कीमत अद्यतन: क्या चीन हमें नीचे ले जाएगा?</td>\n",
              "      <td>Bitcoin Price Update: Will China Lead us Down?</td>\n",
              "    </tr>\n",
              "    <tr>\n",
              "      <th>1</th>\n",
              "      <td>[Key Bitcoin Price Levels for Week 51 (15 – 22...</td>\n",
              "      <td>Key Bitcoin Price Levels for Week 51 (15 – 22 ...</td>\n",
              "      <td>सप्ताह 51 (15 - 22 डेक) के लिए कुंजी बिटस्लेट्...</td>\n",
              "      <td>Key Bitcoin Price Levels for Week 51 (15 – 22 ...</td>\n",
              "    </tr>\n",
              "    <tr>\n",
              "      <th>2</th>\n",
              "      <td>[National Australia Bank, Citing Highly Flawed...</td>\n",
              "      <td>National Australia Bank, Citing Highly Flawed ...</td>\n",
              "      <td>नैशनल ऑस्ट्रेलिया बैंक, उच्च रूप सेित डाटा का ...</td>\n",
              "      <td>National Australia Bank, Citing Highly Flawed ...</td>\n",
              "    </tr>\n",
              "    <tr>\n",
              "      <th>3</th>\n",
              "      <td>[Chinese Bitcoin Ban Driven by  Chinese Bankin...</td>\n",
              "      <td>Chinese Bitcoin Ban Driven by  Chinese Banking...</td>\n",
              "      <td>चीनी बिटपरन बैंगिंग संकट से ड्राइव?</td>\n",
              "      <td>Chinese Bitcoin Ban Driven by  Chinese Banking...</td>\n",
              "    </tr>\n",
              "    <tr>\n",
              "      <th>4</th>\n",
              "      <td>[Bitcoin Trade Update: Opened Position]</td>\n",
              "      <td>Bitcoin Trade Update: Opened Position</td>\n",
              "      <td>बिटफिक्स अद्यतन:</td>\n",
              "      <td>Bitcoin Trade Update: Opened Position</td>\n",
              "    </tr>\n",
              "    <tr>\n",
              "      <th>5</th>\n",
              "      <td>[Key Bitcoin Price Levels for Week 52 (22 – 28...</td>\n",
              "      <td>Key Bitcoin Price Levels for Week 52 (22 – 28 ...</td>\n",
              "      <td>मैं इस बात को समझ नहीं पाया कि मैं क्या करूँ ।</td>\n",
              "      <td>Key Bitcoin Price Levels for Week 52 (22 – 28 ...</td>\n",
              "    </tr>\n",
              "    <tr>\n",
              "      <th>6</th>\n",
              "      <td>[Bitcoin Survival]</td>\n",
              "      <td>Bitcoin Survival</td>\n",
              "      <td>मेक्सेन सुरक्षा</td>\n",
              "      <td>Bitcoin Survival</td>\n",
              "    </tr>\n",
              "    <tr>\n",
              "      <th>7</th>\n",
              "      <td>[Massive Bitcoin Sell Going On]</td>\n",
              "      <td>Massive Bitcoin Sell Going On</td>\n",
              "      <td>भारी धातु की लत पर बिकना</td>\n",
              "      <td>Massive Bitcoin Sell Going On</td>\n",
              "    </tr>\n",
              "    <tr>\n",
              "      <th>8</th>\n",
              "      <td>[Why Bitcoin will rise on Monday 23rd by more ...</td>\n",
              "      <td>Why Bitcoin will rise on Monday 23rd by more t...</td>\n",
              "      <td>क्यों बिटकोन सोमवार 23 बजे से 10% तक बढ़ जाएगा</td>\n",
              "      <td>Why Bitcoin will rise on Monday 23rd by more t...</td>\n",
              "    </tr>\n",
              "    <tr>\n",
              "      <th>9</th>\n",
              "      <td>[Why Bitcoin is falling, and will rise again]</td>\n",
              "      <td>Why Bitcoin is falling, and will rise again</td>\n",
              "      <td>अज़ाबेरी गिरता ही क्यों है, और फिर उठ खड़ा होगा</td>\n",
              "      <td>Why Bitcoin is falling, and will rise again</td>\n",
              "    </tr>\n",
              "    <tr>\n",
              "      <th>10</th>\n",
              "      <td>[Bitcoin Price in 2014]</td>\n",
              "      <td>Bitcoin Price in 2014</td>\n",
              "      <td>सन्‌ 2014 में बिटोन मूल्य</td>\n",
              "      <td>Bitcoin Price in 2014</td>\n",
              "    </tr>\n",
              "    <tr>\n",
              "      <th>11</th>\n",
              "      <td>[This is probably the best time to invest in B...</td>\n",
              "      <td>This is probably the best time to invest in Bi...</td>\n",
              "      <td>शायद यह बिटको में निवेश करने का सबसे अच्छा समय है</td>\n",
              "      <td>This is probably the best time to invest in Bi...</td>\n",
              "    </tr>\n",
              "    <tr>\n",
              "      <th>12</th>\n",
              "      <td>[Comparing Bitcoins and Oranges]</td>\n",
              "      <td>Comparing Bitcoins and Oranges</td>\n",
              "      <td>बिटमेसिन्स तथा नारंगी तुलना करना</td>\n",
              "      <td>Comparing Bitcoins and Oranges</td>\n",
              "    </tr>\n",
              "    <tr>\n",
              "      <th>13</th>\n",
              "      <td>[Key Bitcoin Price Levels for the Week Ahead]</td>\n",
              "      <td>Key Bitcoin Price Levels for the Week Ahead</td>\n",
              "      <td>सप्ताह के लिए कुंजी बिट- स्तर आगे</td>\n",
              "      <td>Key Bitcoin Price Levels for the Week Ahead</td>\n",
              "    </tr>\n",
              "    <tr>\n",
              "      <th>14</th>\n",
              "      <td>[The 2014 Bitcoin War Has Started— And it is B...</td>\n",
              "      <td>The 2014 Bitcoin War Has Started— And it is Bo...</td>\n",
              "      <td>2014 बिटपर युद्ध शुरू किया है - और यह है बॉबी ...</td>\n",
              "      <td>The 2014 Bitcoin War Has Started— And it is Bo...</td>\n",
              "    </tr>\n",
              "    <tr>\n",
              "      <th>15</th>\n",
              "      <td>[Two new Bitcoin ASIC Miners : Scam or Real?]</td>\n",
              "      <td>Two new Bitcoin ASIC Miners : Scam or Real?</td>\n",
              "      <td>दो नए बिट बिटपरन</td>\n",
              "      <td>Two new Bitcoin ASIC Miners : Scam or Real?</td>\n",
              "    </tr>\n",
              "    <tr>\n",
              "      <th>16</th>\n",
              "      <td>[KnCMiner Announces 2TH/s Bitcoin ASIC Miner]</td>\n",
              "      <td>KnCMiner Announces 2TH/s Bitcoin ASIC Miner</td>\n",
              "      <td>केनसीममंर घोषणा 2 माह/snin Mer</td>\n",
              "      <td>KnCMiner Announces 2TH/s Bitcoin ASIC Miner</td>\n",
              "    </tr>\n",
              "    <tr>\n",
              "      <th>17</th>\n",
              "      <td>[PSA: Do Not Fall for the Apple Bitcoin Miner ...</td>\n",
              "      <td>PSA: Do Not Fall for the Apple Bitcoin Miner Hoax</td>\n",
              "      <td>PSA: एपीपेर होक्स के लिए मत गिरिए</td>\n",
              "      <td>PSA: Do Not Fall for the Apple Bitcoin Miner Hoax</td>\n",
              "    </tr>\n",
              "    <tr>\n",
              "      <th>18</th>\n",
              "      <td>[Breaking News:,  HashCows Mining Pool Hacked]</td>\n",
              "      <td>Breaking News: HashCows Mining Pool Hacked</td>\n",
              "      <td>समाचार को तोड़ रही है: हैश- बस्स पूलिंग</td>\n",
              "      <td>Breaking News: HashCows Mining Pool Hacked</td>\n",
              "    </tr>\n",
              "    <tr>\n",
              "      <th>19</th>\n",
              "      <td>[Primecoin Cloud Mining using Digital Ocean – ...</td>\n",
              "      <td>Primecoin Cloud Mining using Digital Ocean – T...</td>\n",
              "      <td>डिजिटल महासागर - पूर्ण मार्गदर्शक का प्रयोग कर...</td>\n",
              "      <td>Primecoin Cloud Mining using Digital Ocean – T...</td>\n",
              "    </tr>\n",
              "  </tbody>\n",
              "</table>\n",
              "</div>"
            ],
            "text/plain": [
              "                                             sentence  ...                                               text\n",
              "0    [Bitcoin Price Update: Will China Lead us Down?]  ...     Bitcoin Price Update: Will China Lead us Down?\n",
              "1   [Key Bitcoin Price Levels for Week 51 (15 – 22...  ...  Key Bitcoin Price Levels for Week 51 (15 – 22 ...\n",
              "2   [National Australia Bank, Citing Highly Flawed...  ...  National Australia Bank, Citing Highly Flawed ...\n",
              "3   [Chinese Bitcoin Ban Driven by  Chinese Bankin...  ...  Chinese Bitcoin Ban Driven by  Chinese Banking...\n",
              "4             [Bitcoin Trade Update: Opened Position]  ...              Bitcoin Trade Update: Opened Position\n",
              "5   [Key Bitcoin Price Levels for Week 52 (22 – 28...  ...  Key Bitcoin Price Levels for Week 52 (22 – 28 ...\n",
              "6                                  [Bitcoin Survival]  ...                                   Bitcoin Survival\n",
              "7                     [Massive Bitcoin Sell Going On]  ...                      Massive Bitcoin Sell Going On\n",
              "8   [Why Bitcoin will rise on Monday 23rd by more ...  ...  Why Bitcoin will rise on Monday 23rd by more t...\n",
              "9       [Why Bitcoin is falling, and will rise again]  ...        Why Bitcoin is falling, and will rise again\n",
              "10                            [Bitcoin Price in 2014]  ...                              Bitcoin Price in 2014\n",
              "11  [This is probably the best time to invest in B...  ...  This is probably the best time to invest in Bi...\n",
              "12                   [Comparing Bitcoins and Oranges]  ...                     Comparing Bitcoins and Oranges\n",
              "13      [Key Bitcoin Price Levels for the Week Ahead]  ...        Key Bitcoin Price Levels for the Week Ahead\n",
              "14  [The 2014 Bitcoin War Has Started— And it is B...  ...  The 2014 Bitcoin War Has Started— And it is Bo...\n",
              "15      [Two new Bitcoin ASIC Miners : Scam or Real?]  ...        Two new Bitcoin ASIC Miners : Scam or Real?\n",
              "16      [KnCMiner Announces 2TH/s Bitcoin ASIC Miner]  ...        KnCMiner Announces 2TH/s Bitcoin ASIC Miner\n",
              "17  [PSA: Do Not Fall for the Apple Bitcoin Miner ...  ...  PSA: Do Not Fall for the Apple Bitcoin Miner Hoax\n",
              "18     [Breaking News:,  HashCows Mining Pool Hacked]  ...         Breaking News: HashCows Mining Pool Hacked\n",
              "19  [Primecoin Cloud Mining using Digital Ocean – ...  ...  Primecoin Cloud Mining using Digital Ocean – T...\n",
              "\n",
              "[20 rows x 4 columns]"
            ]
          },
          "metadata": {
            "tags": []
          },
          "execution_count": 4
        }
      ]
    },
    {
      "cell_type": "markdown",
      "metadata": {
        "id": "50Ap0BIujDWr"
      },
      "source": [
        "# Train a Multi Lingual Classifier for 100+ languages from a dataset with just one language\n",
        "\n",
        "[Leverage Language-agnostic BERT Sentence Embedding (LABSE)​ and acheive state of the art!](https://arxiv.org/abs/2007.01852) ​  ​  \n",
        "\n",
        "Training a classifier with LABSE embeddings enables the knowledge to be transferred to 109 languages!\n",
        "With the [SentimentDL model](https://nlp.johnsnowlabs.com/docs/en/annotators#sentimentdl-multi-class-sentiment-analysis-annotator)  from Spark NLP you can achieve State Of the Art results on any binary class text classification problem.\n",
        "\n",
        "### Languages suppoted by LABSE\n",
        "![labse languages](http://ckl-it.de/wp-content/uploads/2021/02/LABSE.png)\n",
        "\n"
      ]
    },
    {
      "cell_type": "code",
      "metadata": {
        "id": "S0Eoos30h8aV"
      },
      "source": [
        "print(\"Please restart kernel if you are in google colab to free up RAM\")\n",
        "1+'wait'\n"
      ],
      "execution_count": null,
      "outputs": []
    },
    {
      "cell_type": "code",
      "metadata": {
        "colab": {
          "base_uri": "https://localhost:8080/",
          "height": 416
        },
        "id": "y4xSRWIhwT28",
        "outputId": "d244e1f7-36f9-4078-dd2f-496faa965763"
      },
      "source": [
        "# Download French twitter  Sentiment dataset  https://www.kaggle.com/hbaflast/french-twitter-sentiment-analysis\n",
        "! wget http://ckl-it.de/wp-content/uploads/2021/02/french_tweets.csv\n",
        "import nlu \n",
        "import pandas as pd\n",
        "\n",
        "train_path = '/content/french_tweets.csv'\n",
        "\n",
        "train_df = pd.read_csv(train_path)\n",
        "# the text data to use for classification should be in a column named 'text'\n",
        "columns=['text','y']\n",
        "train_df = train_df[columns]\n",
        "train_df = train_df.sample(frac=1).reset_index(drop=True)\n",
        "train_df"
      ],
      "execution_count": null,
      "outputs": [
        {
          "output_type": "execute_result",
          "data": {
            "text/html": [
              "<div>\n",
              "<style scoped>\n",
              "    .dataframe tbody tr th:only-of-type {\n",
              "        vertical-align: middle;\n",
              "    }\n",
              "\n",
              "    .dataframe tbody tr th {\n",
              "        vertical-align: top;\n",
              "    }\n",
              "\n",
              "    .dataframe thead th {\n",
              "        text-align: right;\n",
              "    }\n",
              "</style>\n",
              "<table border=\"1\" class=\"dataframe\">\n",
              "  <thead>\n",
              "    <tr style=\"text-align: right;\">\n",
              "      <th></th>\n",
              "      <th>text</th>\n",
              "      <th>y</th>\n",
              "    </tr>\n",
              "  </thead>\n",
              "  <tbody>\n",
              "    <tr>\n",
              "      <th>0</th>\n",
              "      <td>Nous avons apprÃ©ciÃ© la tournÃ©e en vÃ©lo du ...</td>\n",
              "      <td>positive</td>\n",
              "    </tr>\n",
              "    <tr>\n",
              "      <th>1</th>\n",
              "      <td>&amp; Quot; retournez-vous sur le chagrin brisÃ©, ...</td>\n",
              "      <td>positive</td>\n",
              "    </tr>\n",
              "    <tr>\n",
              "      <th>2</th>\n",
              "      <td>Le gagnant gagnant du prix a Ã©tÃ© crÃ©Ã© pour...</td>\n",
              "      <td>negative</td>\n",
              "    </tr>\n",
              "    <tr>\n",
              "      <th>3</th>\n",
              "      <td>Est venu maintenant de l'Ã©cole ... Ã©tait tel...</td>\n",
              "      <td>negative</td>\n",
              "    </tr>\n",
              "    <tr>\n",
              "      <th>4</th>\n",
              "      <td>Dans la cuisine avec des hongrois, faisant du ...</td>\n",
              "      <td>positive</td>\n",
              "    </tr>\n",
              "    <tr>\n",
              "      <th>...</th>\n",
              "      <td>...</td>\n",
              "      <td>...</td>\n",
              "    </tr>\n",
              "    <tr>\n",
              "      <th>99995</th>\n",
              "      <td>Merci. Je ne pense pas que je serai un grand f...</td>\n",
              "      <td>positive</td>\n",
              "    </tr>\n",
              "    <tr>\n",
              "      <th>99996</th>\n",
              "      <td>Je pense qu'ils Ã©taient aprÃ¨s que mon petit ...</td>\n",
              "      <td>negative</td>\n",
              "    </tr>\n",
              "    <tr>\n",
              "      <th>99997</th>\n",
              "      <td>Oui, j'adore les Caramellow! Seulement deux jo...</td>\n",
              "      <td>positive</td>\n",
              "    </tr>\n",
              "    <tr>\n",
              "      <th>99998</th>\n",
              "      <td>Je ne peux pas croire qu'elle soit Ã©veillÃ©e ...</td>\n",
              "      <td>negative</td>\n",
              "    </tr>\n",
              "    <tr>\n",
              "      <th>99999</th>\n",
              "      <td>4hours boom boom</td>\n",
              "      <td>positive</td>\n",
              "    </tr>\n",
              "  </tbody>\n",
              "</table>\n",
              "<p>100000 rows × 2 columns</p>\n",
              "</div>"
            ],
            "text/plain": [
              "                                                    text         y\n",
              "0      Nous avons apprÃ©ciÃ© la tournÃ©e en vÃ©lo du ...  positive\n",
              "1      & Quot; retournez-vous sur le chagrin brisÃ©, ...  positive\n",
              "2      Le gagnant gagnant du prix a Ã©tÃ© crÃ©Ã© pour...  negative\n",
              "3      Est venu maintenant de l'Ã©cole ... Ã©tait tel...  negative\n",
              "4      Dans la cuisine avec des hongrois, faisant du ...  positive\n",
              "...                                                  ...       ...\n",
              "99995  Merci. Je ne pense pas que je serai un grand f...  positive\n",
              "99996  Je pense qu'ils Ã©taient aprÃ¨s que mon petit ...  negative\n",
              "99997  Oui, j'adore les Caramellow! Seulement deux jo...  positive\n",
              "99998  Je ne peux pas croire qu'elle soit Ã©veillÃ©e ...  negative\n",
              "99999                                   4hours boom boom  positive\n",
              "\n",
              "[100000 rows x 2 columns]"
            ]
          },
          "metadata": {
            "tags": []
          },
          "execution_count": 3
        }
      ]
    },
    {
      "cell_type": "markdown",
      "metadata": {
        "id": "0296Om2C5anY"
      },
      "source": [
        "## Train Deep Learning Classifier using `nlu.load('train.sentiment')`\n",
        "\n",
        "Al you need is a Pandas Dataframe with a label column named `y` and the column with text data should be named `text`\n",
        "\n",
        "We are training on a french dataset and can then predict classes correct **in 100+ langauges**"
      ]
    },
    {
      "cell_type": "code",
      "metadata": {
        "colab": {
          "base_uri": "https://localhost:8080/",
          "height": 654
        },
        "id": "mptfvHx-MMMX",
        "outputId": "d264cbe7-194f-41e4-9dd4-c876e5209525"
      },
      "source": [
        "# Train longer!\n",
        "trainable_pipe = nlu.load('xx.embed_sentence.labse train.sentiment')\n",
        "trainable_pipe['sentiment_dl'].setMaxEpochs(60)  \n",
        "trainable_pipe['sentiment_dl'].setLr(0.005) \n",
        "fitted_pipe = trainable_pipe.fit(train_df.iloc[:2000])\n",
        "# predict with the trainable pipeline on dataset and get predictions\n",
        "preds = fitted_pipe.predict(train_df.iloc[:2000],output_level='document')\n",
        "\n",
        "#sentence detector that is part of the pipe generates sone NaNs. lets drop them first\n",
        "preds.dropna(inplace=True)\n",
        "print(classification_report(preds['y'], preds['sentiment']))\n",
        "\n",
        "preds"
      ],
      "execution_count": null,
      "outputs": [
        {
          "output_type": "stream",
          "text": [
            "labse download started this may take some time.\n",
            "Approximate size to download 1.7 GB\n",
            "[OK!]\n",
            "              precision    recall  f1-score   support\n",
            "\n",
            "    negative       0.88      0.94      0.91       980\n",
            "    positive       0.94      0.88      0.91      1020\n",
            "\n",
            "    accuracy                           0.91      2000\n",
            "   macro avg       0.91      0.91      0.91      2000\n",
            "weighted avg       0.91      0.91      0.91      2000\n",
            "\n"
          ],
          "name": "stdout"
        },
        {
          "output_type": "execute_result",
          "data": {
            "text/html": [
              "<div>\n",
              "<style scoped>\n",
              "    .dataframe tbody tr th:only-of-type {\n",
              "        vertical-align: middle;\n",
              "    }\n",
              "\n",
              "    .dataframe tbody tr th {\n",
              "        vertical-align: top;\n",
              "    }\n",
              "\n",
              "    .dataframe thead th {\n",
              "        text-align: right;\n",
              "    }\n",
              "</style>\n",
              "<table border=\"1\" class=\"dataframe\">\n",
              "  <thead>\n",
              "    <tr style=\"text-align: right;\">\n",
              "      <th></th>\n",
              "      <th>text</th>\n",
              "      <th>y</th>\n",
              "      <th>xx_embed_sentence_labse_embeddings</th>\n",
              "      <th>sentiment</th>\n",
              "      <th>document</th>\n",
              "      <th>sentiment_confidence</th>\n",
              "    </tr>\n",
              "    <tr>\n",
              "      <th>origin_index</th>\n",
              "      <th></th>\n",
              "      <th></th>\n",
              "      <th></th>\n",
              "      <th></th>\n",
              "      <th></th>\n",
              "      <th></th>\n",
              "    </tr>\n",
              "  </thead>\n",
              "  <tbody>\n",
              "    <tr>\n",
              "      <th>0</th>\n",
              "      <td>Nous avons apprÃ©ciÃ© la tournÃ©e en vÃ©lo du ...</td>\n",
              "      <td>positive</td>\n",
              "      <td>[0.01069789007306099, -0.002380969701334834, -...</td>\n",
              "      <td>positive</td>\n",
              "      <td>Nous avons apprÃ©ciÃ© la tournÃ©e en vÃ©lo du ...</td>\n",
              "      <td>0.999971</td>\n",
              "    </tr>\n",
              "    <tr>\n",
              "      <th>1</th>\n",
              "      <td>&amp; Quot; retournez-vous sur le chagrin brisÃ©, ...</td>\n",
              "      <td>positive</td>\n",
              "      <td>[-0.04572410136461258, -0.04519180953502655, -...</td>\n",
              "      <td>negative</td>\n",
              "      <td>&amp; Quot; retournez-vous sur le chagrin brisÃ©, ...</td>\n",
              "      <td>0.999979</td>\n",
              "    </tr>\n",
              "    <tr>\n",
              "      <th>2</th>\n",
              "      <td>Le gagnant gagnant du prix a Ã©tÃ© crÃ©Ã© pour...</td>\n",
              "      <td>negative</td>\n",
              "      <td>[0.008320541121065617, -0.0072850980795919895,...</td>\n",
              "      <td>negative</td>\n",
              "      <td>Le gagnant gagnant du prix a Ã©tÃ© crÃ©Ã© pour...</td>\n",
              "      <td>0.999638</td>\n",
              "    </tr>\n",
              "    <tr>\n",
              "      <th>3</th>\n",
              "      <td>Est venu maintenant de l'Ã©cole ... Ã©tait tel...</td>\n",
              "      <td>negative</td>\n",
              "      <td>[-0.035592492669820786, -0.05076301470398903, ...</td>\n",
              "      <td>negative</td>\n",
              "      <td>Est venu maintenant de l'Ã©cole ... Ã©tait tel...</td>\n",
              "      <td>1.000000</td>\n",
              "    </tr>\n",
              "    <tr>\n",
              "      <th>4</th>\n",
              "      <td>Dans la cuisine avec des hongrois, faisant du ...</td>\n",
              "      <td>positive</td>\n",
              "      <td>[0.01866792142391205, -0.06534530222415924, -0...</td>\n",
              "      <td>positive</td>\n",
              "      <td>Dans la cuisine avec des hongrois, faisant du ...</td>\n",
              "      <td>0.999910</td>\n",
              "    </tr>\n",
              "    <tr>\n",
              "      <th>...</th>\n",
              "      <td>...</td>\n",
              "      <td>...</td>\n",
              "      <td>...</td>\n",
              "      <td>...</td>\n",
              "      <td>...</td>\n",
              "      <td>...</td>\n",
              "    </tr>\n",
              "    <tr>\n",
              "      <th>1995</th>\n",
              "      <td>Vous devez suivre - transmettez-le ...</td>\n",
              "      <td>positive</td>\n",
              "      <td>[0.0030759747605770826, -0.04513533040881157, ...</td>\n",
              "      <td>positive</td>\n",
              "      <td>Vous devez suivre - transmettez-le ...</td>\n",
              "      <td>0.999833</td>\n",
              "    </tr>\n",
              "    <tr>\n",
              "      <th>1996</th>\n",
              "      <td>J'allais avoir ces pantalons gris luxuriants d...</td>\n",
              "      <td>negative</td>\n",
              "      <td>[-0.019949736073613167, 0.0064233033917844296,...</td>\n",
              "      <td>negative</td>\n",
              "      <td>J'allais avoir ces pantalons gris luxuriants d...</td>\n",
              "      <td>1.000000</td>\n",
              "    </tr>\n",
              "    <tr>\n",
              "      <th>1997</th>\n",
              "      <td>Juste \"quitter\" Les gens doivent dormir mainte...</td>\n",
              "      <td>positive</td>\n",
              "      <td>[-0.035448476672172546, -0.046279553323984146,...</td>\n",
              "      <td>positive</td>\n",
              "      <td>Juste \"quitter\" Les gens doivent dormir mainte...</td>\n",
              "      <td>0.995777</td>\n",
              "    </tr>\n",
              "    <tr>\n",
              "      <th>1998</th>\n",
              "      <td>Je suis un oreiller court.</td>\n",
              "      <td>negative</td>\n",
              "      <td>[-0.03656604886054993, 0.0003994253638666123, ...</td>\n",
              "      <td>negative</td>\n",
              "      <td>Je suis un oreiller court.</td>\n",
              "      <td>0.998347</td>\n",
              "    </tr>\n",
              "    <tr>\n",
              "      <th>1999</th>\n",
              "      <td>- walker granny w.shoshorts crainte</td>\n",
              "      <td>negative</td>\n",
              "      <td>[-0.003210075432434678, -0.07238200306892395, ...</td>\n",
              "      <td>negative</td>\n",
              "      <td>- walker granny w.shoshorts crainte</td>\n",
              "      <td>1.000000</td>\n",
              "    </tr>\n",
              "  </tbody>\n",
              "</table>\n",
              "<p>2000 rows × 6 columns</p>\n",
              "</div>"
            ],
            "text/plain": [
              "                                                           text  ... sentiment_confidence\n",
              "origin_index                                                     ...                     \n",
              "0             Nous avons apprÃ©ciÃ© la tournÃ©e en vÃ©lo du ...  ...             0.999971\n",
              "1             & Quot; retournez-vous sur le chagrin brisÃ©, ...  ...             0.999979\n",
              "2             Le gagnant gagnant du prix a Ã©tÃ© crÃ©Ã© pour...  ...             0.999638\n",
              "3             Est venu maintenant de l'Ã©cole ... Ã©tait tel...  ...             1.000000\n",
              "4             Dans la cuisine avec des hongrois, faisant du ...  ...             0.999910\n",
              "...                                                         ...  ...                  ...\n",
              "1995                     Vous devez suivre - transmettez-le ...  ...             0.999833\n",
              "1996          J'allais avoir ces pantalons gris luxuriants d...  ...             1.000000\n",
              "1997          Juste \"quitter\" Les gens doivent dormir mainte...  ...             0.995777\n",
              "1998                                 Je suis un oreiller court.  ...             0.998347\n",
              "1999                        - walker granny w.shoshorts crainte  ...             1.000000\n",
              "\n",
              "[2000 rows x 6 columns]"
            ]
          },
          "metadata": {
            "tags": []
          },
          "execution_count": 4
        }
      ]
    },
    {
      "cell_type": "markdown",
      "metadata": {
        "id": "lVyOE2wV0fw_"
      },
      "source": [
        "### Test the fitted pipe on new example"
      ]
    },
    {
      "cell_type": "markdown",
      "metadata": {
        "id": "RjtuNUcvuJTT"
      },
      "source": [
        "#### The Model understands Englsih\n",
        "![en](https://www.worldometers.info/img/flags/small/tn_nz-flag.gif)"
      ]
    },
    {
      "cell_type": "code",
      "metadata": {
        "colab": {
          "base_uri": "https://localhost:8080/",
          "height": 110
        },
        "id": "o0vu7PaWkcI7",
        "outputId": "f99f9f9d-f5f5-49cd-a8a2-a655a2b9d1c6"
      },
      "source": [
        "fitted_pipe.predict(\"This was awful!\")"
      ],
      "execution_count": null,
      "outputs": [
        {
          "output_type": "execute_result",
          "data": {
            "text/html": [
              "<div>\n",
              "<style scoped>\n",
              "    .dataframe tbody tr th:only-of-type {\n",
              "        vertical-align: middle;\n",
              "    }\n",
              "\n",
              "    .dataframe tbody tr th {\n",
              "        vertical-align: top;\n",
              "    }\n",
              "\n",
              "    .dataframe thead th {\n",
              "        text-align: right;\n",
              "    }\n",
              "</style>\n",
              "<table border=\"1\" class=\"dataframe\">\n",
              "  <thead>\n",
              "    <tr style=\"text-align: right;\">\n",
              "      <th></th>\n",
              "      <th>xx_embed_sentence_labse_embeddings</th>\n",
              "      <th>sentiment</th>\n",
              "      <th>document</th>\n",
              "      <th>sentiment_confidence</th>\n",
              "    </tr>\n",
              "    <tr>\n",
              "      <th>origin_index</th>\n",
              "      <th></th>\n",
              "      <th></th>\n",
              "      <th></th>\n",
              "      <th></th>\n",
              "    </tr>\n",
              "  </thead>\n",
              "  <tbody>\n",
              "    <tr>\n",
              "      <th>0</th>\n",
              "      <td>[0.034723345190286636, -0.06212149187922478, -...</td>\n",
              "      <td>negative</td>\n",
              "      <td>This was awful!</td>\n",
              "      <td>0.999652</td>\n",
              "    </tr>\n",
              "  </tbody>\n",
              "</table>\n",
              "</div>"
            ],
            "text/plain": [
              "                             xx_embed_sentence_labse_embeddings  ... sentiment_confidence\n",
              "origin_index                                                     ...                     \n",
              "0             [0.034723345190286636, -0.06212149187922478, -...  ...             0.999652\n",
              "\n",
              "[1 rows x 4 columns]"
            ]
          },
          "metadata": {
            "tags": []
          },
          "execution_count": 5
        }
      ]
    },
    {
      "cell_type": "code",
      "metadata": {
        "colab": {
          "base_uri": "https://localhost:8080/",
          "height": 110
        },
        "id": "1ykjRQhCtQ4w",
        "outputId": "433cc76c-af68-4308-b6a0-8b86435f29da"
      },
      "source": [
        "fitted_pipe.predict(\"This was great!\")"
      ],
      "execution_count": null,
      "outputs": [
        {
          "output_type": "execute_result",
          "data": {
            "text/html": [
              "<div>\n",
              "<style scoped>\n",
              "    .dataframe tbody tr th:only-of-type {\n",
              "        vertical-align: middle;\n",
              "    }\n",
              "\n",
              "    .dataframe tbody tr th {\n",
              "        vertical-align: top;\n",
              "    }\n",
              "\n",
              "    .dataframe thead th {\n",
              "        text-align: right;\n",
              "    }\n",
              "</style>\n",
              "<table border=\"1\" class=\"dataframe\">\n",
              "  <thead>\n",
              "    <tr style=\"text-align: right;\">\n",
              "      <th></th>\n",
              "      <th>xx_embed_sentence_labse_embeddings</th>\n",
              "      <th>sentiment</th>\n",
              "      <th>document</th>\n",
              "      <th>sentiment_confidence</th>\n",
              "    </tr>\n",
              "    <tr>\n",
              "      <th>origin_index</th>\n",
              "      <th></th>\n",
              "      <th></th>\n",
              "      <th></th>\n",
              "      <th></th>\n",
              "    </tr>\n",
              "  </thead>\n",
              "  <tbody>\n",
              "    <tr>\n",
              "      <th>0</th>\n",
              "      <td>[0.03868240490555763, -0.058592554181814194, -...</td>\n",
              "      <td>positive</td>\n",
              "      <td>This was great!</td>\n",
              "      <td>0.999994</td>\n",
              "    </tr>\n",
              "  </tbody>\n",
              "</table>\n",
              "</div>"
            ],
            "text/plain": [
              "                             xx_embed_sentence_labse_embeddings  ... sentiment_confidence\n",
              "origin_index                                                     ...                     \n",
              "0             [0.03868240490555763, -0.058592554181814194, -...  ...             0.999994\n",
              "\n",
              "[1 rows x 4 columns]"
            ]
          },
          "metadata": {
            "tags": []
          },
          "execution_count": 6
        }
      ]
    },
    {
      "cell_type": "markdown",
      "metadata": {
        "id": "vohym-XbuNHn"
      },
      "source": [
        "#### The Model understands German\n",
        "![de](https://www.worldometers.info/img/flags/small/tn_gm-flag.gif)"
      ]
    },
    {
      "cell_type": "code",
      "metadata": {
        "colab": {
          "base_uri": "https://localhost:8080/",
          "height": 110
        },
        "id": "dzaaZrI4tVWc",
        "outputId": "6a5f31a3-8438-4860-d17b-b4135a391cab"
      },
      "source": [
        "# German for:' this movie was great!'\n",
        "fitted_pipe.predict(\"Der Film war echt klasse!\")"
      ],
      "execution_count": null,
      "outputs": [
        {
          "output_type": "execute_result",
          "data": {
            "text/html": [
              "<div>\n",
              "<style scoped>\n",
              "    .dataframe tbody tr th:only-of-type {\n",
              "        vertical-align: middle;\n",
              "    }\n",
              "\n",
              "    .dataframe tbody tr th {\n",
              "        vertical-align: top;\n",
              "    }\n",
              "\n",
              "    .dataframe thead th {\n",
              "        text-align: right;\n",
              "    }\n",
              "</style>\n",
              "<table border=\"1\" class=\"dataframe\">\n",
              "  <thead>\n",
              "    <tr style=\"text-align: right;\">\n",
              "      <th></th>\n",
              "      <th>xx_embed_sentence_labse_embeddings</th>\n",
              "      <th>sentiment</th>\n",
              "      <th>document</th>\n",
              "      <th>sentiment_confidence</th>\n",
              "    </tr>\n",
              "    <tr>\n",
              "      <th>origin_index</th>\n",
              "      <th></th>\n",
              "      <th></th>\n",
              "      <th></th>\n",
              "      <th></th>\n",
              "    </tr>\n",
              "  </thead>\n",
              "  <tbody>\n",
              "    <tr>\n",
              "      <th>0</th>\n",
              "      <td>[-0.015189268626272678, -0.04834830388426781, ...</td>\n",
              "      <td>positive</td>\n",
              "      <td>Der Film war echt klasse!</td>\n",
              "      <td>0.999732</td>\n",
              "    </tr>\n",
              "  </tbody>\n",
              "</table>\n",
              "</div>"
            ],
            "text/plain": [
              "                             xx_embed_sentence_labse_embeddings  ... sentiment_confidence\n",
              "origin_index                                                     ...                     \n",
              "0             [-0.015189268626272678, -0.04834830388426781, ...  ...             0.999732\n",
              "\n",
              "[1 rows x 4 columns]"
            ]
          },
          "metadata": {
            "tags": []
          },
          "execution_count": 8
        }
      ]
    },
    {
      "cell_type": "code",
      "metadata": {
        "colab": {
          "base_uri": "https://localhost:8080/",
          "height": 110
        },
        "id": "BbhgTSBGtTtJ",
        "outputId": "ee0b2fdf-ea41-4b99-dbc4-690e47556e38"
      },
      "source": [
        "# German for: 'This movie was really boring'\n",
        "fitted_pipe.predict(\"Der Film war echt langweilig!\")"
      ],
      "execution_count": null,
      "outputs": [
        {
          "output_type": "execute_result",
          "data": {
            "text/html": [
              "<div>\n",
              "<style scoped>\n",
              "    .dataframe tbody tr th:only-of-type {\n",
              "        vertical-align: middle;\n",
              "    }\n",
              "\n",
              "    .dataframe tbody tr th {\n",
              "        vertical-align: top;\n",
              "    }\n",
              "\n",
              "    .dataframe thead th {\n",
              "        text-align: right;\n",
              "    }\n",
              "</style>\n",
              "<table border=\"1\" class=\"dataframe\">\n",
              "  <thead>\n",
              "    <tr style=\"text-align: right;\">\n",
              "      <th></th>\n",
              "      <th>xx_embed_sentence_labse_embeddings</th>\n",
              "      <th>sentiment</th>\n",
              "      <th>document</th>\n",
              "      <th>sentiment_confidence</th>\n",
              "    </tr>\n",
              "    <tr>\n",
              "      <th>origin_index</th>\n",
              "      <th></th>\n",
              "      <th></th>\n",
              "      <th></th>\n",
              "      <th></th>\n",
              "    </tr>\n",
              "  </thead>\n",
              "  <tbody>\n",
              "    <tr>\n",
              "      <th>0</th>\n",
              "      <td>[-0.013573350384831429, -0.05144454166293144, ...</td>\n",
              "      <td>negative</td>\n",
              "      <td>Der Film war echt langweilig!</td>\n",
              "      <td>0.999968</td>\n",
              "    </tr>\n",
              "  </tbody>\n",
              "</table>\n",
              "</div>"
            ],
            "text/plain": [
              "                             xx_embed_sentence_labse_embeddings  ... sentiment_confidence\n",
              "origin_index                                                     ...                     \n",
              "0             [-0.013573350384831429, -0.05144454166293144, ...  ...             0.999968\n",
              "\n",
              "[1 rows x 4 columns]"
            ]
          },
          "metadata": {
            "tags": []
          },
          "execution_count": 9
        }
      ]
    },
    {
      "cell_type": "markdown",
      "metadata": {
        "id": "a1JbtmWquQwj"
      },
      "source": [
        "#### The Model understands Chinese\n",
        "![zh](https://www.worldometers.info/img/flags/small/tn_ch-flag.gif)"
      ]
    },
    {
      "cell_type": "code",
      "metadata": {
        "colab": {
          "base_uri": "https://localhost:8080/",
          "height": 110
        },
        "id": "kYSYqtoRtc-P",
        "outputId": "e7de8c84-d564-4c0f-f110-62334aa3ba3c"
      },
      "source": [
        "# Chinese for: \"This model was awful!\"\n",
        "fitted_pipe.predict(\"这部电影太糟糕了！\")"
      ],
      "execution_count": null,
      "outputs": [
        {
          "output_type": "execute_result",
          "data": {
            "text/html": [
              "<div>\n",
              "<style scoped>\n",
              "    .dataframe tbody tr th:only-of-type {\n",
              "        vertical-align: middle;\n",
              "    }\n",
              "\n",
              "    .dataframe tbody tr th {\n",
              "        vertical-align: top;\n",
              "    }\n",
              "\n",
              "    .dataframe thead th {\n",
              "        text-align: right;\n",
              "    }\n",
              "</style>\n",
              "<table border=\"1\" class=\"dataframe\">\n",
              "  <thead>\n",
              "    <tr style=\"text-align: right;\">\n",
              "      <th></th>\n",
              "      <th>xx_embed_sentence_labse_embeddings</th>\n",
              "      <th>sentiment</th>\n",
              "      <th>document</th>\n",
              "      <th>sentiment_confidence</th>\n",
              "    </tr>\n",
              "    <tr>\n",
              "      <th>origin_index</th>\n",
              "      <th></th>\n",
              "      <th></th>\n",
              "      <th></th>\n",
              "      <th></th>\n",
              "    </tr>\n",
              "  </thead>\n",
              "  <tbody>\n",
              "    <tr>\n",
              "      <th>0</th>\n",
              "      <td>[-0.05075530335307121, -0.061598796397447586, ...</td>\n",
              "      <td>negative</td>\n",
              "      <td>这部电影太糟糕了！</td>\n",
              "      <td>1.000000</td>\n",
              "    </tr>\n",
              "  </tbody>\n",
              "</table>\n",
              "</div>"
            ],
            "text/plain": [
              "                             xx_embed_sentence_labse_embeddings  ... sentiment_confidence\n",
              "origin_index                                                     ...                     \n",
              "0             [-0.05075530335307121, -0.061598796397447586, ...  ...             1.000000\n",
              "\n",
              "[1 rows x 4 columns]"
            ]
          },
          "metadata": {
            "tags": []
          },
          "execution_count": 10
        }
      ]
    },
    {
      "cell_type": "code",
      "metadata": {
        "colab": {
          "base_uri": "https://localhost:8080/",
          "height": 110
        },
        "id": "06v9SD-QtlBU",
        "outputId": "7b3ed8e3-3d64-42ae-98f9-12ac8f931b51"
      },
      "source": [
        "# Chine for : \"This move was great!\"\n",
        "fitted_pipe.predict(\"此举很棒！\")\n"
      ],
      "execution_count": null,
      "outputs": [
        {
          "output_type": "execute_result",
          "data": {
            "text/html": [
              "<div>\n",
              "<style scoped>\n",
              "    .dataframe tbody tr th:only-of-type {\n",
              "        vertical-align: middle;\n",
              "    }\n",
              "\n",
              "    .dataframe tbody tr th {\n",
              "        vertical-align: top;\n",
              "    }\n",
              "\n",
              "    .dataframe thead th {\n",
              "        text-align: right;\n",
              "    }\n",
              "</style>\n",
              "<table border=\"1\" class=\"dataframe\">\n",
              "  <thead>\n",
              "    <tr style=\"text-align: right;\">\n",
              "      <th></th>\n",
              "      <th>xx_embed_sentence_labse_embeddings</th>\n",
              "      <th>sentiment</th>\n",
              "      <th>document</th>\n",
              "      <th>sentiment_confidence</th>\n",
              "    </tr>\n",
              "    <tr>\n",
              "      <th>origin_index</th>\n",
              "      <th></th>\n",
              "      <th></th>\n",
              "      <th></th>\n",
              "      <th></th>\n",
              "    </tr>\n",
              "  </thead>\n",
              "  <tbody>\n",
              "    <tr>\n",
              "      <th>0</th>\n",
              "      <td>[0.026034891605377197, -0.06586713343858719, -...</td>\n",
              "      <td>positive</td>\n",
              "      <td>此举很棒！</td>\n",
              "      <td>0.999995</td>\n",
              "    </tr>\n",
              "  </tbody>\n",
              "</table>\n",
              "</div>"
            ],
            "text/plain": [
              "                             xx_embed_sentence_labse_embeddings  ... sentiment_confidence\n",
              "origin_index                                                     ...                     \n",
              "0             [0.026034891605377197, -0.06586713343858719, -...  ...             0.999995\n",
              "\n",
              "[1 rows x 4 columns]"
            ]
          },
          "metadata": {
            "tags": []
          },
          "execution_count": 11
        }
      ]
    },
    {
      "cell_type": "markdown",
      "metadata": {
        "id": "9h7CvN4uu9Pb"
      },
      "source": [
        "#### Model understanda Afrikaans\n",
        "\n",
        "![af](https://www.worldometers.info/img/flags/small/tn_sf-flag.gif)\n",
        "\n"
      ]
    },
    {
      "cell_type": "code",
      "metadata": {
        "colab": {
          "base_uri": "https://localhost:8080/",
          "height": 110
        },
        "id": "VMPhbgw9twtf",
        "outputId": "e8e2f16e-c7d7-4c76-8a7d-e11fdac1ff16"
      },
      "source": [
        "# Afrikaans for 'This movie was amazing!'\n",
        "fitted_pipe.predict(\"Hierdie film was ongelooflik!\")\n"
      ],
      "execution_count": null,
      "outputs": [
        {
          "output_type": "execute_result",
          "data": {
            "text/html": [
              "<div>\n",
              "<style scoped>\n",
              "    .dataframe tbody tr th:only-of-type {\n",
              "        vertical-align: middle;\n",
              "    }\n",
              "\n",
              "    .dataframe tbody tr th {\n",
              "        vertical-align: top;\n",
              "    }\n",
              "\n",
              "    .dataframe thead th {\n",
              "        text-align: right;\n",
              "    }\n",
              "</style>\n",
              "<table border=\"1\" class=\"dataframe\">\n",
              "  <thead>\n",
              "    <tr style=\"text-align: right;\">\n",
              "      <th></th>\n",
              "      <th>xx_embed_sentence_labse_embeddings</th>\n",
              "      <th>sentiment</th>\n",
              "      <th>document</th>\n",
              "      <th>sentiment_confidence</th>\n",
              "    </tr>\n",
              "    <tr>\n",
              "      <th>origin_index</th>\n",
              "      <th></th>\n",
              "      <th></th>\n",
              "      <th></th>\n",
              "      <th></th>\n",
              "    </tr>\n",
              "  </thead>\n",
              "  <tbody>\n",
              "    <tr>\n",
              "      <th>0</th>\n",
              "      <td>[-0.019771253690123558, -0.02687731385231018, ...</td>\n",
              "      <td>positive</td>\n",
              "      <td>Hierdie film was ongelooflik!</td>\n",
              "      <td>0.857431</td>\n",
              "    </tr>\n",
              "  </tbody>\n",
              "</table>\n",
              "</div>"
            ],
            "text/plain": [
              "                             xx_embed_sentence_labse_embeddings  ... sentiment_confidence\n",
              "origin_index                                                     ...                     \n",
              "0             [-0.019771253690123558, -0.02687731385231018, ...  ...             0.857431\n",
              "\n",
              "[1 rows x 4 columns]"
            ]
          },
          "metadata": {
            "tags": []
          },
          "execution_count": 12
        }
      ]
    },
    {
      "cell_type": "code",
      "metadata": {
        "colab": {
          "base_uri": "https://localhost:8080/",
          "height": 110
        },
        "id": "zWgNTIdkumhX",
        "outputId": "6ec3643a-5729-4f52-cc64-e1ee58a2f9d6"
      },
      "source": [
        "# Afrikaans for :'The movie made me fall asleep, it's awful!'\n",
        "fitted_pipe.predict('Die film het my aan die slaap laat raak, dit is verskriklik!')"
      ],
      "execution_count": null,
      "outputs": [
        {
          "output_type": "execute_result",
          "data": {
            "text/html": [
              "<div>\n",
              "<style scoped>\n",
              "    .dataframe tbody tr th:only-of-type {\n",
              "        vertical-align: middle;\n",
              "    }\n",
              "\n",
              "    .dataframe tbody tr th {\n",
              "        vertical-align: top;\n",
              "    }\n",
              "\n",
              "    .dataframe thead th {\n",
              "        text-align: right;\n",
              "    }\n",
              "</style>\n",
              "<table border=\"1\" class=\"dataframe\">\n",
              "  <thead>\n",
              "    <tr style=\"text-align: right;\">\n",
              "      <th></th>\n",
              "      <th>xx_embed_sentence_labse_embeddings</th>\n",
              "      <th>sentiment</th>\n",
              "      <th>document</th>\n",
              "      <th>sentiment_confidence</th>\n",
              "    </tr>\n",
              "    <tr>\n",
              "      <th>origin_index</th>\n",
              "      <th></th>\n",
              "      <th></th>\n",
              "      <th></th>\n",
              "      <th></th>\n",
              "    </tr>\n",
              "  </thead>\n",
              "  <tbody>\n",
              "    <tr>\n",
              "      <th>0</th>\n",
              "      <td>[-0.05065516009926796, -0.017065495252609253, ...</td>\n",
              "      <td>negative</td>\n",
              "      <td>Die film het my aan die slaap laat raak, dit i...</td>\n",
              "      <td>0.999985</td>\n",
              "    </tr>\n",
              "  </tbody>\n",
              "</table>\n",
              "</div>"
            ],
            "text/plain": [
              "                             xx_embed_sentence_labse_embeddings  ... sentiment_confidence\n",
              "origin_index                                                     ...                     \n",
              "0             [-0.05065516009926796, -0.017065495252609253, ...  ...             0.999985\n",
              "\n",
              "[1 rows x 4 columns]"
            ]
          },
          "metadata": {
            "tags": []
          },
          "execution_count": 13
        }
      ]
    },
    {
      "cell_type": "markdown",
      "metadata": {
        "id": "rSEPkC-Bwnpg"
      },
      "source": [
        "#### The model understands Vietnamese\n",
        "![vi](https://www.worldometers.info/img/flags/small/tn_vm-flag.gif)"
      ]
    },
    {
      "cell_type": "code",
      "metadata": {
        "colab": {
          "base_uri": "https://localhost:8080/",
          "height": 110
        },
        "id": "wCcTS5gIu511",
        "outputId": "d545032e-0f0d-4660-ddc3-dcc81dd342b4"
      },
      "source": [
        "# Vietnamese for : 'The movie was painful to watch'\n",
        "fitted_pipe.predict('Phim đau điếng người xem')\n"
      ],
      "execution_count": null,
      "outputs": [
        {
          "output_type": "execute_result",
          "data": {
            "text/html": [
              "<div>\n",
              "<style scoped>\n",
              "    .dataframe tbody tr th:only-of-type {\n",
              "        vertical-align: middle;\n",
              "    }\n",
              "\n",
              "    .dataframe tbody tr th {\n",
              "        vertical-align: top;\n",
              "    }\n",
              "\n",
              "    .dataframe thead th {\n",
              "        text-align: right;\n",
              "    }\n",
              "</style>\n",
              "<table border=\"1\" class=\"dataframe\">\n",
              "  <thead>\n",
              "    <tr style=\"text-align: right;\">\n",
              "      <th></th>\n",
              "      <th>xx_embed_sentence_labse_embeddings</th>\n",
              "      <th>sentiment</th>\n",
              "      <th>document</th>\n",
              "      <th>sentiment_confidence</th>\n",
              "    </tr>\n",
              "    <tr>\n",
              "      <th>origin_index</th>\n",
              "      <th></th>\n",
              "      <th></th>\n",
              "      <th></th>\n",
              "      <th></th>\n",
              "    </tr>\n",
              "  </thead>\n",
              "  <tbody>\n",
              "    <tr>\n",
              "      <th>0</th>\n",
              "      <td>[-0.05414637178182602, 0.041687943041324615, -...</td>\n",
              "      <td>negative</td>\n",
              "      <td>Phim đau điếng người xem</td>\n",
              "      <td>1.000000</td>\n",
              "    </tr>\n",
              "  </tbody>\n",
              "</table>\n",
              "</div>"
            ],
            "text/plain": [
              "                             xx_embed_sentence_labse_embeddings  ... sentiment_confidence\n",
              "origin_index                                                     ...                     \n",
              "0             [-0.05414637178182602, 0.041687943041324615, -...  ...             1.000000\n",
              "\n",
              "[1 rows x 4 columns]"
            ]
          },
          "metadata": {
            "tags": []
          },
          "execution_count": 14
        }
      ]
    },
    {
      "cell_type": "code",
      "metadata": {
        "colab": {
          "base_uri": "https://localhost:8080/",
          "height": 110
        },
        "id": "M6giDPK-wm2G",
        "outputId": "4eb90934-b40c-497e-f15c-1060c13ea075"
      },
      "source": [
        "\n",
        "# Vietnamese for : 'This was the best movie ever'\n",
        "fitted_pipe.predict('Đây là bộ phim hay nhất từ ​​trước đến nay')"
      ],
      "execution_count": null,
      "outputs": [
        {
          "output_type": "execute_result",
          "data": {
            "text/html": [
              "<div>\n",
              "<style scoped>\n",
              "    .dataframe tbody tr th:only-of-type {\n",
              "        vertical-align: middle;\n",
              "    }\n",
              "\n",
              "    .dataframe tbody tr th {\n",
              "        vertical-align: top;\n",
              "    }\n",
              "\n",
              "    .dataframe thead th {\n",
              "        text-align: right;\n",
              "    }\n",
              "</style>\n",
              "<table border=\"1\" class=\"dataframe\">\n",
              "  <thead>\n",
              "    <tr style=\"text-align: right;\">\n",
              "      <th></th>\n",
              "      <th>xx_embed_sentence_labse_embeddings</th>\n",
              "      <th>sentiment</th>\n",
              "      <th>document</th>\n",
              "      <th>sentiment_confidence</th>\n",
              "    </tr>\n",
              "    <tr>\n",
              "      <th>origin_index</th>\n",
              "      <th></th>\n",
              "      <th></th>\n",
              "      <th></th>\n",
              "      <th></th>\n",
              "    </tr>\n",
              "  </thead>\n",
              "  <tbody>\n",
              "    <tr>\n",
              "      <th>0</th>\n",
              "      <td>[-0.035795845091342926, -0.005844905506819487,...</td>\n",
              "      <td>neutral</td>\n",
              "      <td>Đây là bộ phim hay nhất từ ​​trước đến nay</td>\n",
              "      <td>0.582394</td>\n",
              "    </tr>\n",
              "  </tbody>\n",
              "</table>\n",
              "</div>"
            ],
            "text/plain": [
              "                             xx_embed_sentence_labse_embeddings  ... sentiment_confidence\n",
              "origin_index                                                     ...                     \n",
              "0             [-0.035795845091342926, -0.005844905506819487,...  ...             0.582394\n",
              "\n",
              "[1 rows x 4 columns]"
            ]
          },
          "metadata": {
            "tags": []
          },
          "execution_count": 15
        }
      ]
    },
    {
      "cell_type": "markdown",
      "metadata": {
        "id": "IlkmAaMoxTuy"
      },
      "source": [
        "#### The model understands Japanese\n",
        "![ja](https://www.worldometers.info/img/flags/small/tn_ja-flag.gif)\n"
      ]
    },
    {
      "cell_type": "code",
      "metadata": {
        "colab": {
          "base_uri": "https://localhost:8080/",
          "height": 110
        },
        "id": "1IfJu3q8wwUt",
        "outputId": "c6d7ad98-d6f3-4baa-b323-2c7b22e9538e"
      },
      "source": [
        "\n",
        "# Japanese for : 'This is now my favorite movie!'\n",
        "fitted_pipe.predict('これが私のお気に入りの映画です！')"
      ],
      "execution_count": null,
      "outputs": [
        {
          "output_type": "execute_result",
          "data": {
            "text/html": [
              "<div>\n",
              "<style scoped>\n",
              "    .dataframe tbody tr th:only-of-type {\n",
              "        vertical-align: middle;\n",
              "    }\n",
              "\n",
              "    .dataframe tbody tr th {\n",
              "        vertical-align: top;\n",
              "    }\n",
              "\n",
              "    .dataframe thead th {\n",
              "        text-align: right;\n",
              "    }\n",
              "</style>\n",
              "<table border=\"1\" class=\"dataframe\">\n",
              "  <thead>\n",
              "    <tr style=\"text-align: right;\">\n",
              "      <th></th>\n",
              "      <th>xx_embed_sentence_labse_embeddings</th>\n",
              "      <th>sentiment</th>\n",
              "      <th>document</th>\n",
              "      <th>sentiment_confidence</th>\n",
              "    </tr>\n",
              "    <tr>\n",
              "      <th>origin_index</th>\n",
              "      <th></th>\n",
              "      <th></th>\n",
              "      <th></th>\n",
              "      <th></th>\n",
              "    </tr>\n",
              "  </thead>\n",
              "  <tbody>\n",
              "    <tr>\n",
              "      <th>0</th>\n",
              "      <td>[-0.00634439941495657, -0.03161682188510895, -...</td>\n",
              "      <td>positive</td>\n",
              "      <td>これが私のお気に入りの映画です！</td>\n",
              "      <td>0.999911</td>\n",
              "    </tr>\n",
              "  </tbody>\n",
              "</table>\n",
              "</div>"
            ],
            "text/plain": [
              "                             xx_embed_sentence_labse_embeddings  ... sentiment_confidence\n",
              "origin_index                                                     ...                     \n",
              "0             [-0.00634439941495657, -0.03161682188510895, -...  ...             0.999911\n",
              "\n",
              "[1 rows x 4 columns]"
            ]
          },
          "metadata": {
            "tags": []
          },
          "execution_count": 16
        }
      ]
    },
    {
      "cell_type": "code",
      "metadata": {
        "colab": {
          "base_uri": "https://localhost:8080/",
          "height": 110
        },
        "id": "h3k7_PFhxOve",
        "outputId": "5278b9a0-b621-4922-ab7d-3dd1709ca616"
      },
      "source": [
        "\n",
        "# Japanese for : 'I would rather kill myself than watch that movie again'\n",
        "fitted_pipe.predict('その映画をもう一度見るよりも自殺したい')"
      ],
      "execution_count": null,
      "outputs": [
        {
          "output_type": "execute_result",
          "data": {
            "text/html": [
              "<div>\n",
              "<style scoped>\n",
              "    .dataframe tbody tr th:only-of-type {\n",
              "        vertical-align: middle;\n",
              "    }\n",
              "\n",
              "    .dataframe tbody tr th {\n",
              "        vertical-align: top;\n",
              "    }\n",
              "\n",
              "    .dataframe thead th {\n",
              "        text-align: right;\n",
              "    }\n",
              "</style>\n",
              "<table border=\"1\" class=\"dataframe\">\n",
              "  <thead>\n",
              "    <tr style=\"text-align: right;\">\n",
              "      <th></th>\n",
              "      <th>xx_embed_sentence_labse_embeddings</th>\n",
              "      <th>sentiment</th>\n",
              "      <th>document</th>\n",
              "      <th>sentiment_confidence</th>\n",
              "    </tr>\n",
              "    <tr>\n",
              "      <th>origin_index</th>\n",
              "      <th></th>\n",
              "      <th></th>\n",
              "      <th></th>\n",
              "      <th></th>\n",
              "    </tr>\n",
              "  </thead>\n",
              "  <tbody>\n",
              "    <tr>\n",
              "      <th>0</th>\n",
              "      <td>[-0.04823154956102371, -0.03692080080509186, -...</td>\n",
              "      <td>negative</td>\n",
              "      <td>その映画をもう一度見るよりも自殺したい</td>\n",
              "      <td>0.999901</td>\n",
              "    </tr>\n",
              "  </tbody>\n",
              "</table>\n",
              "</div>"
            ],
            "text/plain": [
              "                             xx_embed_sentence_labse_embeddings  ... sentiment_confidence\n",
              "origin_index                                                     ...                     \n",
              "0             [-0.04823154956102371, -0.03692080080509186, -...  ...             0.999901\n",
              "\n",
              "[1 rows x 4 columns]"
            ]
          },
          "metadata": {
            "tags": []
          },
          "execution_count": 17
        }
      ]
    },
    {
      "cell_type": "markdown",
      "metadata": {
        "id": "VXu21c0iQRSC"
      },
      "source": [
        "# There are many more models you can put to use in 1 line of code!\n",
        "## Checkout [the Modelshub](https://nlp.johnsnowlabs.com/models) and the [NLU Namespace](https://nlu.johnsnowlabs.com/docs/en/spellbook) for more models\n",
        "\n",
        "\n",
        "### More ressources \n",
        "- [Join our Slack](https://join.slack.com/t/spark-nlp/shared_invite/zt-lutct9gm-kuUazcyFKhuGY3_0AMkxqA)\n",
        "- [NLU Website](https://nlu.johnsnowlabs.com/)\n",
        "- [NLU Github](https://github.com/JohnSnowLabs/nlu)\n",
        "- [Many more NLU example tutorials](https://github.com/JohnSnowLabs/nlu/tree/master/examples)\n",
        "- [Overview of every powerful nlu 1-liner](https://nlu.johnsnowlabs.com/docs/en/examples)\n",
        "- [Checkout the Modelshub for an overview of all models](https://nlp.johnsnowlabs.com/models) \n",
        "- [Checkout the NLU Namespace where you can find every model as a tabel](https://nlu.johnsnowlabs.com/docs/en/spellbook)\n",
        "- [Intro to NLU article](https://medium.com/spark-nlp/1-line-of-code-350-nlp-models-with-john-snow-labs-nlu-in-python-2f1c55bba619)\n",
        "- [Indepth and easy Sentence Similarity Tutorial, with StackOverflow Questions using BERTology embeddings](https://medium.com/spark-nlp/easy-sentence-similarity-with-bert-sentence-embeddings-using-john-snow-labs-nlu-ea078deb6ebf)\n",
        "- [1 line of Python code for BERT, ALBERT, ELMO, ELECTRA, XLNET, GLOVE, Part of Speech with NLU and t-SNE](https://medium.com/spark-nlp/1-line-of-code-for-bert-albert-elmo-electra-xlnet-glove-part-of-speech-with-nlu-and-t-sne-9ebcd5379cd)"
      ]
    },
    {
      "cell_type": "code",
      "metadata": {
        "id": "R8hBZm_zo5EI"
      },
      "source": [
        "while 1 : 1 "
      ],
      "execution_count": null,
      "outputs": []
    },
    {
      "cell_type": "code",
      "metadata": {
        "id": "zdr_NKxBqwRP"
      },
      "source": [
        ""
      ],
      "execution_count": null,
      "outputs": []
    }
  ]
}